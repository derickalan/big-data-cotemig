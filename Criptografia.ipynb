{
  "nbformat": 4,
  "nbformat_minor": 0,
  "metadata": {
    "colab": {
      "name": "Criptografia.ipynb",
      "version": "0.3.2",
      "provenance": [],
      "collapsed_sections": [],
      "include_colab_link": true
    },
    "kernelspec": {
      "name": "python3",
      "display_name": "Python 3"
    }
  },
  "cells": [
    {
      "cell_type": "markdown",
      "metadata": {
        "id": "view-in-github",
        "colab_type": "text"
      },
      "source": [
        "<a href=\"https://colab.research.google.com/github/derickalan/big-data-cotemig/blob/master/Criptografia.ipynb\" target=\"_parent\"><img src=\"https://colab.research.google.com/assets/colab-badge.svg\" alt=\"Open In Colab\"/></a>"
      ]
    },
    {
      "cell_type": "markdown",
      "metadata": {
        "id": "r0MnHaE0rXi4",
        "colab_type": "text"
      },
      "source": [
        "#**Criptografia**\n",
        "(... em andamento)"
      ]
    },
    {
      "cell_type": "markdown",
      "metadata": {
        "id": "o0q5qpKsrUoI",
        "colab_type": "text"
      },
      "source": [
        "\n",
        "\n",
        "Nesta tarefa, você construirá dois sistemas criptográficos diferentes - cifra de César e cifra de Vigenere. Este material irá guiá-lo através dos detalhes da construção destes sistemas de criptografia baseada em texto. Queremos estimular boas práticas de Python desde o começo - então nós encorajamos você a pensar criticamente sobre como escrever código Python limpo.\n",
        "\n",
        "**Criando as Cifras**\n",
        "\n",
        "Nesta seção, você criará funções de criptografia para criptografar e descriptografar mensagens. Vamos dar uma breve visão geral de cada código.\n",
        "\n",
        "**Cifra de César**\n",
        "\n",
        "Uma cifra de César envolve a mudança de cada caractere em um texto simples por três letras adiante:\n",
        "\n",
        "\n",
        "A -> D, B -> E, C -> F, etc...\n",
        "\n",
        "No final do alfabeto, o mapeamento de cifra volta ao início, portanto:\n",
        "\n",
        "..., X -> A, Y -> B, Z -> C.\n",
        "\n",
        "Por exemplo, criptografar 'PYTHON' usando uma cifra de Caesar dá\n",
        "\n",
        "PYTHON\n",
        "||||||\n",
        "SBWKRQ\n",
        "Nesta parte, implemente as funções:\n",
        "\n",
        "encrypt_caesar(plaintext)\n",
        "decrypt_caesar(ciphertext)\n",
        "\n",
        "Cada uma dessas funções leva um argumento, uma cadeia representando uma mensagem a ser criptografada ou descriptografada, e retorna uma cadeia representando a mensagem criptografada ou descriptografada.\n",
        "\n",
        "**Notas:**\n",
        "\n",
        "Caracteres não alfabéticos não devem ser modificados.\n",
        "\n",
        "Você pode assumir que todos os caracteres alfabéticos estarão em maiúsculas.\n",
        "\n",
        "Não assuma que os argumentos para essa função sempre tenham pelo menos um caractere.\n",
        "\n",
        "Isto é, encrypt_caesar (\" \") deve retornar \" \" (a string vazia) e encrypt_caesar (\"F1RST P0ST\") deve retornar \"I1UVW S0VW\"."
      ]
    }
  ]
}