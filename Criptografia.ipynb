{
  "nbformat": 4,
  "nbformat_minor": 0,
  "metadata": {
    "colab": {
      "name": "Criptografia.ipynb",
      "version": "0.3.2",
      "provenance": [],
      "collapsed_sections": [],
      "include_colab_link": true
    },
    "kernelspec": {
      "name": "python3",
      "display_name": "Python 3"
    }
  },
  "cells": [
    {
      "cell_type": "markdown",
      "metadata": {
        "id": "view-in-github",
        "colab_type": "text"
      },
      "source": [
        "<a href=\"https://colab.research.google.com/github/derickalan/big-data-cotemig/blob/master/Criptografia.ipynb\" target=\"_parent\"><img src=\"https://colab.research.google.com/assets/colab-badge.svg\" alt=\"Open In Colab\"/></a>"
      ]
    },
    {
      "cell_type": "markdown",
      "metadata": {
        "id": "r0MnHaE0rXi4",
        "colab_type": "text"
      },
      "source": [
        "#**Criptografia**\n",
        "(... em andamento)"
      ]
    },
    {
      "cell_type": "markdown",
      "metadata": {
        "id": "o0q5qpKsrUoI",
        "colab_type": "text"
      },
      "source": [
        "\n",
        "\n",
        "Nesta tarefa, você construirá dois sistemas criptográficos diferentes - cifra de César e cifra de Vigenere. Este material irá guiá-lo através dos detalhes da construção destes sistemas de criptografia baseada em texto. Queremos estimular boas práticas de Python desde o começo - então nós encorajamos você a pensar criticamente sobre como escrever código Python limpo.\n",
        "\n",
        "**Criando as Cifras**\n",
        "\n",
        "Nesta seção, você criará funções de criptografia para criptografar e descriptografar mensagens. Vamos dar uma breve visão geral de cada código.\n",
        "\n",
        "**Cifra de César**\n",
        "\n",
        "Uma cifra de César envolve a mudança de cada caractere em um texto simples por três letras adiante:\n",
        "\n",
        "\n",
        "A -> D, B -> E, C -> F, etc...\n",
        "\n",
        "No final do alfabeto, o mapeamento de cifra volta ao início, portanto:\n",
        "\n",
        "..., X -> A, Y -> B, Z -> C.\n",
        "\n",
        "Por exemplo, criptografar 'PYTHON' usando uma cifra de Caesar dá\n",
        "\n",
        "PYTHON\n",
        "||||||\n",
        "SBWKRQ\n",
        "Nesta parte, implemente as funções:\n",
        "\n",
        "encrypt_caesar(plaintext)\n",
        "decrypt_caesar(ciphertext)\n",
        "\n",
        "Cada uma dessas funções leva um argumento, uma cadeia representando uma mensagem a ser criptografada ou descriptografada, e retorna uma cadeia representando a mensagem criptografada ou descriptografada.\n",
        "\n",
        "**Notas:**\n",
        "\n",
        "Caracteres não alfabéticos não devem ser modificados.\n",
        "\n",
        "Você pode assumir que todos os caracteres alfabéticos estarão em maiúsculas.\n",
        "\n",
        "Não assuma que os argumentos para essa função sempre tenham pelo menos um caractere.\n",
        "\n",
        "Isto é, encrypt_caesar (\" \") deve retornar \" \" (a string vazia) e encrypt_caesar (\"F1RST P0ST\") deve retornar \"I1UVW S0VW\"."
      ]
    },
    {
      "cell_type": "code",
      "metadata": {
        "id": "IyBVDeca2XTq",
        "colab_type": "code",
        "colab": {}
      },
      "source": [
        "def encrypt_caesar(plaintext):\n",
        "  raise NotImplementedError('encrypt_caesar is not yet implemented!')\n",
        "\n",
        "\n",
        "def decrypt_caesar(ciphertext):\n",
        "    raise NotImplementedError('decrypt_caesar is not yet implemented!')"
      ],
      "execution_count": 0,
      "outputs": []
    },
    {
      "cell_type": "code",
      "metadata": {
        "id": "91c1Cq7s2jDe",
        "colab_type": "code",
        "colab": {}
      },
      "source": [
        "all([\n",
        "  encrypt_caesar('A') == 'D',\n",
        "  encrypt_caesar('B') == 'E',\n",
        "  encrypt_caesar('I') == 'L',\n",
        "  encrypt_caesar('X') == 'A',\n",
        "  encrypt_caesar('Z') == 'C',\n",
        "  encrypt_caesar('AA') == 'DD',\n",
        "  encrypt_caesar('TH') == 'WK',\n",
        "  encrypt_caesar('CAT') == 'FDW',\n",
        "  encrypt_caesar('DOG') == 'GRJ',\n",
        "  encrypt_caesar('TOO') == 'WRR',\n",
        "  encrypt_caesar('DAMN') == 'GDPQ',\n",
        "  encrypt_caesar('DANIEL') == 'GDQLHO',\n",
        "  encrypt_caesar('PYTHON') == 'SBWKRQ',\n",
        "  encrypt_caesar('WHEEEEEE') == 'ZKHHHHHH',\n",
        "  encrypt_caesar('WITH SPACE') == 'ZLWK VSDFH',\n",
        "  encrypt_caesar('WITH TWO SPACES') == 'ZLWK WZR VSDFHV',\n",
        "  encrypt_caesar('NUM83R5') == 'QXP83U5',\n",
        "  encrypt_caesar('0DD !T$') == '0GG !W$',\n",
        "])"
      ],
      "execution_count": 0,
      "outputs": []
    },
    {
      "cell_type": "code",
      "metadata": {
        "id": "-Lo-w0FC2mQF",
        "colab_type": "code",
        "colab": {}
      },
      "source": [
        "all([\n",
        "  decrypt_caesar('D') == 'A',\n",
        "  decrypt_caesar('E') == 'B',\n",
        "  decrypt_caesar('L') == 'I',\n",
        "  decrypt_caesar('A') == 'X',\n",
        "  decrypt_caesar('C') == 'Z',\n",
        "  decrypt_caesar('DD') == 'AA',\n",
        "  decrypt_caesar('WK') == 'TH',\n",
        "  decrypt_caesar('FDW') == 'CAT',\n",
        "  decrypt_caesar('GRJ') == 'DOG',\n",
        "  decrypt_caesar('WRR') == 'TOO',\n",
        "  decrypt_caesar('GDPQ') == 'DAMN',\n",
        "  decrypt_caesar('GDQLHO') == 'DANIEL',\n",
        "  decrypt_caesar('SBWKRQ') == 'PYTHON',\n",
        "  decrypt_caesar('ZKHHHHHH') == 'WHEEEEEE',\n",
        "  decrypt_caesar('ZLWK VSDFH') == 'WITH SPACE',\n",
        "  decrypt_caesar('ZLWK WZR VSDFHV') == 'WITH TWO SPACES',\n",
        "  decrypt_caesar('QXP83U5') == 'NUM83R5',\n",
        "  decrypt_caesar('0GG !W$') == '0DD !T$',\n",
        "])"
      ],
      "execution_count": 0,
      "outputs": []
    },
    {
      "cell_type": "markdown",
      "metadata": {
        "id": "gIRAQWET27Ld",
        "colab_type": "text"
      },
      "source": [
        "Exemplo 01"
      ]
    },
    {
      "cell_type": "code",
      "metadata": {
        "id": "A1Cyldnf28gZ",
        "colab_type": "code",
        "colab": {}
      },
      "source": [
        "from cryptography.fernet import Fernet\n",
        "key = Fernet.generate_key()\n",
        "cipher_suite = Fernet(key)\n",
        "cipher_text = cipher_suite.encrypt(b\"A really secret message. Not for prying eyes.\")\n",
        "plain_text = cipher_suite.decrypt(cipher_text)"
      ],
      "execution_count": 0,
      "outputs": []
    },
    {
      "cell_type": "code",
      "metadata": {
        "id": "N9w2kiGv3MSG",
        "colab_type": "code",
        "colab": {}
      },
      "source": [
        "from Crypto.Cipher import AES\n",
        "# Encryption\n",
        "encryption_suite = AES.new('This is a key123', AES.MODE_CBC, 'This is an IV456')\n",
        "cipher_text = encryption_suite.encrypt(\"A really secret message. Not for prying eyes.\")\n",
        "\n",
        "# Decryption\n",
        "decryption_suite = AES.new('This is a key123', AES.MODE_CBC, 'This is an IV456')\n",
        "plain_text = decryption_suite.decrypt(cipher_text)"
      ],
      "execution_count": 0,
      "outputs": []
    },
    {
      "cell_type": "code",
      "metadata": {
        "id": "XuZ5Pe-A3lZn",
        "colab_type": "code",
        "colab": {}
      },
      "source": [
        "#-*- coding: utf-8 -*- FONTE: https://forum.imasters.com.br/topic/418386-simples-algoritmo-de-criptografia-em-python/\n",
        "\n",
        "# \topenHash Library\n",
        "#\t- - - - - - - - -\n",
        "# \tby Bruno Alano\n",
        "#\n",
        "# Description: Cryptography Library to Encode Strings and Binary Data\n",
        "\n",
        "# ==============================\n",
        "# Para cada letra adicionada\n",
        "# deverá adicionar uma para o\n",
        "# cKeys\n",
        "# ==============================\n",
        "keys = ['a', 'A', 'b', 'B'] # Dicionário\n",
        "cKeys = ['*/747/', '*/139/', '*/8423/', '*/8787/'] # Dicionário Criptografado (deve iniciar com *)\n",
        "\n",
        "# ==============================\n",
        "# \t\tVáriaveis Nulas\n",
        "# ==============================\n",
        "encryp = ''\n",
        "decryp = ''\n",
        "\n",
        "# ==============================\n",
        "#\t\t\tFunções\n",
        "# ==============================\n",
        "\n",
        "def simpleEncrypt(string):\n",
        "# Carrega dicionários\n",
        "global keys\n",
        "global cKeys\n",
        "\n",
        "# Carrega váriavel global\n",
        "global encryp\n",
        "\n",
        "# Para cada letra da 'string'\n",
        "for letter in string:\n",
        "\t# Procura posição desta letra (tem que ter no dicionário),\n",
        "\t# e pega a posição\n",
        "\tsid = keys.index(letter)\n",
        "\n",
        "\t# Transforma a letra na mesma posição do Dicionário\n",
        "\t# Criptografado\n",
        "\tencryp = encryp + cKeys[sid]\n",
        "\n",
        "print (encryp)\n",
        "\n",
        "def simpleDecrypt(string):\n",
        "# Carrega dicionários\n",
        "global keys\n",
        "global cKeys\n",
        "\n",
        "# Carrega váriavel global\n",
        "global decryp\n",
        "\n",
        "# Separa a váriavel criptografado por \"*\"\n",
        "dec = string.split('*')\n",
        "\n",
        "# Para cada Array do 'dec'\n",
        "for setConj in dec:\n",
        "\t# Remove Array vazia\n",
        "\tif (setConj == ''):\n",
        "\t\tcontinue\n",
        "\n",
        "\t# Adiciona o * para fazer a busca\n",
        "\tdecSet = '*' + setConj\n",
        "\t# Procura no Cicionário Criptografado\n",
        "\tdid = cKeys.index(decSet)\n",
        "\t# Transforma a letra na mesma posição do Dicionário\n",
        "\tdecryp = decryp + keys[did]\n",
        "\n",
        "print (decryp)\n",
        "\n",
        "# ==============================\n",
        "#\t\t\tEXEMPLOs\n",
        "# ==============================\n"
      ],
      "execution_count": 0,
      "outputs": []
    },
    {
      "cell_type": "code",
      "metadata": {
        "id": "vx45cWQb39n_",
        "colab_type": "code",
        "colab": {}
      },
      "source": [
        "keys = ['a', 'A', 'b', 'B'] # Dicionário\n",
        "cKeys = ['*/747/', '*/139/', '*/8423/', '*/8787/'] # Dicionário Criptografado (deve iniciar com *)\n",
        "encryp = ''\n",
        "decryp = ''\n",
        "def simpleEncrypt(string):\n",
        "global keys\n",
        "global cKeys\n",
        "global encryp\n",
        "for letter in string:\n",
        "  sid = keys.index(letter)\n",
        "\tencryp = encryp + cKeys[sid]\n",
        "print (encryp)\n",
        "def simpleDecrypt(string):\n",
        "global keys\n",
        "global cKeys\n",
        "global decryp\n",
        "dec = string.split('*')\n",
        "for setConj in dec:\n",
        "  if (setConj == ''):\n",
        "\t\tcontinue\n",
        "\tdecSet = '*' + setConj\n",
        "\tdid = cKeys.index(decSet)\n",
        "\tdecryp = decryp + keys[did]\n",
        "\n",
        "print (decryp)\n",
        "simpleEncrypt(\"AbBa\") #Retorna: */139/*/8423/*/8787/*/747/ \n",
        "simpleDecrypt(\"*/139/*/8423/*/8787/*/747/\") #Retorna: AbBa\n"
      ],
      "execution_count": 0,
      "outputs": []
    },
    {
      "cell_type": "code",
      "metadata": {
        "id": "ZqDHYiuW4lBV",
        "colab_type": "code",
        "colab": {}
      },
      "source": [
        "keys = ['a', 'A', 'b', 'B'] # Dicionário\n",
        "cKeys = ['*/747/', '*/139/', '*/8423/', '*/8787/'] # Dicionário Criptografado (deve iniciar com *)\n",
        "encryp = ''\n",
        "decryp = ''\n",
        "def simpleEncrypt(string):\n",
        "  for letter in string:\n",
        "  sid = keys.index(letter)\n",
        "\tencryp = encryp + cKeys[sid]\n",
        "print (encryp)\n",
        "\n",
        "def simpleDecrypt(string):\n",
        "dec = string.split('*')\n",
        "for setConj in dec:\n",
        "  if (setConj == ''):\n",
        "\t\tcontinue\n",
        "\tdecSet = '*' + setConj\n",
        "\tdid = cKeys.index(decSet)\n",
        "\tdecryp = decryp + keys[did]\n",
        "\n",
        "print (decryp)\n",
        "simpleEncrypt(\"AbBa\") #Retorna: */139/*/8423/*/8787/*/747/ \n",
        "simpleDecrypt(\"*/139/*/8423/*/8787/*/747/\") #Retorna: AbBa"
      ],
      "execution_count": 0,
      "outputs": []
    },
    {
      "cell_type": "markdown",
      "metadata": {
        "id": "RTiZ8Qpa5OtD",
        "colab_type": "text"
      },
      "source": [
        "**Cifra de Vigenere**\n",
        "\n",
        "Uma cifra de Vigenere é semelhante em natureza a uma cifra de César. No entanto, em uma cifra de Vigenere, cada caractere no texto simples pode ser alterado por uma quantidade variável. \n",
        "\n",
        "A quantidade para mudar qualquer letra no texto plano é determinada por uma palavra-chave, onde 'A' corresponde ao deslocamento de 0 (sem deslocamento), 'B' corresponde a um deslocamento de 1, ... e 'Z' corresponde a um deslocamento de 25, voltando ao início se necessário (como com a cifra de César).\n",
        "\n",
        "A palavra-chave é repetida ou truncada conforme necessário para ajustar o tamanho do texto simples. Como exemplo, criptografar \" ATTACKATDAWN \" com a chave \" LEMON \" fornece:\n",
        "\n",
        "Plaintext:      ATTACKATDAWN\n",
        "Key:            LEMONLEMONLE\n",
        "Ciphertext:     LXFOPVEFRNHR\n",
        "\n",
        "Olhando mais de perto, cada letra no texto cifrado é a soma das letras no texto simples e na chave. Assim, o primeiro caractere do texto cifrado é \"L\" devido aos seguintes cálculos:\n",
        "\n",
        "A + L = 0 + 11 = 11 -> L\n",
        "\n",
        "O segundo caractere do texto cifrado é \"X\" porque mudando \"T\" por 4 (associado ao deslocamento por \"E\") fornece:\n",
        "\n",
        "T + E = 19 + 4 = 23 -> X\n",
        "\n",
        "Note que, uma vez que estamos considerando A para codificar 0, nossos índices são a posição ordinal de uma letra no alfabeto. Isto é, mesmo que E seja a 5ª letra do alfabeto, ela codifica um deslocamento de 4.\n",
        "\n",
        "O terceiro caractere do texto cifrado é \"F\" porque:\n",
        "\n",
        "T + M = 19 + 12 = 31 -> 5 -> F\n",
        "\n",
        "Nós contornamos o alfabeto de +31 a +5, resultando em um caractere de texto cifrado de saída de \"F\".\n",
        "\n",
        "Implemente as funções:\n",
        "\n",
        "encrypt_vigenere(plaintext, keyword)\n",
        "decrypt_vigenere(ciphertext, keyword)\n",
        "\n",
        "Essas funções levam dois argumentos, uma mensagem para criptografar (ou descriptografar) e uma palavra-chave para criptografia ou descriptografia. Ambas as funções devem retornar a mensagem criptografada (ou descriptografada).\n",
        "\n",
        "Notas:\n",
        "\n",
        "Você pode assumir que todos os caracteres no texto simples, no texto cifrado e na palavra-chave serão alfabéticos (ou seja, sem espaços, números ou pontuação).\n",
        "\n",
        "Você pode assumir que todos os caracteres serão fornecidos em letras maiúsculas.\n",
        "\n",
        "Você pode assumir que a palavra-chave terá pelo menos uma letra nela."
      ]
    },
    {
      "cell_type": "code",
      "metadata": {
        "id": "u21wpzRg527l",
        "colab_type": "code",
        "colab": {}
      },
      "source": [
        "def encrypt_vigenere(plaintext, keyword):\n",
        "    \"\"\"Encrypt plaintext using a Vigenere cipher with a keyword.\"\"\"\n",
        "    \n",
        "    # Your implementation here.\n",
        "    raise NotImplementedError('encrypt_vigenere is not yet implemented!')\n",
        "\n",
        "\n",
        "def decrypt_vigenere(ciphertext, keyword):\n",
        "    \"\"\"Decrypt ciphertext using a Vigenere cipher with a keyword.\"\"\"\n",
        "    \n",
        "    # Your implementation here.\n",
        "    raise NotImplementedError('decrypt_vigenere is not yet implemented!')"
      ],
      "execution_count": 0,
      "outputs": []
    },
    {
      "cell_type": "code",
      "metadata": {
        "id": "dxiY_1Yw55vA",
        "colab_type": "code",
        "colab": {}
      },
      "source": [
        "all([\n",
        "  encrypt_vigenere('FLEEATONCE', 'A') == 'FLEEATONCE',\n",
        "  encrypt_vigenere('IMHIT', 'H') == 'PTOPA',\n",
        "  encrypt_vigenere('ATTACKATDAWN', 'LEMON') == 'LXFOPVEFRNHR',\n",
        "  encrypt_vigenere('WEAREDISCOVERED', 'LEMON') == 'HIMFROMEQBGIDSQ',\n",
        "  encrypt_vigenere('WEAREDISCOVERED', 'MELON') == 'IILFRPMDQBHICSQ',\n",
        "  encrypt_vigenere('CANTBELIEVE', 'ITSNOTBUTTER') == 'KTFGPXMCXOI',\n",
        "  encrypt_vigenere('CART', 'MAN') == 'OAEF',\n",
        "  encrypt_vigenere('HYPE', 'HYPE') == 'OWEI',\n",
        "  encrypt_vigenere('SAMELENGTH', 'PYTHONISTA') == 'HYFLZRVYMH',\n",
        "  encrypt_vigenere('SHORTERKEY', 'XYZZYZ') == 'PFNQRDOIDX',\n",
        "  encrypt_vigenere('A', 'ONEINPUT') == 'O',\n",
        "])"
      ],
      "execution_count": 0,
      "outputs": []
    },
    {
      "cell_type": "code",
      "metadata": {
        "id": "LbvCUXXB584E",
        "colab_type": "code",
        "colab": {}
      },
      "source": [
        "all([\n",
        "  decrypt_vigenere('FLEEATONCE', 'A') == 'FLEEATONCE',\n",
        "  decrypt_vigenere('PTOPA', 'H') == 'IMHIT',\n",
        "  decrypt_vigenere('LXFOPVEFRNHR', 'LEMON') == 'ATTACKATDAWN',\n",
        "  decrypt_vigenere('HIMFROMEQBGIDSQ', 'LEMON') == 'WEAREDISCOVERED',\n",
        "  decrypt_vigenere('IILFRPMDQBHICSQ', 'MELON') == 'WEAREDISCOVERED',\n",
        "  decrypt_vigenere('KTFGPXMCXOI', 'ITSNOTBUTTER') == 'CANTBELIEVE',\n",
        "  decrypt_vigenere('OAEF', 'MAN') == 'CART',\n",
        "  decrypt_vigenere('OWEI', 'HYPE') == 'HYPE',\n",
        "  decrypt_vigenere('HYFLZRVYMH', 'PYTHONISTA') == 'SAMELENGTH',\n",
        "  decrypt_vigenere('PFNQRDOIDX', 'XYZZYZ') == 'SHORTERKEY',\n",
        "  decrypt_vigenere('O', 'ONEINPUT') == 'A',\n",
        "])"
      ],
      "execution_count": 0,
      "outputs": []
    }
  ]
}