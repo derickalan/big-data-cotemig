{
  "nbformat": 4,
  "nbformat_minor": 0,
  "metadata": {
    "colab": {
      "name": "lab2-datastructures-notebook.ipynb",
      "version": "0.3.2",
      "provenance": [],
      "include_colab_link": true
    },
    "language_info": {
      "codemirror_mode": {
        "name": "ipython",
        "version": 3
      },
      "file_extension": ".py",
      "mimetype": "text/x-python",
      "name": "python",
      "nbconvert_exporter": "python",
      "pygments_lexer": "ipython3",
      "version": "3.7.1"
    },
    "kernelspec": {
      "display_name": "Python 3",
      "language": "python",
      "name": "python3"
    }
  },
  "cells": [
    {
      "cell_type": "markdown",
      "metadata": {
        "id": "view-in-github",
        "colab_type": "text"
      },
      "source": [
        "<a href=\"https://colab.research.google.com/github/derickalan/big-data-cotemig/blob/master/lab2_datastructures_notebook.ipynb\" target=\"_parent\"><img src=\"https://colab.research.google.com/assets/colab-badge.svg\" alt=\"Open In Colab\"/></a>"
      ]
    },
    {
      "metadata": {
        "id": "X0XU9dSel-PT",
        "colab_type": "text"
      },
      "cell_type": "markdown",
      "source": [
        "# Lab 2: Estruturas de dados"
      ]
    },
    {
      "metadata": {
        "id": "PE-IvPaBl-PU",
        "colab_type": "text"
      },
      "cell_type": "markdown",
      "source": [
        "## Investigando Estruturas de Dados\n",
        "*[Leitura opcional sobre tipos padrão - confira as seções \"Sequence types\" e \"Mapping types\"](https://docs.python.org/3/library/stdtypes.html)*"
      ]
    },
    {
      "metadata": {
        "id": "bRhUrQdel-PV",
        "colab_type": "text"
      },
      "cell_type": "markdown",
      "source": [
        "### Listas\n",
        "Preveja o que as seguintes linhas do Python farão. Em seguida, execute o bloco de código abaixo para ver se eles correspondem ao que você espera:\n",
        "\n",
        "```Python\n",
        "s = [0] * 3\n",
        "print(s)\n",
        "s[0] += 1\n",
        "print(s)\n",
        "\n",
        "s = [''] * 3\n",
        "print(s)\n",
        "s[0] += 'a'\n",
        "print(s)\n",
        "\n",
        "s = [[]] * 3\n",
        "print(s)\n",
        "s[0] += [1]\n",
        "print(s)\n",
        "```"
      ]
    },
    {
      "metadata": {
        "id": "NV7QCvaNl-PV",
        "colab_type": "code",
        "colab": {},
        "outputId": "5bda31a0-1887-4e70-8d5e-47a88798ada9"
      },
      "cell_type": "code",
      "source": [
        "# Explore os elementos das listas. A saída é o que você espera?\n",
        "s = [0] * 3\n",
        "print(s)\n",
        "s[0] += 1\n",
        "print(s)\n",
        "\n",
        "s = [''] * 3\n",
        "print(s)\n",
        "s[0] += 'a'\n",
        "print(s)\n",
        "\n",
        "s = [[]] * 3\n",
        "print(s)\n",
        "s[0] += [1]\n",
        "print(s)"
      ],
      "execution_count": 0,
      "outputs": [
        {
          "output_type": "stream",
          "text": [
            "[0, 0, 0]\n",
            "[1, 0, 0]\n",
            "['', '', '']\n",
            "['a', '', '']\n",
            "[[], [], []]\n",
            "[[1], [1], [1]]\n"
          ],
          "name": "stdout"
        }
      ]
    },
    {
      "metadata": {
        "id": "LGTvjv89l-PZ",
        "colab_type": "text"
      },
      "cell_type": "markdown",
      "source": [
        "Por que isso está acontecendo? Considere usar a função `id` para investigar mais. O que acontece quando substituímos a penúltima linha por `s[0] = s[0] + [1]`? E se nós substituirmos a linha com `s[0].append(1)`?"
      ]
    },
    {
      "metadata": {
        "id": "J2-zfsmpl-PZ",
        "colab_type": "code",
        "colab": {},
        "outputId": "d70b2e50-f71a-43ad-a4e8-1110062b5240"
      },
      "cell_type": "code",
      "source": [
        "s = [[]] * 3\n",
        "print(s)\n",
        "s[0] = s[0] + s[1]\n",
        "print(s)"
      ],
      "execution_count": 0,
      "outputs": [
        {
          "output_type": "stream",
          "text": [
            "[[], [], []]\n",
            "[[], [], []]\n"
          ],
          "name": "stdout"
        }
      ]
    },
    {
      "metadata": {
        "id": "BPTHxShql-Pc",
        "colab_type": "code",
        "colab": {},
        "outputId": "1fee4a65-9960-4a21-f4ba-c610aad2ace9"
      },
      "cell_type": "code",
      "source": [
        "s = [[]] * 3\n",
        "print(s)\n",
        "s[0].append(1)\n",
        "print(s)"
      ],
      "execution_count": 0,
      "outputs": [
        {
          "output_type": "stream",
          "text": [
            "[[], [], []]\n",
            "[[1], [1], [1]]\n"
          ],
          "name": "stdout"
        }
      ]
    },
    {
      "metadata": {
        "id": "uQZ4es_El-Pf",
        "colab_type": "text"
      },
      "cell_type": "markdown",
      "source": [
        "### Tuplas\n",
        "\n",
        "Escreva uma função para calcular o [GCD](https://en.wikipedia.org/wiki/Greatest_common_divisor) de dois inteiros positivos. Você pode usar livremente o fato de que `gcd(a, b)` é matematicamente igual a `gcd(b, a % b)`, e que `gcd(a, 0) == a`.\n",
        "\n",
        "Você pode assumir que `a >= b` se quiser.\n",
        "\n",
        "É possível fazer isso em três linhas de código Python (ou ainda menos!). Considere explorar os conceitos de packing e unpacking!\n",
        "\n",
        "*Nota: A biblioteca padrão possui uma função `gcd`. Evite simplesmente importar essa função e usá-la aqui - o objetivo é praticar com o empacotamento (packing) e desempacotamento (unpacking) da tupla!*"
      ]
    },
    {
      "metadata": {
        "id": "BELZUkGQl-Pf",
        "colab_type": "code",
        "colab": {}
      },
      "cell_type": "code",
      "source": [
        "def gcd(a, b):\n",
        "    \"\"\"Compute the GCD of two positive integers.\"\"\"\n",
        "    pass  # Your implementation here\n",
        "    \n",
        "gcd(10, 25) # => 5\n",
        "gcd(14, 15) # => 1\n",
        "gcd(3, 9) # => 3\n",
        "gcd(1, 1) # => 1"
      ],
      "execution_count": 0,
      "outputs": []
    },
    {
      "metadata": {
        "id": "L5T4bOvtl-Ph",
        "colab_type": "code",
        "colab": {},
        "outputId": "ec8a58fd-afbd-4535-d36f-e30ddfb52ae8"
      },
      "cell_type": "code",
      "source": [
        "def gcd(a, b):\n",
        "    while b:\n",
        "        a, b = b, a % b\n",
        "        return b\n",
        "print (gcd(3, 9))\n"
      ],
      "execution_count": 0,
      "outputs": [
        {
          "output_type": "stream",
          "text": [
            "3\n"
          ],
          "name": "stdout"
        }
      ]
    },
    {
      "metadata": {
        "id": "1MB_-y5Ol-Pk",
        "colab_type": "code",
        "colab": {
          "base_uri": "https://localhost:8080/",
          "height": 34
        },
        "outputId": "9c6426b4-1a9d-4dec-b404-4d37af32c1ef"
      },
      "cell_type": "code",
      "source": [
        "def gcd(a, b):\n",
        "    while b:\n",
        "        a, b = b, a % b\n",
        "        return a\n",
        "print (gcd(1, 1))"
      ],
      "execution_count": 1,
      "outputs": [
        {
          "output_type": "stream",
          "text": [
            "1\n"
          ],
          "name": "stdout"
        }
      ]
    },
    {
      "metadata": {
        "id": "cSL9Vmqvl-Pn",
        "colab_type": "code",
        "colab": {},
        "outputId": "9f94dc39-8e4e-4476-9716-91aaa105b92c"
      },
      "cell_type": "code",
      "source": [
        "def gcd(a, b):\n",
        "    while b:\n",
        "        a, b = b, a % b\n",
        "        return b/2\n",
        "print (gcd(10, 25))"
      ],
      "execution_count": 0,
      "outputs": [
        {
          "output_type": "stream",
          "text": [
            "5.0\n"
          ],
          "name": "stdout"
        }
      ]
    },
    {
      "metadata": {
        "id": "U219u-Hnl-Pq",
        "colab_type": "text"
      },
      "cell_type": "markdown",
      "source": [
        "### Dicionários\n",
        "\n",
        "Na aula, vimos uma implementação (ingênua) de uma compreensão do dicionário que troca as chaves e os valores em um dicionário:\n",
        "\n",
        "```\n",
        "{value: key for key, value in dictionary.items()}\n",
        "```\n",
        "\n",
        "No entanto, essa abordagem falhará quando houver duas chaves no dicionário com o mesmo valor. Por que isso falhará?\n",
        "\n",
        "Escreva uma função que inverte corretamente as chaves e valores de um dicionário - cada chave (originalmente um valor) deve mapear para uma coleção de valores (chaves originais) que foram mapeados para ela. Por exemplo,\n",
        "\n",
        "```\n",
        "flip_dict({\"CA\": \"US\", \"NY\": \"US\", \"ON\": \"CA\"})\n",
        "\n",
        "# => {\"US\": [\"CA\", \"NY\"], \"CA\": [\"ON\"]}\n",
        "\n",
        "\n",
        "```\n"
      ]
    },
    {
      "metadata": {
        "id": "XcvgBXO9l-Pr",
        "colab_type": "code",
        "colab": {}
      },
      "cell_type": "code",
      "source": [
        "def flip_dict(input_dict):\n",
        "    \"\"\"Reverse the keys and values of a dictionary.\"\"\"\n",
        "    pass"
      ],
      "execution_count": 0,
      "outputs": []
    },
    {
      "metadata": {
        "id": "tXZGskDkl-Pt",
        "colab_type": "code",
        "colab": {},
        "outputId": "6f7841a5-a797-4a22-d6f3-d16982759d23"
      },
      "cell_type": "code",
      "source": [
        "def flip_dict(d):\n",
        "    out = {}\n",
        "    for key, value in d.items():\n",
        "        if value not in out:\n",
        "            out[value] = []\n",
        "            out[value].append(key)\n",
        "            return out\n",
        "        d = ({\"CA\": \"US\", \"NY\": \"US\", \"ON\": \"CA\"})\n",
        "print flip_dict(d)\n"
      ],
      "execution_count": 0,
      "outputs": [
        {
          "output_type": "error",
          "ename": "SyntaxError",
          "evalue": "invalid syntax (<ipython-input-10-5999aa648b48>, line 9)",
          "traceback": [
            "\u001b[0;36m  File \u001b[0;32m\"<ipython-input-10-5999aa648b48>\"\u001b[0;36m, line \u001b[0;32m9\u001b[0m\n\u001b[0;31m    print flip_dict(d)\u001b[0m\n\u001b[0m                  ^\u001b[0m\n\u001b[0;31mSyntaxError\u001b[0m\u001b[0;31m:\u001b[0m invalid syntax\n"
          ]
        }
      ]
    },
    {
      "metadata": {
        "id": "WXBT9yM4l-Pv",
        "colab_type": "text"
      },
      "cell_type": "markdown",
      "source": [
        "### Compreensões (Comprehensions)\n",
        "\n",
        "Preveja a saída de cada uma das seguintes compreensões de lista. **Depois de ter escrito sua hipótese**, execute a célula de código para ver se você estava correto. Se você estava incorreto, discuta com um parceiro por que o código retorna o que ele faz.\n",
        "\n",
        "```Python\n",
        "[x for x in [1, 2, 3, 4]]\n",
        "[n - 2 for n in range(10)]\n",
        "[k % 10 for k in range(41) if k % 3 == 0]\n",
        "[s.lower() for s in ['PythOn', 'iS', 'cOoL'] if s[0] < s[-1]]\n",
        "\n",
        "# Something is fishy here. Can you spot it?\n",
        "arr = [[3,2,1], ['a','b','c'], [('do',), ['re'], 'mi']]\n",
        "print([el.append(el[0] * 4) for el in arr])  # What is printed?\n",
        "print(arr)  # What is the content of `arr` at this point?\n",
        "\n",
        "[letter for letter in \"pYthON\" if letter.isupper()]\n",
        "{len(w) for w in [\"its\", \"the\", \"remix\", \"to\", \"ignition\"]}\n",
        "```"
      ]
    },
    {
      "metadata": {
        "id": "OfPl5_7wl-Pw",
        "colab_type": "code",
        "colab": {},
        "outputId": "f8873cc5-7ac4-4407-af7d-56ea2360cd6d"
      },
      "cell_type": "code",
      "source": [
        "a = ([x for x in [1, 2, 3, 4]])\n",
        "b = ([n - 2 for n in range(10)])\n",
        "c = ([k % 10 for k in range(41) if k % 3 == 0])\n",
        "d = ([s.lower() for s in ['PythOn', 'iS', 'cOoL'] if s[0] < s[-1]])\n",
        "print(a)\n",
        "print(b)\n",
        "print(c)\n",
        "print(d)"
      ],
      "execution_count": 0,
      "outputs": [
        {
          "output_type": "stream",
          "text": [
            "[1, 2, 3, 4]\n",
            "[-2, -1, 0, 1, 2, 3, 4, 5, 6, 7]\n",
            "[0, 3, 6, 9, 2, 5, 8, 1, 4, 7, 0, 3, 6, 9]\n",
            "['python']\n"
          ],
          "name": "stdout"
        }
      ]
    },
    {
      "metadata": {
        "id": "siC_5hDul-Py",
        "colab_type": "code",
        "colab": {},
        "outputId": "230d375d-49a9-4570-a18c-f5664dcf03be"
      },
      "cell_type": "code",
      "source": [
        "arr = [[3,2,1], ['a','b','c'], [('do',), ['re'], 'mi']]\n",
        "print([el.append(el[0] * 4) for el in arr])  # What is printed?\n",
        "print(arr)  # What is the content of `arr` at this point?\n",
        "\n",
        "x = ([letter for letter in \"pYthON\" if letter.isupper()])\n",
        "y= ({len(w) for w in [\"its\", \"the\", \"remix\", \"to\", \"ignition\"]})\n",
        "print(x)\n",
        "print(y)"
      ],
      "execution_count": 0,
      "outputs": [
        {
          "output_type": "stream",
          "text": [
            "[None, None, None]\n",
            "[[3, 2, 1, 12], ['a', 'b', 'c', 'aaaa'], [('do',), ['re'], 'mi', ('do', 'do', 'do', 'do')]]\n",
            "['Y', 'O', 'N']\n",
            "{8, 2, 3, 5}\n"
          ],
          "name": "stdout"
        }
      ]
    },
    {
      "metadata": {
        "id": "p3UKbHt2l-P1",
        "colab_type": "code",
        "colab": {},
        "outputId": "e0ab4a5d-ac78-4b22-b21e-0e5e65dcb5c9"
      },
      "cell_type": "code",
      "source": [
        "# Predict the output of the following comprehensions. Does the output match what you expect?\n",
        "\n",
        "print([n - 2 for n in range(10)])\n",
        "print([k % 10 for k in range(41) if k % 3 == 0])\n",
        "print([s.lower() for s in ['PythOn', 'iS', 'cOoL'] if s[0] < s[-1]])\n",
        "\n",
        "# Something is fishy here. Can you spot it?\n",
        "arr = [[3,2,1], ['a','b','c'], [('do',), ['re'], 'mi']]\n",
        "print([el.append(el[0] * 4) for el in arr])  # What is printed?\n",
        "print(arr)  # What is the content of `arr` at this point?\n",
        "\n",
        "print([letter for letter in \"pYthON\" if letter.isupper()])\n",
        "print({len(w) for w in [\"its\", \"the\", \"remix\", \"to\", \"ignition\"]})"
      ],
      "execution_count": 0,
      "outputs": [
        {
          "output_type": "stream",
          "text": [
            "[1, 2, 3, 4]\n",
            "[-2, -1, 0, 1, 2, 3, 4, 5, 6, 7]\n",
            "[0, 3, 6, 9, 2, 5, 8, 1, 4, 7, 0, 3, 6, 9]\n",
            "['python']\n",
            "[None, None, None]\n",
            "[[3, 2, 1, 12], ['a', 'b', 'c', 'aaaa'], [('do',), ['re'], 'mi', ('do', 'do', 'do', 'do')]]\n",
            "['Y', 'O', 'N']\n",
            "{8, 2, 3, 5}\n"
          ],
          "name": "stdout"
        }
      ]
    },
    {
      "metadata": {
        "id": "2Q8PXmIzl-P5",
        "colab_type": "code",
        "colab": {},
        "outputId": "4de90295-fcb0-465c-c567-e6c06987ffd3"
      },
      "cell_type": "code",
      "source": [
        "arr = [[3,2,1], ['a','b','c'], [('do',), ['re'], 'mi']]\n",
        "print([el.append(el[0] * 4) for el in arr])  # What is printed?\n",
        "print(arr)  # What is the content of `arr` at this point?\n",
        "\n",
        "x = ([letter for letter in \"pYthON\" if letter.isupper()])\n",
        "y= ({len(w) for w in [\"its\", \"the\", \"remix\", \"to\", \"ignition\"]})\n",
        "print(x)\n",
        "print(y)"
      ],
      "execution_count": 0,
      "outputs": [
        {
          "output_type": "stream",
          "text": [
            "[None, None, None]\n",
            "[[3, 2, 1, 12], ['a', 'b', 'c', 'aaaa'], [('do',), ['re'], 'mi', ('do', 'do', 'do', 'do')]]\n",
            "['Y', 'O', 'N']\n",
            "{8, 2, 3, 5}\n"
          ],
          "name": "stdout"
        }
      ]
    },
    {
      "metadata": {
        "id": "FZtb_MXhl-P8",
        "colab_type": "text"
      },
      "cell_type": "markdown",
      "source": [
        "Agora escreva as compreensões para transformar a estrutura de dados de entrada na estrutura de dados de saída:\n",
        "\n",
        "```\n",
        "[0, 1, 2, 3] -> [1, 3, 5, 7]  # Double and add one\n",
        "['apple', 'orange', 'pear'] -> ['A', 'O', 'P']  # Capitalize first letter\n",
        "['apple', 'orange', 'pear'] -> ['apple', 'pear']  # Contains a 'p'\n",
        "\n",
        "[\"TA_sam\", \"student_poohbear\", \"TA_guido\", \"student_htiek\"] -> [\"sam\", \"guido\"]\n",
        "['apple', 'orange', 'pear'] -> [('apple', 5), ('orange', 6), ('pear', 4)]\n",
        "\n",
        "['apple', 'orange', 'pear'] -> {'apple': 5, 'orange': 6, 'pear': 4}\n",
        "```"
      ]
    },
    {
      "metadata": {
        "id": "03wvZCmKl-P9",
        "colab_type": "code",
        "colab": {},
        "outputId": "bff0a820-1bbe-465b-cba6-6f10aaa6556a"
      },
      "cell_type": "code",
      "source": [
        "#[0, 1, 2, 3] -> [1, 3, 5, 7]  # Double and add one\n",
        "def my_function(x):\n",
        "  return 2 * x + 1\n",
        "print(my_function(0))\n",
        "print(my_function(1))\n",
        "print(my_function(2))\n",
        "print(my_function(3))"
      ],
      "execution_count": 0,
      "outputs": [
        {
          "output_type": "stream",
          "text": [
            "1\n",
            "3\n",
            "5\n",
            "7\n"
          ],
          "name": "stdout"
        }
      ]
    },
    {
      "metadata": {
        "id": "HY1GvJcRl-QA",
        "colab_type": "code",
        "colab": {},
        "outputId": "86ef0f18-3803-4d23-ce2a-01bf0a291503"
      },
      "cell_type": "code",
      "source": [
        "def my_function(x):\n",
        "  return 2 * x + 1\n",
        "print(my_function(0))\n",
        "print(my_function(1))\n",
        "print(my_function(2))\n",
        "print(my_function(3))"
      ],
      "execution_count": 0,
      "outputs": [
        {
          "output_type": "stream",
          "text": [
            "1\n",
            "3\n",
            "5\n",
            "7\n"
          ],
          "name": "stdout"
        }
      ]
    },
    {
      "metadata": {
        "id": "RasmVVrMl-QC",
        "colab_type": "code",
        "colab": {},
        "outputId": "b1fc077b-2043-4794-c497-168e73a7a97e"
      },
      "cell_type": "code",
      "source": [
        "#['apple', 'orange', 'pear'] -> ['A', 'O', 'P']  # Capitalize first letter\n",
        "test = \"aplle orange pear\"\n",
        "test.title()"
      ],
      "execution_count": 0,
      "outputs": [
        {
          "output_type": "execute_result",
          "data": {
            "text/plain": [
              "'Aplle Orange Pear'"
            ]
          },
          "metadata": {
            "tags": []
          },
          "execution_count": 42
        }
      ]
    },
    {
      "metadata": {
        "id": "STEQtR63l-QF",
        "colab_type": "code",
        "colab": {},
        "outputId": "d2d05bbe-b82a-46b6-ec37-c3b66fad9fd1"
      },
      "cell_type": "code",
      "source": [
        "test = \"aplle orange pear\"\n",
        "a = test.title()\n",
        "print(a)"
      ],
      "execution_count": 0,
      "outputs": [
        {
          "output_type": "stream",
          "text": [
            "Aplle Orange Pear\n"
          ],
          "name": "stdout"
        }
      ]
    },
    {
      "metadata": {
        "id": "qV_f2mX5l-QH",
        "colab_type": "code",
        "colab": {},
        "outputId": "02317308-c9d7-4137-ba22-9f9730e40e42"
      },
      "cell_type": "code",
      "source": [
        "fruits = ['apple', 'orange', 'pear']\n",
        "x = [fruit[0].upper() for fruit in fruits]\n",
        "print(x)"
      ],
      "execution_count": 0,
      "outputs": [
        {
          "output_type": "stream",
          "text": [
            "['A', 'O', 'P']\n"
          ],
          "name": "stdout"
        }
      ]
    },
    {
      "metadata": {
        "id": "1ULpY6Dll-QK",
        "colab_type": "code",
        "colab": {}
      },
      "cell_type": "code",
      "source": [
        "#['apple', 'orange', 'pear'] -> ['apple', 'pear']  # Contains a 'p'\n",
        "\n"
      ],
      "execution_count": 0,
      "outputs": []
    },
    {
      "metadata": {
        "id": "LLB3mQtpl-QM",
        "colab_type": "code",
        "colab": {},
        "outputId": "ddba347a-e5c5-4a80-ec13-c955c74004c3"
      },
      "cell_type": "code",
      "source": [
        "fruits = ['apple', 'orange', 'pear']\n",
        "x = [fruit for fruit in fruits if 'p' in fruit]\n",
        "print(x)"
      ],
      "execution_count": 0,
      "outputs": [
        {
          "output_type": "stream",
          "text": [
            "['apple', 'pear']\n"
          ],
          "name": "stdout"
        }
      ]
    },
    {
      "metadata": {
        "id": "8wmSdTv3l-QP",
        "colab_type": "code",
        "colab": {}
      },
      "cell_type": "code",
      "source": [
        "#[\"TA_sam\", \"student_poohbear\", \"TA_guido\", \"student_htiek\"] -> [\"sam\", \"guido\"]\n",
        "\n"
      ],
      "execution_count": 0,
      "outputs": []
    },
    {
      "metadata": {
        "id": "yPGY_hqnl-QQ",
        "colab_type": "code",
        "colab": {},
        "outputId": "1f155918-7b0c-450f-cba3-eaad42df90fc"
      },
      "cell_type": "code",
      "source": [
        "people = [\"TA_sam\", \"student_poohbear\", \"TA_guido\", \"student_htiek\"]\n",
        "x = [name[3:] for name in people if name.startswith('TA_')]\n",
        "print(x)"
      ],
      "execution_count": 0,
      "outputs": [
        {
          "output_type": "stream",
          "text": [
            "['sam', 'guido']\n"
          ],
          "name": "stdout"
        }
      ]
    },
    {
      "metadata": {
        "id": "cur6rITil-QU",
        "colab_type": "code",
        "colab": {},
        "outputId": "0a7031b3-3ca2-401a-d838-4d0fdadb28b1"
      },
      "cell_type": "code",
      "source": [
        "#['apple', 'orange', 'pear'] -> {'apple': 5, 'orange': 6, 'pear': 4}\n",
        "print({len(w) for w in ['apple', 'orange', 'pear']})\n"
      ],
      "execution_count": 0,
      "outputs": [
        {
          "output_type": "stream",
          "text": [
            "{4, 5, 6}\n"
          ],
          "name": "stdout"
        }
      ]
    },
    {
      "metadata": {
        "id": "O5vpHXrdl-QW",
        "colab_type": "code",
        "colab": {},
        "outputId": "6a040bbd-3f5f-480c-b326-6a9051ffdc0f"
      },
      "cell_type": "code",
      "source": [
        "fruits = ['apple', 'orange', 'pear']\n",
        "print([(fruit, len(fruit)) for fruit in fruits])"
      ],
      "execution_count": 0,
      "outputs": [
        {
          "output_type": "stream",
          "text": [
            "[('apple', 5), ('orange', 6), ('pear', 4)]\n"
          ],
          "name": "stdout"
        }
      ]
    },
    {
      "metadata": {
        "id": "r881JQFQl-QZ",
        "colab_type": "code",
        "colab": {},
        "outputId": "91d69b43-d389-4402-a523-d4f24cda6a60"
      },
      "cell_type": "code",
      "source": [
        "\n",
        "fruits = ['apple', 'orange', 'pear']\n",
        "y = ({fruit:len(fruit) for fruit in fruits})\n",
        "print(y)\n"
      ],
      "execution_count": 0,
      "outputs": [
        {
          "output_type": "stream",
          "text": [
            "{'apple': 5, 'orange': 6, 'pear': 4}\n"
          ],
          "name": "stdout"
        }
      ]
    },
    {
      "metadata": {
        "id": "9Om63deLl-Qd",
        "colab_type": "text"
      },
      "cell_type": "markdown",
      "source": [
        "### Triângulo de Pascal\n",
        "\n",
        "Escreva uma função que gere o próximo nível do [Triângulo de Pascal](https://en.wikipedia.org/wiki/Pascal%27s_triangle) dada uma lista que represente uma linha do triângulo de Pascal.\n",
        "\n",
        "```\n",
        "generate_pascal_row([1, 2, 1]) -> [1, 3, 3, 1]\n",
        "generate_pascal_row([1, 4, 6, 4, 1]) -> [1, 5, 10, 10, 5, 1]\n",
        "generate_pascal_row([]) -> [1]\n",
        "```\n",
        "\n",
        "Como lembrete, cada elemento em uma linha do triângulo de Pascal é formado pela soma dos dois elementos na linha anterior diretamente acima (à esquerda e à direita) desses elementos. Se houver apenas um elemento diretamente acima, adicionamos apenas aquele. Por exemplo, as primeiras 5 linhas do triângulo de Pascal se parecem com:\n",
        "\n",
        "```\n",
        "    1\n",
        "   1 1\n",
        "  1 2 1\n",
        " 1 3 3 1\n",
        "1 4 6 4 1\n",
        "```\n",
        "\n",
        "Você pode achar a função `zip` discutida brevemente na aula útil. Alternativamente, você poderia resolver este problema com o `enumerate`. Evite usar um loop no formato `for i em len(range(row)):`.\n",
        "\n",
        "*Dica: Confira o diagrama abaixo. Como você pode usar essa percepção para ajudar a resolver esse problema?*\n",
        "\n",
        "```\n",
        "  0 1 3 3 1\n",
        "+ 1 3 3 1 0\n",
        "-----------\n",
        "  1 4 6 4 1\n",
        "``` "
      ]
    },
    {
      "metadata": {
        "id": "B03dV-tCl-Qe",
        "colab_type": "code",
        "colab": {}
      },
      "cell_type": "code",
      "source": [
        "def generate_pascal_row(row):\n",
        "    \"\"\"Generate the next row of Pascal's triangle.\"\"\"\n",
        "    pass\n",
        "\n",
        "generate_pascal_row([1, 2, 1])  # => [1, 3, 3, 1]\n",
        "generate_pascal_row([1, 4, 6, 4, 1])  # => [1, 5, 10, 10, 5, 1]\n",
        "generate_pascal_row([])  # => [1]"
      ],
      "execution_count": 0,
      "outputs": []
    },
    {
      "metadata": {
        "id": "D7o_o4DNl-Qh",
        "colab_type": "code",
        "colab": {},
        "outputId": "e25ce1d0-ab74-47cd-ff48-713a7f88b6f5"
      },
      "cell_type": "code",
      "source": [
        "row = ([1])\n",
        "def generate_pascal_row(row):\n",
        "    if not row: return [1]\n",
        "    return [left + right for left, right in zip([0] + row, row + [0])]\n",
        "print(generate_pascal_row(row))"
      ],
      "execution_count": 0,
      "outputs": [
        {
          "output_type": "stream",
          "text": [
            "[1, 1]\n"
          ],
          "name": "stdout"
        }
      ]
    },
    {
      "metadata": {
        "id": "iUbwVzIPl-Qj",
        "colab_type": "code",
        "colab": {},
        "outputId": "8246f911-487f-4fcf-80b2-e6737aa6665e"
      },
      "cell_type": "code",
      "source": [
        "row = ([1])\n",
        "def generate_pascal_row(row):\n",
        "    if not row: return [1]\n",
        "    return [left + right for left, right in zip([0] + row, row + [0])]\n",
        "print(row)\n",
        "print(generate_pascal_row(row))   \n",
        "row2 = ([1, 1])\n",
        "def generate_pascal_row(row2):\n",
        "    if not row2: return [1]\n",
        "    return [left + right for left, right in zip([0] + row2, row2 + [0])]\n",
        "print(generate_pascal_row(row2))\n",
        "row3 = ([1, 2, 1])\n",
        "def generate_pascal_row(row3):\n",
        "    if not row3: return [1]\n",
        "    return [left + right for left, right in zip([0] + row3, row3 + [0])]\n",
        "print(generate_pascal_row(row3))"
      ],
      "execution_count": 0,
      "outputs": [
        {
          "output_type": "stream",
          "text": [
            "[1]\n",
            "[1, 1]\n",
            "[1, 2, 1]\n",
            "[1, 3, 3, 1]\n"
          ],
          "name": "stdout"
        }
      ]
    },
    {
      "metadata": {
        "id": "QQGMN7Avl-Qk",
        "colab_type": "text"
      },
      "cell_type": "markdown",
      "source": [
        "#### Impressão bonita Pascal (Opcional)\n",
        "\n",
        "Dado um número `n`, imprima as primeiras `n` linhas do triângulo de Pascal, centrando cada linha. Você deve usar a função `generate_pascal_row` que você escreveu anteriormente. O triângulo de Pascal com 1 linha contém apenas o número '1'.\n",
        "\n",
        "Para centralizar uma string em Python, você pode usar o método `.center(width)`. Por exemplo:\n",
        "\n",
        "```\n",
        "\"CS41\".center(10)  # => '   CS41   '\n",
        "```\n",
        "\n",
        "Você pode até mesmo especificar um `fillchar` opcional para preencher com caracteres diferentes de espaços!\n",
        "\n",
        "A parte mais difícil desse problema é determinar a largura da linha inferior do triângulo. Você precisará gerar todas as linhas do triângulo e armazená-las antes de poder imprimir qualquer uma delas."
      ]
    },
    {
      "metadata": {
        "id": "wzNnKvA3l-Ql",
        "colab_type": "code",
        "colab": {}
      },
      "cell_type": "code",
      "source": [
        "def print_pascal_triangle(n):\n",
        "    \"\"\"Print the first n rows of Pascal's triangle.\"\"\"\n",
        "    pass"
      ],
      "execution_count": 0,
      "outputs": []
    },
    {
      "metadata": {
        "id": "VleXAdlgl-Qn",
        "colab_type": "text"
      },
      "cell_type": "markdown",
      "source": [
        "## Palavras Especiais\n",
        "\n",
        "Para cada um dos problemas a seguir, descrevemos um critério que torna uma palavra (ou frase!) Especial, similar às nossas \"Palavras eficientes\" da aula.\n",
        "\n",
        "Se você estiver usando macOS ou Linux, você deve ter um arquivo de dicionário disponível em `/usr/share/dict/words`, um arquivo de texto de 2.5M contendo mais de 200 mil palavras em inglês, uma por linha. Entretanto, também está disponível este arquivo em `https://stanfordpython.com/res/misc/words`, para que você possa baixar o dicionário de lá, se o seu computador não tiver este arquivo de dicionário prontamente disponível.\n",
        "\n",
        "Qual seria uma estrutura de dados apropriada para armazenar as palavras em inglês?\n",
        "\n",
        "Escreva o método `load_english` para carregar palavras inglesas deste arquivo. Quantas palavras inglesas existem neste arquivo?"
      ]
    },
    {
      "metadata": {
        "id": "KPbVmsrcl-Qn",
        "colab_type": "code",
        "colab": {},
        "outputId": "af4b0590-a76f-42da-8a45-c7daf1679b2c"
      },
      "cell_type": "code",
      "source": [
        "# If you downloaded words from the course website,\n",
        "# change me to the path to the downloaded file.\n",
        "DICTIONARY_FILE = '/usr/share/dict/words'\n",
        "\n",
        "def load_english():\n",
        "    \"\"\"Load and return a collection of english words from a file.\"\"\"\n",
        "    pass\n",
        "\n",
        "english = load_english()\n",
        "print(len(english))"
      ],
      "execution_count": 0,
      "outputs": [
        {
          "output_type": "error",
          "ename": "TypeError",
          "evalue": "object of type 'NoneType' has no len()",
          "traceback": [
            "\u001b[0;31m---------------------------------------------------------------------------\u001b[0m",
            "\u001b[0;31mTypeError\u001b[0m                                 Traceback (most recent call last)",
            "\u001b[0;32m<ipython-input-9-c1a2eef91a2d>\u001b[0m in \u001b[0;36m<module>\u001b[0;34m\u001b[0m\n\u001b[1;32m      8\u001b[0m \u001b[0;34m\u001b[0m\u001b[0m\n\u001b[1;32m      9\u001b[0m \u001b[0menglish\u001b[0m \u001b[0;34m=\u001b[0m \u001b[0mload_english\u001b[0m\u001b[0;34m(\u001b[0m\u001b[0;34m)\u001b[0m\u001b[0;34m\u001b[0m\u001b[0;34m\u001b[0m\u001b[0m\n\u001b[0;32m---> 10\u001b[0;31m \u001b[0mprint\u001b[0m\u001b[0;34m(\u001b[0m\u001b[0mlen\u001b[0m\u001b[0;34m(\u001b[0m\u001b[0menglish\u001b[0m\u001b[0;34m)\u001b[0m\u001b[0;34m)\u001b[0m\u001b[0;34m\u001b[0m\u001b[0;34m\u001b[0m\u001b[0m\n\u001b[0m",
            "\u001b[0;31mTypeError\u001b[0m: object of type 'NoneType' has no len()"
          ]
        }
      ]
    },
    {
      "metadata": {
        "id": "nm91ZVMtl-Qp",
        "colab_type": "text"
      },
      "cell_type": "markdown",
      "source": [
        "### Frases Tríade\n",
        "\n",
        "Palavras Tríade são palavras em inglês para as quais as duas strings menores que você faz, extraindo letras alternadas, formam palavras válidas.\n",
        "\n",
        "Por examplo:\n",
        "\n",
        "![Triad Phrases](http://i.imgur.com/jGEXJWi.png)\n",
        "\n",
        "Escreva uma função para determinar se uma frase inteira passada em uma função **é feita de** palavras tríade. Você pode assumir que todas as palavras são feitas apenas de caracteres alfabéticos e são separadas por espaço em branco. Consideraremos a string vazia como uma palavra inglesa inválida.\n",
        "\n",
        "```\n",
        "is_triad_phrase(\"learned theorem\") # => True\n",
        "is_triad_phrase(\"studied theories\") # => False\n",
        "is_triad_phrase(\"wooded agrarians\") # => True\n",
        "is_triad_phrase(\"forrested farmers\") # => False\n",
        "is_triad_phrase(\"schooled oriole\") # => True\n",
        "is_triad_phrase(\"educated small bird\") # => False\n",
        "is_triad_phrase(\"a\") # => False\n",
        "is_triad_phrase(\"\") # => False\n",
        "```\n",
        "\n",
        "Gere uma lista de todas as palavras tríade. Quantos estão lá? Encontramos 2770 palavras tríade distintas (case-insensitive)."
      ]
    },
    {
      "metadata": {
        "id": "z2qwk4Izl-Qp",
        "colab_type": "code",
        "colab": {}
      },
      "cell_type": "code",
      "source": [
        "def is_triad_word(word, english):\n",
        "    \"\"\"Return whether a word is a triad word.\"\"\"\n",
        "    pass\n",
        "    \n",
        "def is_triad_phrase(phrase, english):\n",
        "    \"\"\"Return whether a phrase is composed of only triad words.\"\"\"\n",
        "    pass"
      ],
      "execution_count": 0,
      "outputs": []
    },
    {
      "metadata": {
        "id": "e0Plwgrzl-Qs",
        "colab_type": "text"
      },
      "cell_type": "markdown",
      "source": [
        "### Frases Crescentes (challenge)\n",
        "\n",
        "As Palavras Crescentes são as palavras inglesas para as quais a distância entre cada par adjacente de letras aumenta estritamente.\n",
        "\n",
        "Por exemplo:\n",
        "\n",
        "![Surpassing Phrases](http://i.imgur.com/XKiCnUc.png)\n",
        "\n",
        "Escreva uma função para determinar se uma frase inteira passada em uma função é feita de palavras Palavras Crescentes. Você pode assumir que todas as palavras são feitas apenas de caracteres alfabéticos e são separadas por espaço em branco. Consideraremos a string vazia e uma string de 1 caractere como válidas para uma Palavras Crescentes.\n",
        "\n",
        "```python\n",
        "is_surpassing_phrase(\"superb subway\") # => True\n",
        "is_surpassing_phrase(\"excellent train\") # => False\n",
        "is_surpassing_phrase(\"porky hogs\") # => True\n",
        "is_surpassing_phrase(\"plump pigs\") # => False\n",
        "is_surpassing_phrase(\"turnip fields\") # => True\n",
        "is_surpassing_phrase(\"root vegetable lands\") # => False\n",
        "is_surpassing_phrase(\"a\") # => True\n",
        "is_surpassing_phrase(\"\") # => True\n",
        "```\n",
        "\n",
        "Nós fornecemos uma função `character_gap` que retorna o espaço entre dois caracteres. Para entender como funciona, primeiro você deve aprender sobre as funções do Python `ord` (string de um caractere para ordinal inteiro) e` chr` (ordinal de inteiro para uma string de um caractere). Por exemplo:\n",
        "\n",
        "```python\n",
        "ord('a') # => 97\n",
        "chr(97) # => 'a'\n",
        "```\n",
        "\n",
        "Assim, para encontrar a lacuna entre `G` e` E`, calculamos `abs(ord('G') - ord('E'))`, onde `abs` retorna o valor absoluto de seu argumento.\n",
        "\n",
        "Gere uma lista de todas as Palavras Crescentes. Quantos estão lá? Encontramos 1931 palavras distintas."
      ]
    },
    {
      "metadata": {
        "id": "6AoLuVIGl-Qs",
        "colab_type": "code",
        "colab": {}
      },
      "cell_type": "code",
      "source": [
        "def character_gap(ch1, ch2):\n",
        "    \"\"\"Return the absolute gap between two characters.\"\"\"\n",
        "    return abs(ord(ch1) - ord(ch2))\n",
        "\n",
        "def is_surpassing_word(word):\n",
        "    \"\"\"Return whether a word is surpassing.\"\"\"\n",
        "    pass\n",
        "\n",
        "def is_surpassing_phrase(word):\n",
        "    \"\"\"Return whether a word is surpassing.\"\"\""
      ],
      "execution_count": 0,
      "outputs": []
    },
    {
      "metadata": {
        "id": "NG6QM2sSl-Qt",
        "colab_type": "text"
      },
      "cell_type": "markdown",
      "source": [
        "### Frases Ciclone (challenge)\n",
        "\n",
        "Palavras Ciclone são palavras em inglês que possuem uma sequência de caracteres em ordem alfabética ao seguir um padrão cíclico.\n",
        "\n",
        "Por exemplo:\n",
        "\n",
        "![Cyclone Phrases](http://i.stack.imgur.com/4XBV3.png)\n",
        "\n",
        "Escreva uma função que determine se uma frase inteira passada em uma função é feita de palavras Ciclone. Você pode assumir que todas as palavras são feitas apenas de caracteres alfabéticos e são separadas por espaço em branco.\n",
        "\n",
        "```\n",
        "is_cyclone_phrase(\"adjourned\") # => True\n",
        "is_cyclone_phrase(\"settled\") # => False\n",
        "is_cyclone_phrase(\"all alone at noon\") # => True\n",
        "is_cyclone_phrase(\"by myself at twelve pm\") # => False\n",
        "is_cyclone_phrase(\"acb\") # => True\n",
        "is_cyclone_phrase(\"\") # => True\n",
        "```\n",
        "\n",
        "Gere uma lista de todas as palavras Ciclone. Quantos estão lá? Como teste de sanidade, encontramos 769 palavras Ciclone distintas."
      ]
    },
    {
      "metadata": {
        "id": "GZvx8gVWl-Qu",
        "colab_type": "code",
        "colab": {}
      },
      "cell_type": "code",
      "source": [
        "def is_cyclone_word(word):\n",
        "    \"\"\"Return whether a word is a cyclone word.\"\"\"\n",
        "    \n",
        "def is_cyclone_phrase(word):\n",
        "    \"\"\"Return whether a phrase is composed only of cyclone words.\"\"\""
      ],
      "execution_count": 0,
      "outputs": []
    },
    {
      "metadata": {
        "id": "XQDzHMw7l-Qw",
        "colab_type": "text"
      },
      "cell_type": "markdown",
      "source": [
        "### Palavras Triângulo\n",
        "O enésimo termo da seqüência de números Triângulo é dado por 1 + 2 + ... + n = n(n+1) / 2. Por exemplo, os primeiros dez números Triângulo são:\n",
        "\n",
        "`1, 3, 6, 10, 15, 21, 28, 36, 45, 55, ...`\n",
        "\n",
        "Convertendo cada letra em uma palavra para um número correspondente à sua posição alfabética (`A = 1`,` B = 2`, etc) e somando estes valores, formamos um valor da palavra. Por exemplo, o valor da palavra para SKY é 19 + 11 + 25 = 55 e 55 é um número Triângulo. Se o valor da palavra é um número Triângulo, então devemos chamar a palavra uma palavra Triângulo.\n",
        "\n",
        "Gere uma lista de todas as palavras Triângulo. Quantos estão lá? Como teste de sanidade, encontramos 16303 palavras Triângulo distintas.\n",
        "\n",
        "* Dica: você pode usar `ord (ch)` para obter o valor ASCII inteiro de um caractere. Você também pode usar um dicionário para conseguir isso! *"
      ]
    },
    {
      "metadata": {
        "id": "Y8lJ80y3l-Qw",
        "colab_type": "code",
        "colab": {}
      },
      "cell_type": "code",
      "source": [
        "def is_triangle_word(word):\n",
        "    \"\"\"Return whether a word is a triangle word.\"\"\"\n",
        "    pass"
      ],
      "execution_count": 0,
      "outputs": []
    },
    {
      "metadata": {
        "id": "SPeakXUKl-Qy",
        "colab_type": "text"
      },
      "cell_type": "markdown",
      "source": [
        "## Acabou cedo?\n",
        "\n",
        "Leia o [Guia de Estilo do Python](https://www.python.org/dev/peps/pep-0008/), mantendo em mente o Zen do Python. Sinta-se livre para pular partes do guia de estilo que cobrem o material que ainda não tocamos nesta aula, mas é sempre bom começar com uma visão geral do bom estilo."
      ]
    }
  ]
}