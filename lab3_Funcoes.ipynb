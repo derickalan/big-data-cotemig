{
  "nbformat": 4,
  "nbformat_minor": 0,
  "metadata": {
    "colab": {
      "name": "lab3.Funcoes.ipynb",
      "version": "0.3.2",
      "provenance": [],
      "collapsed_sections": [],
      "include_colab_link": true
    },
    "kernelspec": {
      "name": "python3",
      "display_name": "Python 3"
    }
  },
  "cells": [
    {
      "cell_type": "markdown",
      "metadata": {
        "id": "view-in-github",
        "colab_type": "text"
      },
      "source": [
        "<a href=\"https://colab.research.google.com/github/derickalan/big-data-cotemig/blob/master/lab3_Funcoes.ipynb\" target=\"_parent\"><img src=\"https://colab.research.google.com/assets/colab-badge.svg\" alt=\"Open In Colab\"/></a>"
      ]
    },
    {
      "metadata": {
        "id": "3bO2lzB_nQ87",
        "colab_type": "text"
      },
      "cell_type": "markdown",
      "source": [
        "# **Lab 3: Funções**\n",
        "\n",
        "\n",
        "#**Explorando Argumentos e Parâmetros**\n",
        "\n",
        "Com um parceiro, resolva os problemas a seguir.\n",
        "\n",
        "Considere a seguinte definição de função:\n",
        "\n"
      ]
    },
    {
      "metadata": {
        "id": "Uf9rOFoEnZIT",
        "colab_type": "code",
        "colab": {}
      },
      "cell_type": "code",
      "source": [
        "def print_two(a, b):\n",
        "    print(\"Arguments: {0} and {1}\".format(a, b))"
      ],
      "execution_count": 0,
      "outputs": []
    },
    {
      "metadata": {
        "id": "TH4SnEqypiv7",
        "colab_type": "text"
      },
      "cell_type": "markdown",
      "source": [
        "Para cada uma das seguintes chamadas de função, preveja se a chamada é válida ou não. Se for válido, qual será o resultado? Se for inválido, qual é a causa do erro?\n",
        "\n",
        "Nota: faça suas previsões antes de executar o código de forma interativa. Então verifique você mesmo!"
      ]
    },
    {
      "metadata": {
        "id": "vimYsBX-qCBy",
        "colab_type": "code",
        "colab": {}
      },
      "cell_type": "code",
      "source": [
        "def print_two(a, b):\n",
        "    print(\"Arguments: {0} and {1}\".format(a, b))\n",
        "print_two()"
      ],
      "execution_count": 0,
      "outputs": []
    },
    {
      "metadata": {
        "id": "1kR7eafGqVYp",
        "colab_type": "code",
        "outputId": "ed465b33-edc7-4676-c7e9-d4cd81541455",
        "colab": {
          "base_uri": "https://localhost:8080/",
          "height": 34
        }
      },
      "cell_type": "code",
      "source": [
        "def print_two(a, b):\n",
        "    print(\"Arguments: {0} and {1}\".format(a, b))\n",
        "print_two(4, 1)"
      ],
      "execution_count": 0,
      "outputs": [
        {
          "output_type": "stream",
          "text": [
            "Arguments: 4 and 1\n"
          ],
          "name": "stdout"
        }
      ]
    },
    {
      "metadata": {
        "id": "z0rNjg0cqOCZ",
        "colab_type": "code",
        "colab": {}
      },
      "cell_type": "code",
      "source": [
        "def print_two(a, b):\n",
        "    print(\"Arguments: {0} and {1}\".format(a, b))\n",
        "print_two(41)"
      ],
      "execution_count": 0,
      "outputs": []
    },
    {
      "metadata": {
        "id": "Xx_qUCs5q-q3",
        "colab_type": "code",
        "colab": {}
      },
      "cell_type": "code",
      "source": [
        "def print_two(a, b):\n",
        "    print(\"Arguments: {0} and {1}\".format(a, b))\n",
        "print_two(a=4, 1)"
      ],
      "execution_count": 0,
      "outputs": []
    },
    {
      "metadata": {
        "id": "jfabfVvNrAFW",
        "colab_type": "code",
        "colab": {}
      },
      "cell_type": "code",
      "source": [
        "def print_two(a, b):\n",
        "    print(\"Arguments: {0} and {1}\".format(a, b))\n",
        "print_two(4, a=1)"
      ],
      "execution_count": 0,
      "outputs": []
    },
    {
      "metadata": {
        "id": "HaPMj5AorB8G",
        "colab_type": "code",
        "colab": {}
      },
      "cell_type": "code",
      "source": [
        "def print_two(a, b):\n",
        "    print(\"Arguments: {0} and {1}\".format(a, b))\n",
        "print_two(4, 1, 1)"
      ],
      "execution_count": 0,
      "outputs": []
    },
    {
      "metadata": {
        "id": "w-dQaYGyrDJX",
        "colab_type": "code",
        "colab": {}
      },
      "cell_type": "code",
      "source": [
        "def print_two(a, b):\n",
        "    print(\"Arguments: {0} and {1}\".format(a, b))\n",
        "print_two(b=4, 1)"
      ],
      "execution_count": 0,
      "outputs": []
    },
    {
      "metadata": {
        "id": "SO38xrDarEYQ",
        "colab_type": "code",
        "outputId": "3c62fd08-9880-47f2-8f86-86573407672a",
        "colab": {
          "base_uri": "https://localhost:8080/",
          "height": 34
        }
      },
      "cell_type": "code",
      "source": [
        "def print_two(a, b):\n",
        "    print(\"Arguments: {0} and {1}\".format(a, b))\n",
        "print_two(a=4, b=1)"
      ],
      "execution_count": 0,
      "outputs": [
        {
          "output_type": "stream",
          "text": [
            "Arguments: 4 and 1\n"
          ],
          "name": "stdout"
        }
      ]
    },
    {
      "metadata": {
        "id": "Qu9nZwUprFye",
        "colab_type": "code",
        "outputId": "c7cca406-eefa-4e5f-f5c2-e9226e724db8",
        "colab": {
          "base_uri": "https://localhost:8080/",
          "height": 34
        }
      },
      "cell_type": "code",
      "source": [
        "def print_two(a, b):\n",
        "    print(\"Arguments: {0} and {1}\".format(a, b))\n",
        "print_two(b=1, a=4)"
      ],
      "execution_count": 0,
      "outputs": [
        {
          "output_type": "stream",
          "text": [
            "Arguments: 4 and 1\n"
          ],
          "name": "stdout"
        }
      ]
    },
    {
      "metadata": {
        "id": "gcCg_vUurHFG",
        "colab_type": "code",
        "colab": {}
      },
      "cell_type": "code",
      "source": [
        "def print_two(a, b):\n",
        "    print(\"Arguments: {0} and {1}\".format(a, b))\n",
        "print_two(1, a=1)"
      ],
      "execution_count": 0,
      "outputs": []
    },
    {
      "metadata": {
        "id": "jBwUoePErIQX",
        "colab_type": "code",
        "colab": {}
      },
      "cell_type": "code",
      "source": [
        "def print_two(a, b):\n",
        "    print(\"Arguments: {0} and {1}\".format(a, b))\n",
        "print_two(4, 1, b=1)"
      ],
      "execution_count": 0,
      "outputs": []
    },
    {
      "metadata": {
        "id": "enRnzwQ5rc7w",
        "colab_type": "text"
      },
      "cell_type": "markdown",
      "source": [
        "#**Escreva pelo menos mais duas instâncias de chamadas de função, não listadas acima, e preveja sua saída. **\n",
        "\n",
        "São válidos ou inválidos? Verifique sua hipótese."
      ]
    },
    {
      "metadata": {
        "id": "CbY4AEEbrfnd",
        "colab_type": "code",
        "outputId": "be405575-0358-4a8a-b369-502aee200363",
        "colab": {
          "base_uri": "https://localhost:8080/",
          "height": 34
        }
      },
      "cell_type": "code",
      "source": [
        "def print_two(a, b):\n",
        "    print(\"Arguments: {0} and {1}\".format(a, b))\n",
        "print_two(7, 5)"
      ],
      "execution_count": 0,
      "outputs": [
        {
          "output_type": "stream",
          "text": [
            "Arguments: 7 and 5\n"
          ],
          "name": "stdout"
        }
      ]
    },
    {
      "metadata": {
        "id": "-j6QbBI2r8mU",
        "colab_type": "code",
        "outputId": "5f891ba5-2092-40d9-fa8e-e3427074cd0c",
        "colab": {
          "base_uri": "https://localhost:8080/",
          "height": 34
        }
      },
      "cell_type": "code",
      "source": [
        "def print_two(a, b):\n",
        "    print(\"Arguments: {0} and {1}\".format(a, b))\n",
        "print_two (7 + 1, 5 -1)"
      ],
      "execution_count": 0,
      "outputs": [
        {
          "output_type": "stream",
          "text": [
            "Arguments: 8 and 4\n"
          ],
          "name": "stdout"
        }
      ]
    },
    {
      "metadata": {
        "id": "pEs2nlQKsE3D",
        "colab_type": "code",
        "outputId": "2cabd1a5-647c-44b3-9ff8-751dbc49d08d",
        "colab": {
          "base_uri": "https://localhost:8080/",
          "height": 34
        }
      },
      "cell_type": "code",
      "source": [
        "def print_two(a, b):\n",
        "    print(\"Arguments: {0} and {1}\".format(a, b))\n",
        "print_two (a= 2 **2, b= 10 /2)"
      ],
      "execution_count": 0,
      "outputs": [
        {
          "output_type": "stream",
          "text": [
            "Arguments: 4 and 5.0\n"
          ],
          "name": "stdout"
        }
      ]
    },
    {
      "metadata": {
        "id": "X8er0z83sSbk",
        "colab_type": "text"
      },
      "cell_type": "markdown",
      "source": [
        "#**`Argumentos Padrão`**\n",
        "\n",
        "Considere a seguinte definição de função:"
      ]
    },
    {
      "metadata": {
        "id": "jdc8-97nsUmy",
        "colab_type": "code",
        "colab": {}
      },
      "cell_type": "code",
      "source": [
        "def keyword_args(a, b=1, c='X', d=None):\n",
        "    print(\"a:\", a)\n",
        "    print(\"b:\", b)\n",
        "    print(\"c:\", c)\n",
        "    print(\"d:\", d)"
      ],
      "execution_count": 0,
      "outputs": []
    },
    {
      "metadata": {
        "id": "urXj4j3psnq6",
        "colab_type": "text"
      },
      "cell_type": "markdown",
      "source": [
        "\n",
        "**Para cada uma das seguintes chamadas de função, preveja se a chamada é válida ou não. **\n",
        "\n",
        "Se for válido, qual será o resultado? Se for inválido, qual é a causa do erro?"
      ]
    },
    {
      "metadata": {
        "id": "ODDl7ydKstla",
        "colab_type": "code",
        "colab": {}
      },
      "cell_type": "code",
      "source": [
        "def keyword_args(a, b=1, c='X', d=None):\n",
        "    print(\"a:\", a)\n",
        "    print(\"b:\", b)\n",
        "    print(\"c:\", c)\n",
        "    print(\"d:\", d)\n",
        "keyword_args(5)"
      ],
      "execution_count": 0,
      "outputs": []
    },
    {
      "metadata": {
        "id": "kR-6fJXmtDfw",
        "colab_type": "code",
        "outputId": "9cf99c93-fa30-47f4-c321-e6b2aeee2a76",
        "colab": {
          "base_uri": "https://localhost:8080/",
          "height": 85
        }
      },
      "cell_type": "code",
      "source": [
        "def keyword_args(a, b=1, c='X', d=None):\n",
        "    print(\"a:\", a)\n",
        "    print(\"b:\", b)\n",
        "    print(\"c:\", c)\n",
        "    print(\"d:\", d)\n",
        "keyword_args(a=5)"
      ],
      "execution_count": 0,
      "outputs": [
        {
          "output_type": "stream",
          "text": [
            "a: 5\n",
            "b: 1\n",
            "c: X\n",
            "d: None\n"
          ],
          "name": "stdout"
        }
      ]
    },
    {
      "metadata": {
        "id": "bGKmt3WWtFhi",
        "colab_type": "code",
        "outputId": "5bcdc3da-675a-4edf-dee1-72f5ee7f636b",
        "colab": {
          "base_uri": "https://localhost:8080/",
          "height": 85
        }
      },
      "cell_type": "code",
      "source": [
        "def keyword_args(a, b=1, c='X', d=None):\n",
        "    print(\"a:\", a)\n",
        "    print(\"b:\", b)\n",
        "    print(\"c:\", c)\n",
        "    print(\"d:\", d)\n",
        "keyword_args(5, 8)\n"
      ],
      "execution_count": 0,
      "outputs": [
        {
          "output_type": "stream",
          "text": [
            "a: 5\n",
            "b: 8\n",
            "c: X\n",
            "d: None\n"
          ],
          "name": "stdout"
        }
      ]
    },
    {
      "metadata": {
        "id": "t2-ayoottHFJ",
        "colab_type": "code",
        "outputId": "cd682e79-d5d9-4966-f8d5-63bce5eca018",
        "colab": {
          "base_uri": "https://localhost:8080/",
          "height": 85
        }
      },
      "cell_type": "code",
      "source": [
        "\n",
        "def keyword_args(a, b=1, c='X', d=None):\n",
        "    print(\"a:\", a)\n",
        "    print(\"b:\", b)\n",
        "    print(\"c:\", c)\n",
        "    print(\"d:\", d)\n",
        "keyword_args(5, 2, c=4)\n"
      ],
      "execution_count": 0,
      "outputs": [
        {
          "output_type": "stream",
          "text": [
            "a: 5\n",
            "b: 2\n",
            "c: 4\n",
            "d: None\n"
          ],
          "name": "stdout"
        }
      ]
    },
    {
      "metadata": {
        "id": "kTdz_HANtIwY",
        "colab_type": "code",
        "outputId": "d06e398b-f717-4467-8238-0e772af6c51b",
        "colab": {
          "base_uri": "https://localhost:8080/",
          "height": 85
        }
      },
      "cell_type": "code",
      "source": [
        "def keyword_args(a, b=1, c='X', d=None):\n",
        "    print(\"a:\", a)\n",
        "    print(\"b:\", b)\n",
        "    print(\"c:\", c)\n",
        "    print(\"d:\", d)\n",
        "keyword_args(5, 0, 1)"
      ],
      "execution_count": 0,
      "outputs": [
        {
          "output_type": "stream",
          "text": [
            "a: 5\n",
            "b: 0\n",
            "c: 1\n",
            "d: None\n"
          ],
          "name": "stdout"
        }
      ]
    },
    {
      "metadata": {
        "id": "Du-XfjANtKU6",
        "colab_type": "code",
        "outputId": "4e95a53b-2478-4eac-ebba-8e1cb492e7a3",
        "colab": {
          "base_uri": "https://localhost:8080/",
          "height": 85
        }
      },
      "cell_type": "code",
      "source": [
        "def keyword_args(a, b=1, c='X', d=None):\n",
        "    print(\"a:\", a)\n",
        "    print(\"b:\", b)\n",
        "    print(\"c:\", c)\n",
        "    print(\"d:\", d)\n",
        "keyword_args(5, 2, d=8, c=4)\n",
        "\n"
      ],
      "execution_count": 0,
      "outputs": [
        {
          "output_type": "stream",
          "text": [
            "a: 5\n",
            "b: 2\n",
            "c: 4\n",
            "d: 8\n"
          ],
          "name": "stdout"
        }
      ]
    },
    {
      "metadata": {
        "id": "wNZNSEYEtMSI",
        "colab_type": "code",
        "colab": {}
      },
      "cell_type": "code",
      "source": [
        "def keyword_args(a, b=1, c='X', d=None):\n",
        "    print(\"a:\", a)\n",
        "    print(\"b:\", b)\n",
        "    print(\"c:\", c)\n",
        "    print(\"d:\", d)\n",
        "keyword_args(5, 2, 0, 1, \"\")\n"
      ],
      "execution_count": 0,
      "outputs": []
    },
    {
      "metadata": {
        "id": "hYSjui_PtOrQ",
        "colab_type": "code",
        "colab": {}
      },
      "cell_type": "code",
      "source": [
        "\n",
        "def keyword_args(a, b=1, c='X', d=None):\n",
        "    print(\"a:\", a)\n",
        "    print(\"b:\", b)\n",
        "    print(\"c:\", c)\n",
        "    print(\"d:\", d)\n",
        "keyword_args(c=7, 1)\n",
        "\n"
      ],
      "execution_count": 0,
      "outputs": []
    },
    {
      "metadata": {
        "id": "OsipAtmFtQsQ",
        "colab_type": "code",
        "outputId": "bbca340d-cf8c-4893-c839-bc9d35de5104",
        "colab": {
          "base_uri": "https://localhost:8080/",
          "height": 85
        }
      },
      "cell_type": "code",
      "source": [
        "def keyword_args(a, b=1, c='X', d=None):\n",
        "    print(\"a:\", a)\n",
        "    print(\"b:\", b)\n",
        "    print(\"c:\", c)\n",
        "    print(\"d:\", d)\n",
        "keyword_args(c=7, a=1)"
      ],
      "execution_count": 0,
      "outputs": [
        {
          "output_type": "stream",
          "text": [
            "a: 1\n",
            "b: 1\n",
            "c: 7\n",
            "d: None\n"
          ],
          "name": "stdout"
        }
      ]
    },
    {
      "metadata": {
        "id": "jox8cBw1tRtj",
        "colab_type": "code",
        "colab": {}
      },
      "cell_type": "code",
      "source": [
        "def keyword_args(a, b=1, c='X', d=None):\n",
        "    print(\"a:\", a)\n",
        "    print(\"b:\", b)\n",
        "    print(\"c:\", c)\n",
        "    print(\"d:\", d)\n",
        "keyword_args(5, 2, [], 5)\n",
        "\n"
      ],
      "execution_count": 0,
      "outputs": []
    },
    {
      "metadata": {
        "id": "8Xf8IvV-tSoo",
        "colab_type": "code",
        "colab": {}
      },
      "cell_type": "code",
      "source": [
        "def keyword_args(a, b=1, c='X', d=None):\n",
        "    print(\"a:\", a)\n",
        "    print(\"b:\", b)\n",
        "    print(\"c:\", c)\n",
        "    print(\"d:\", d)\n",
        "keyword_args(1, 7, e=6)"
      ],
      "execution_count": 0,
      "outputs": []
    },
    {
      "metadata": {
        "id": "lyOuZCzXtUFi",
        "colab_type": "code",
        "outputId": "894f2a58-597e-460c-b816-b2e8f4c72408",
        "colab": {
          "base_uri": "https://localhost:8080/",
          "height": 85
        }
      },
      "cell_type": "code",
      "source": [
        "def keyword_args(a, b=1, c='X', d=None):\n",
        "    print(\"a:\", a)\n",
        "    print(\"b:\", b)\n",
        "    print(\"c:\", c)\n",
        "    print(\"d:\", d)\n",
        "keyword_args(1, c=7)"
      ],
      "execution_count": 0,
      "outputs": [
        {
          "output_type": "stream",
          "text": [
            "a: 1\n",
            "b: 1\n",
            "c: 7\n",
            "d: None\n"
          ],
          "name": "stdout"
        }
      ]
    },
    {
      "metadata": {
        "id": "lS_qlIpitVFB",
        "colab_type": "code",
        "colab": {}
      },
      "cell_type": "code",
      "source": [
        "def keyword_args(a, b=1, c='X', d=None):\n",
        "    print(\"a:\", a)\n",
        "    print(\"b:\", b)\n",
        "    print(\"c:\", c)\n",
        "    print(\"d:\", d)\n",
        "keyword_args(5, 2, b=4)"
      ],
      "execution_count": 0,
      "outputs": []
    },
    {
      "metadata": {
        "id": "FkXoaajM4kK_",
        "colab_type": "code",
        "colab": {}
      },
      "cell_type": "code",
      "source": [
        ""
      ],
      "execution_count": 0,
      "outputs": []
    },
    {
      "metadata": {
        "id": "0OFyylzQu3Ui",
        "colab_type": "text"
      },
      "cell_type": "markdown",
      "source": [
        "#Escreva pelo menos mais duas chamadas de funções:"
      ]
    },
    {
      "metadata": {
        "id": "G4RayDbm4k_A",
        "colab_type": "text"
      },
      "cell_type": "markdown",
      "source": [
        ""
      ]
    },
    {
      "metadata": {
        "id": "zQR9L9dKvFna",
        "colab_type": "text"
      },
      "cell_type": "markdown",
      "source": [
        "**Escreva pelo menos mais duas instâncias de chamadas de função, não listadas acima, e preveja sua saída.**\n",
        "\n",
        "São válidos ou inválidos? Verifique sua hipótese."
      ]
    },
    {
      "metadata": {
        "id": "T4YSFBC4v4wZ",
        "colab_type": "code",
        "colab": {
          "base_uri": "https://localhost:8080/",
          "height": 198
        },
        "outputId": "13499a34-ff26-4f41-d31d-9a250150dcdf"
      },
      "cell_type": "code",
      "source": [
        "def keyword_args(a, b=1, c='X', d=None):\n",
        "    print(\"a:\", a)\n",
        "    print(\"b:\", b)\n",
        "    print(\"c:\", c)\n",
        "    print(\"d:\", d)\n",
        "keyword_args (a=1, b=1, c=b, d=7)"
      ],
      "execution_count": 35,
      "outputs": [
        {
          "output_type": "error",
          "ename": "NameError",
          "evalue": "ignored",
          "traceback": [
            "\u001b[0;31m---------------------------------------------------------------------------\u001b[0m",
            "\u001b[0;31mNameError\u001b[0m                                 Traceback (most recent call last)",
            "\u001b[0;32m<ipython-input-35-9a277d3ea5e3>\u001b[0m in \u001b[0;36m<module>\u001b[0;34m()\u001b[0m\n\u001b[1;32m      4\u001b[0m     \u001b[0mprint\u001b[0m\u001b[0;34m(\u001b[0m\u001b[0;34m\"c:\"\u001b[0m\u001b[0;34m,\u001b[0m \u001b[0mc\u001b[0m\u001b[0;34m)\u001b[0m\u001b[0;34m\u001b[0m\u001b[0;34m\u001b[0m\u001b[0m\n\u001b[1;32m      5\u001b[0m     \u001b[0mprint\u001b[0m\u001b[0;34m(\u001b[0m\u001b[0;34m\"d:\"\u001b[0m\u001b[0;34m,\u001b[0m \u001b[0md\u001b[0m\u001b[0;34m)\u001b[0m\u001b[0;34m\u001b[0m\u001b[0;34m\u001b[0m\u001b[0m\n\u001b[0;32m----> 6\u001b[0;31m \u001b[0mkeyword_args\u001b[0m \u001b[0;34m(\u001b[0m\u001b[0ma\u001b[0m\u001b[0;34m=\u001b[0m\u001b[0;36m1\u001b[0m\u001b[0;34m,\u001b[0m \u001b[0mb\u001b[0m\u001b[0;34m=\u001b[0m\u001b[0;36m1\u001b[0m\u001b[0;34m,\u001b[0m \u001b[0mc\u001b[0m\u001b[0;34m=\u001b[0m\u001b[0mb\u001b[0m\u001b[0;34m,\u001b[0m \u001b[0md\u001b[0m\u001b[0;34m=\u001b[0m\u001b[0;36m7\u001b[0m\u001b[0;34m)\u001b[0m\u001b[0;34m\u001b[0m\u001b[0;34m\u001b[0m\u001b[0m\n\u001b[0m",
            "\u001b[0;31mNameError\u001b[0m: name 'b' is not defined"
          ]
        }
      ]
    },
    {
      "metadata": {
        "id": "DInGLWNM4r3L",
        "colab_type": "text"
      },
      "cell_type": "markdown",
      "source": [
        "RESPOSTA: Inválido, pois 'b' não é definido"
      ]
    },
    {
      "metadata": {
        "id": "HuoEBqdvwFC6",
        "colab_type": "code",
        "colab": {
          "base_uri": "https://localhost:8080/",
          "height": 85
        },
        "outputId": "c5bb5251-dcc6-4c22-dc3c-5726329408c2"
      },
      "cell_type": "code",
      "source": [
        "def keyword_args(a, b=1, c='X', d=None):\n",
        "    print(\"a:\", a)\n",
        "    print(\"b:\", b)\n",
        "    print(\"c:\", c)\n",
        "    print(\"d:\", d)\n",
        "keyword_args (a=1 **1 , b= 3 - 1, d=7)"
      ],
      "execution_count": 39,
      "outputs": [
        {
          "output_type": "stream",
          "text": [
            "a: 1\n",
            "b: 2\n",
            "c: X\n",
            "d: 7\n"
          ],
          "name": "stdout"
        }
      ]
    },
    {
      "metadata": {
        "id": "jyRQ-TFRw4k1",
        "colab_type": "text"
      },
      "cell_type": "markdown",
      "source": [
        "**Explorando listas de argumentos Variádicos**\n",
        "\n",
        "\n",
        "Como antes, considere a seguinte definição de função:"
      ]
    },
    {
      "metadata": {
        "id": "hbMxc8aLw6w0",
        "colab_type": "code",
        "colab": {}
      },
      "cell_type": "code",
      "source": [
        "def variadic(*args, **kwargs):\n",
        "    print(\"Positional:\", args)\n",
        "    print(\"Keyword:\", kwargs)"
      ],
      "execution_count": 0,
      "outputs": []
    },
    {
      "metadata": {
        "id": "YEgVqipqxb0K",
        "colab_type": "text"
      },
      "cell_type": "markdown",
      "source": [
        "**Para cada uma das seguintes chamadas de função, preveja se a chamada é válida ou não. **\n",
        "\n",
        "Se for válido, qual será o resultado? Se for inválido, qual é a causa do erro?"
      ]
    },
    {
      "metadata": {
        "id": "ceCxrkEuxgFH",
        "colab_type": "code",
        "colab": {
          "base_uri": "https://localhost:8080/",
          "height": 51
        },
        "outputId": "4b2ca042-9362-4b47-a34d-f23313ec3423"
      },
      "cell_type": "code",
      "source": [
        "def variadic(*args, **kwargs):\n",
        "    print(\"Positional:\", args)\n",
        "    print(\"Keyword:\", kwargs)\n",
        "variadic(2, 3, 5, 7)"
      ],
      "execution_count": 42,
      "outputs": [
        {
          "output_type": "stream",
          "text": [
            "Positional: (2, 3, 5, 7)\n",
            "Keyword: {}\n"
          ],
          "name": "stdout"
        }
      ]
    },
    {
      "metadata": {
        "id": "sEhzKCY6x_4B",
        "colab_type": "code",
        "colab": {
          "base_uri": "https://localhost:8080/",
          "height": 51
        },
        "outputId": "989fb252-341f-4d1d-c4f7-50f6878988eb"
      },
      "cell_type": "code",
      "source": [
        "def variadic(*args, **kwargs):\n",
        "    print(\"Positional:\", args)\n",
        "    print(\"Keyword:\", kwargs)\n",
        "variadic(1, 1, n=1)"
      ],
      "execution_count": 43,
      "outputs": [
        {
          "output_type": "stream",
          "text": [
            "Positional: (1, 1)\n",
            "Keyword: {'n': 1}\n"
          ],
          "name": "stdout"
        }
      ]
    },
    {
      "metadata": {
        "id": "-IEL9F_VyBlQ",
        "colab_type": "code",
        "colab": {
          "base_uri": "https://localhost:8080/",
          "height": 130
        },
        "outputId": "7628ff6b-78bb-408d-cd3b-0760fad5302b"
      },
      "cell_type": "code",
      "source": [
        "def variadic(*args, **kwargs):\n",
        "    print(\"Positional:\", args)\n",
        "    print(\"Keyword:\", kwargs)\n",
        "variadic(n=1, 2, 3)"
      ],
      "execution_count": 44,
      "outputs": [
        {
          "output_type": "error",
          "ename": "SyntaxError",
          "evalue": "ignored",
          "traceback": [
            "\u001b[0;36m  File \u001b[0;32m\"<ipython-input-44-b6ab3b17881d>\"\u001b[0;36m, line \u001b[0;32m4\u001b[0m\n\u001b[0;31m    variadic(n=1, 2, 3)\u001b[0m\n\u001b[0m                 ^\u001b[0m\n\u001b[0;31mSyntaxError\u001b[0m\u001b[0;31m:\u001b[0m positional argument follows keyword argument\n"
          ]
        }
      ]
    },
    {
      "metadata": {
        "id": "mmQlrJZbyDIp",
        "colab_type": "code",
        "colab": {
          "base_uri": "https://localhost:8080/",
          "height": 51
        },
        "outputId": "08c55ccb-dc53-48dc-cfe7-e8a3f8578e6f"
      },
      "cell_type": "code",
      "source": [
        "def variadic(*args, **kwargs):\n",
        "    print(\"Positional:\", args)\n",
        "    print(\"Keyword:\", kwargs)\n",
        "variadic()"
      ],
      "execution_count": 45,
      "outputs": [
        {
          "output_type": "stream",
          "text": [
            "Positional: ()\n",
            "Keyword: {}\n"
          ],
          "name": "stdout"
        }
      ]
    },
    {
      "metadata": {
        "id": "RPBXFE8XyEnj",
        "colab_type": "code",
        "colab": {
          "base_uri": "https://localhost:8080/",
          "height": 51
        },
        "outputId": "8987efb9-648a-41c0-85e2-fbcfa3d01c01"
      },
      "cell_type": "code",
      "source": [
        "def variadic(*args, **kwargs):\n",
        "    print(\"Positional:\", args)\n",
        "    print(\"Keyword:\", kwargs)\n",
        "variadic(cs=\"Computer Science\", pd=\"Product Design\")"
      ],
      "execution_count": 46,
      "outputs": [
        {
          "output_type": "stream",
          "text": [
            "Positional: ()\n",
            "Keyword: {'cs': 'Computer Science', 'pd': 'Product Design'}\n"
          ],
          "name": "stdout"
        }
      ]
    },
    {
      "metadata": {
        "id": "4PGcFkxayF9v",
        "colab_type": "code",
        "colab": {
          "base_uri": "https://localhost:8080/",
          "height": 130
        },
        "outputId": "67667f16-e808-47c1-a514-073e579f4b8f"
      },
      "cell_type": "code",
      "source": [
        "def variadic(*args, **kwargs):\n",
        "    print(\"Positional:\", args)\n",
        "    print(\"Keyword:\", kwargs)\n",
        "variadic(cs=\"Computer Science\", cs=\"CompSci\", cs=\"CS\")\n",
        "\n"
      ],
      "execution_count": 47,
      "outputs": [
        {
          "output_type": "error",
          "ename": "SyntaxError",
          "evalue": "ignored",
          "traceback": [
            "\u001b[0;36m  File \u001b[0;32m\"<ipython-input-47-0b0a4ee3cbcc>\"\u001b[0;36m, line \u001b[0;32m4\u001b[0m\n\u001b[0;31m    variadic(cs=\"Computer Science\", cs=\"CompSci\", cs=\"CS\")\u001b[0m\n\u001b[0m                                   ^\u001b[0m\n\u001b[0;31mSyntaxError\u001b[0m\u001b[0;31m:\u001b[0m keyword argument repeated\n"
          ]
        }
      ]
    },
    {
      "metadata": {
        "id": "hvcwDGqZyHF0",
        "colab_type": "code",
        "colab": {
          "base_uri": "https://localhost:8080/",
          "height": 51
        },
        "outputId": "3ec96226-92fa-4656-fa94-487f25d69653"
      },
      "cell_type": "code",
      "source": [
        "def variadic(*args, **kwargs):\n",
        "    print(\"Positional:\", args)\n",
        "    print(\"Keyword:\", kwargs)\n",
        "variadic(5, 8, k=1, swap=2)\n",
        "\n"
      ],
      "execution_count": 48,
      "outputs": [
        {
          "output_type": "stream",
          "text": [
            "Positional: (5, 8)\n",
            "Keyword: {'k': 1, 'swap': 2}\n"
          ],
          "name": "stdout"
        }
      ]
    },
    {
      "metadata": {
        "id": "i3ruQy2pyIWI",
        "colab_type": "code",
        "colab": {
          "base_uri": "https://localhost:8080/",
          "height": 51
        },
        "outputId": "5b80156e-f6ac-43ab-c73f-8676f4ef4dcd"
      },
      "cell_type": "code",
      "source": [
        "def variadic(*args, **kwargs):\n",
        "    print(\"Positional:\", args)\n",
        "    print(\"Keyword:\", kwargs)\n",
        "variadic(8, *[3, 4, 5], k=1, **{'a':5, 'b':'x'})\n",
        "\n"
      ],
      "execution_count": 49,
      "outputs": [
        {
          "output_type": "stream",
          "text": [
            "Positional: (8, 3, 4, 5)\n",
            "Keyword: {'k': 1, 'a': 5, 'b': 'x'}\n"
          ],
          "name": "stdout"
        }
      ]
    },
    {
      "metadata": {
        "id": "x4fGLmfqyJpX",
        "colab_type": "code",
        "colab": {
          "base_uri": "https://localhost:8080/",
          "height": 51
        },
        "outputId": "7e29d537-bb60-46c3-8b1e-9a7038e083f1"
      },
      "cell_type": "code",
      "source": [
        "def variadic(*args, **kwargs):\n",
        "    print(\"Positional:\", args)\n",
        "    print(\"Keyword:\", kwargs)\n",
        "variadic(*[8, 3], *[4, 5], k=1, **{'a':5, 'b':'x'})\n",
        "\n"
      ],
      "execution_count": 50,
      "outputs": [
        {
          "output_type": "stream",
          "text": [
            "Positional: (8, 3, 4, 5)\n",
            "Keyword: {'k': 1, 'a': 5, 'b': 'x'}\n"
          ],
          "name": "stdout"
        }
      ]
    },
    {
      "metadata": {
        "id": "WXYuqddKyK0Y",
        "colab_type": "code",
        "colab": {
          "base_uri": "https://localhost:8080/",
          "height": 51
        },
        "outputId": "ab66822a-96da-492e-a34f-eea399e6c488"
      },
      "cell_type": "code",
      "source": [
        "def variadic(*args, **kwargs):\n",
        "    print(\"Positional:\", args)\n",
        "    print(\"Keyword:\", kwargs)\n",
        "variadic(*[3, 4, 5], 8, *(4, 1), k=1, **{'a':5, 'b':'x'})\n",
        "\n"
      ],
      "execution_count": 51,
      "outputs": [
        {
          "output_type": "stream",
          "text": [
            "Positional: (3, 4, 5, 8, 4, 1)\n",
            "Keyword: {'k': 1, 'a': 5, 'b': 'x'}\n"
          ],
          "name": "stdout"
        }
      ]
    },
    {
      "metadata": {
        "id": "bs_mTPNRyMX8",
        "colab_type": "code",
        "colab": {
          "base_uri": "https://localhost:8080/",
          "height": 51
        },
        "outputId": "75686226-1623-470c-c173-1e76694fe394"
      },
      "cell_type": "code",
      "source": [
        "def variadic(*args, **kwargs):\n",
        "    print(\"Positional:\", args)\n",
        "    print(\"Keyword:\", kwargs)\n",
        "variadic({'a':5, 'b':'x'}, *{'a':5, 'b':'x'}, **{'a':5, 'b':'x'})"
      ],
      "execution_count": 52,
      "outputs": [
        {
          "output_type": "stream",
          "text": [
            "Positional: ({'a': 5, 'b': 'x'}, 'a', 'b')\n",
            "Keyword: {'a': 5, 'b': 'x'}\n"
          ],
          "name": "stdout"
        }
      ]
    },
    {
      "metadata": {
        "id": "Wr3xMK8BzCd9",
        "colab_type": "text"
      },
      "cell_type": "markdown",
      "source": [
        "**Escreva pelo menos mais duas instâncias de chamadas de função, não listadas acima, e preveja sua saída. **\n",
        "\n",
        "\n",
        "São válidos ou inválidos? Verifique sua hipótese."
      ]
    },
    {
      "metadata": {
        "id": "k4xQYOtkzFIc",
        "colab_type": "code",
        "colab": {
          "base_uri": "https://localhost:8080/",
          "height": 51
        },
        "outputId": "da55b595-8696-420d-bb4f-cad000d087a5"
      },
      "cell_type": "code",
      "source": [
        "def variadic(*args, **kwargs):\n",
        "    print(\"Positional:\", args)\n",
        "    print(\"Keyword:\", kwargs)\n",
        "variadic (*[1, 2, 3], **{'a':16, 'b':'teste'}, k=1)"
      ],
      "execution_count": 53,
      "outputs": [
        {
          "output_type": "stream",
          "text": [
            "Positional: (1, 2, 3)\n",
            "Keyword: {'a': 16, 'b': 'teste', 'k': 1}\n"
          ],
          "name": "stdout"
        }
      ]
    },
    {
      "metadata": {
        "id": "Kbf9CSa2z46J",
        "colab_type": "code",
        "colab": {
          "base_uri": "https://localhost:8080/",
          "height": 255
        },
        "outputId": "ec82082d-d462-45bc-8232-5b3d2acf578e"
      },
      "cell_type": "code",
      "source": [
        "def variadic(*args, **kwargs):\n",
        "    print(\"Positional:\", args)\n",
        "    print(\"Keyword:\", kwargs)\n",
        "\n",
        "\n",
        "variadic()\n",
        "variadic(1, 2, 3, 4)\n",
        "variadic(1, 1, n=10000)\n",
        "variadic(5, 8, k=1, swap=2)\n",
        "variadic(5, 8, k=1, swiffswiff=2)\n",
        "variadic(cs=\"Computer Science\", pd=\"Product Design\", *[1], **{'d':'teste'})\n",
        "variadic (*[10, 20, 30], **{'a':16, 'b':'teste'}, k=1)"
      ],
      "execution_count": 65,
      "outputs": [
        {
          "output_type": "stream",
          "text": [
            "Positional: ()\n",
            "Keyword: {}\n",
            "Positional: (1, 2, 3, 4)\n",
            "Keyword: {}\n",
            "Positional: (1, 1)\n",
            "Keyword: {'n': 10000}\n",
            "Positional: (5, 8)\n",
            "Keyword: {'k': 1, 'swap': 2}\n",
            "Positional: (5, 8)\n",
            "Keyword: {'k': 1, 'swiffswiff': 2}\n",
            "Positional: (1,)\n",
            "Keyword: {'cs': 'Computer Science', 'pd': 'Product Design', 'd': 'teste'}\n",
            "Positional: (10, 20, 30)\n",
            "Keyword: {'a': 16, 'b': 'teste', 'k': 1}\n"
          ],
          "name": "stdout"
        }
      ]
    },
    {
      "metadata": {
        "id": "jIF8tdCe2UeM",
        "colab_type": "text"
      },
      "cell_type": "markdown",
      "source": [
        "**Opcional - Juntando Tudo!**\n",
        "\n"
      ]
    },
    {
      "metadata": {
        "id": "GL5Hj80W2dTJ",
        "colab_type": "code",
        "colab": {
          "base_uri": "https://localhost:8080/",
          "height": 136
        },
        "outputId": "cff59f9c-660f-4a55-93b6-4b4e921a8316"
      },
      "cell_type": "code",
      "source": [
        "def all_together(x, y, z=1, *nums, indent=True, spaces=4, **options):\n",
        "    print(\"x:\", x)\n",
        "    print(\"y:\", y)\n",
        "    print(\"z:\", z)\n",
        "    print(\"nums:\", nums)\n",
        "    print(\"indent:\", indent)\n",
        "    print(\"spaces:\", spaces)\n",
        "    print(\"options:\", options)\n",
        "\n",
        "all_together(2, 5, 7, 8, indent=False)\n"
      ],
      "execution_count": 68,
      "outputs": [
        {
          "output_type": "stream",
          "text": [
            "x: 2\n",
            "y: 5\n",
            "z: 7\n",
            "nums: (8,)\n",
            "indent: False\n",
            "spaces: 4\n",
            "options: {}\n"
          ],
          "name": "stdout"
        }
      ]
    },
    {
      "metadata": {
        "id": "DxdI5Zm320p3",
        "colab_type": "code",
        "colab": {
          "base_uri": "https://localhost:8080/",
          "height": 136
        },
        "outputId": "86a4f63b-84bc-433f-a042-f4bdcd790c98"
      },
      "cell_type": "code",
      "source": [
        "def all_together(x, y, z=1, *nums, indent=True, spaces=4, **options):\n",
        "    print(\"x:\", x)\n",
        "    print(\"y:\", y)\n",
        "    print(\"z:\", z)\n",
        "    print(\"nums:\", nums)\n",
        "    print(\"indent:\", indent)\n",
        "    print(\"spaces:\", spaces)\n",
        "    print(\"options:\", options)\n",
        "all_together(2, 5, 7, 6, indent=None)\n",
        "\n",
        "\n"
      ],
      "execution_count": 70,
      "outputs": [
        {
          "output_type": "stream",
          "text": [
            "x: 2\n",
            "y: 5\n",
            "z: 7\n",
            "nums: (6,)\n",
            "indent: None\n",
            "spaces: 4\n",
            "options: {}\n"
          ],
          "name": "stdout"
        }
      ]
    },
    {
      "metadata": {
        "id": "sx9R-n602nHc",
        "colab_type": "code",
        "colab": {
          "base_uri": "https://localhost:8080/",
          "height": 136
        },
        "outputId": "e51d31fd-332e-4baa-9afa-c0e3a3546f63"
      },
      "cell_type": "code",
      "source": [
        "\n",
        "\n",
        "def all_together(x, y, z=1, *nums, indent=True, spaces=4, **options):\n",
        "    print(\"x:\", x)\n",
        "    print(\"y:\", y)\n",
        "    print(\"z:\", z)\n",
        "    print(\"nums:\", nums)\n",
        "    print(\"indent:\", indent)\n",
        "    print(\"spaces:\", spaces)\n",
        "    print(\"options:\", options)\n",
        "all_together(dict(x=0, y=1), *range(10))\n",
        "\n",
        "\n"
      ],
      "execution_count": 77,
      "outputs": [
        {
          "output_type": "stream",
          "text": [
            "x: {'x': 0, 'y': 1}\n",
            "y: 0\n",
            "z: 1\n",
            "nums: (2, 3, 4, 5, 6, 7, 8, 9)\n",
            "indent: True\n",
            "spaces: 4\n",
            "options: {}\n"
          ],
          "name": "stdout"
        }
      ]
    },
    {
      "metadata": {
        "id": "NWJFAdyb2oZT",
        "colab_type": "code",
        "colab": {
          "base_uri": "https://localhost:8080/",
          "height": 374
        },
        "outputId": "abb5afa3-a02b-4966-ba16-5c6142e60164"
      },
      "cell_type": "code",
      "source": [
        "def all_together(x, y, z=1, *nums, indent=True, spaces=4, **options):\n",
        "    print(\"x:\", x)\n",
        "    print(\"y:\", y)\n",
        "    print(\"z:\", z)\n",
        "    print(\"nums:\", nums)\n",
        "    print(\"indent:\", indent)\n",
        "    print(\"spaces:\", spaces)\n",
        "    print(\"options:\", options)\n",
        "all_together([1, 2], {3:4})\n",
        "\n",
        "def all_together(x, y, z=1, *nums, indent=True, spaces=4, **options):\n",
        "    print(\"x:\", x)\n",
        "    print(\"y:\", y)\n",
        "    print(\"z:\", z)\n",
        "    print(\"nums:\", nums)\n",
        "    print(\"indent:\", indent)\n",
        "    print(\"spaces:\", spaces)\n",
        "    print(\"options:\", options)\n",
        "all_together(8, 9, 10, *[2, 4, 6], spaces=0, **{'a':[4,5], 'b':'x'})\n",
        "\n",
        "def all_together(x, y, z=1, *nums, indent=True, spaces=4, **options):\n",
        "    print(\"x:\", x)\n",
        "    print(\"y:\", y)\n",
        "    print(\"z:\", z)\n",
        "    print(\"nums:\", nums)\n",
        "    print(\"indent:\", indent)\n",
        "    print(\"spaces:\", spaces)\n",
        "    print(\"options:\", options)\n",
        "all_together(8, 9, *[2, 4, 6], *dict(z=1), spaces=0, **{'a':[4,5], 'b':'x'})"
      ],
      "execution_count": 72,
      "outputs": [
        {
          "output_type": "stream",
          "text": [
            "x: [1, 2]\n",
            "y: {3: 4}\n",
            "z: 1\n",
            "nums: ()\n",
            "indent: True\n",
            "spaces: 4\n",
            "options: {}\n",
            "x: 8\n",
            "y: 9\n",
            "z: 10\n",
            "nums: (2, 4, 6)\n",
            "indent: True\n",
            "spaces: 0\n",
            "options: {'a': [4, 5], 'b': 'x'}\n",
            "x: 8\n",
            "y: 9\n",
            "z: 2\n",
            "nums: (4, 6, 'z')\n",
            "indent: True\n",
            "spaces: 0\n",
            "options: {'a': [4, 5], 'b': 'x'}\n"
          ],
          "name": "stdout"
        }
      ]
    },
    {
      "metadata": {
        "id": "xGF_9NIO3qQF",
        "colab_type": "text"
      },
      "cell_type": "markdown",
      "source": [
        "#**Escrevendo Funções**\n",
        "\n",
        "Escreva uma função speak_excitedly que aceita um argumento posicional obrigatório (uma mensagem) e dois argumentos opcionais de palavra-chave, o primeiro dos quais é um inteiro positivo referindo-se ao número de pontos de exclamação para colocar no final da mensagem (padrão 1), e o segundo dos quais é um sinalizador booleano indicando se deve ou não capitalizar a mensagem (padrão False).\n",
        "\n",
        "Como seria a assinatura e a implementação da função para essa função?"
      ]
    },
    {
      "metadata": {
        "id": "TjNfDxpO3v0W",
        "colab_type": "code",
        "colab": {}
      },
      "cell_type": "code",
      "source": [
        "def speak_excitedly(???):\n",
        "    \"\"\"Print a message, with an optional number of exclamation points and optional capitalization.\"\"\"\n",
        "    pass"
      ],
      "execution_count": 0,
      "outputs": []
    },
    {
      "metadata": {
        "id": "8ACv5pVf318U",
        "colab_type": "text"
      },
      "cell_type": "markdown",
      "source": [
        "Como você chamaria essa função para produzir as seguintes saídas?\n",
        "\n",
        "\"I love Python!\"\n",
        "\n",
        "\"Keyword arguments are great!!!!\"\n",
        "\n",
        "\"I guess Java is okay...\"\n",
        "\n",
        "\"LET'S GO STANFORD!!\"\n",
        "\n"
      ]
    },
    {
      "metadata": {
        "id": "Y04zYfef34lC",
        "colab_type": "code",
        "colab": {}
      },
      "cell_type": "code",
      "source": [
        ""
      ],
      "execution_count": 0,
      "outputs": []
    }
  ]
}