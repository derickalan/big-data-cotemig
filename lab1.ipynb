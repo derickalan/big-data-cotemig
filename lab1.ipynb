{
  "nbformat": 4,
  "nbformat_minor": 0,
  "metadata": {
    "colab": {
      "name": "lab1.ipynb",
      "version": "0.3.2",
      "provenance": [],
      "include_colab_link": true
    },
    "language_info": {
      "codemirror_mode": {
        "name": "ipython",
        "version": 3
      },
      "file_extension": ".py",
      "mimetype": "text/x-python",
      "name": "python",
      "nbconvert_exporter": "python",
      "pygments_lexer": "ipython3",
      "version": "3.7.1"
    },
    "kernelspec": {
      "display_name": "Python 3",
      "language": "python",
      "name": "python3"
    }
  },
  "cells": [
    {
      "cell_type": "markdown",
      "metadata": {
        "id": "view-in-github",
        "colab_type": "text"
      },
      "source": [
        "<a href=\"https://colab.research.google.com/github/derickalan/big-data-cotemig/blob/master/lab1.ipynb\" target=\"_parent\"><img src=\"https://colab.research.google.com/assets/colab-badge.svg\" alt=\"Open In Colab\"/></a>"
      ]
    },
    {
      "metadata": {
        "id": "DpxVNhx8kSr5",
        "colab_type": "text"
      },
      "cell_type": "markdown",
      "source": [
        "# Lab 2: Bem-vindo ao Python"
      ]
    },
    {
      "metadata": {
        "id": "hO-aD_wCkSr6",
        "colab_type": "text"
      },
      "cell_type": "markdown",
      "source": [
        "## Visão Geral\n",
        "\n",
        "Bem-vindo ao seu primeiro laboratório! Os laboratórios são projetados para serem sua oportunidade de experimentar Python e ganhar experiência prática com a linguagem.\n",
        "\n",
        "O principal objetivo desse laboratório é garantir que a instalação do Python ocorra sem problemas e que não haja erros persistentes de instalação do Python por aí. Este laboratório também lhe dá a chance de escrever aqueles que podem ser seus primeiros programas em Python e permite que você experimente com ambos os scripts e com o interpretador interativo!\n",
        "\n",
        "Esses problemas não pretendem ser algoritmicamente desafiadores - apenas maneiras de exercitar seus conhecimentos de Python 3. Mesmo que os problemas pareçam simples, trabalhe com eles rapidamente, e então você está livre para ir.\n",
        "\n",
        "Você é bem-vindo para trabalhar em grupos ou individualmente. Lembre-se de se divertir! Faça amigos e talvez relaxe um pouco também.\n",
        "\n",
        "** Nota: Estes laboratórios são * projetados * para serem longos! Você não deve conseguir terminar todos os problemas em um período de aula. Trabalhe o máximo que puder no tempo previsto, mas sinta-se à vontade para pular de perguntas em perguntas livremente. Os problemas extras pretendem ser uma prática extra, se você quiser aprimorar ainda mais suas habilidades em Python. **\n",
        "\n",
        "Acima de tudo, divirta-se com o Python!"
      ]
    },
    {
      "metadata": {
        "id": "m6rLCCGvkSr7",
        "colab_type": "text"
      },
      "cell_type": "markdown",
      "source": [
        "### Executando o notebook\n",
        "\n",
        "Para rodar um notebook Jupyter, primeiro mude o diretório (`cd`) para onde quer que você tenha baixado o notebook. Então, a partir de uma linha de comando, execute:\n",
        "\n",
        "```bash\n",
        "$ source ~/cs41-env/bin/activate\n",
        "(cs41-env) $ jupyter lab\n",
        "```\n",
        "Você pode precisar executar `pip install jupyterlab` dentro de seu ambiente virtual se ainda não o fez."
      ]
    },
    {
      "metadata": {
        "id": "NvjJjyIykSr7",
        "colab_type": "text"
      },
      "cell_type": "markdown",
      "source": [
        "## Zen of Python\n",
        "\n",
        "Execute a célula de código a seguir, selecionando a célula e pressionando Shift + Enter."
      ]
    },
    {
      "metadata": {
        "id": "m4fLJ6aYkSr8",
        "colab_type": "code",
        "colab": {
          "base_uri": "https://localhost:8080/",
          "height": 374
        },
        "outputId": "9a21f37b-d5c9-4e0e-8f74-063cc8f8c3a0"
      },
      "cell_type": "code",
      "source": [
        "import this"
      ],
      "execution_count": 1,
      "outputs": [
        {
          "output_type": "stream",
          "text": [
            "The Zen of Python, by Tim Peters\n",
            "\n",
            "Beautiful is better than ugly.\n",
            "Explicit is better than implicit.\n",
            "Simple is better than complex.\n",
            "Complex is better than complicated.\n",
            "Flat is better than nested.\n",
            "Sparse is better than dense.\n",
            "Readability counts.\n",
            "Special cases aren't special enough to break the rules.\n",
            "Although practicality beats purity.\n",
            "Errors should never pass silently.\n",
            "Unless explicitly silenced.\n",
            "In the face of ambiguity, refuse the temptation to guess.\n",
            "There should be one-- and preferably only one --obvious way to do it.\n",
            "Although that way may not be obvious at first unless you're Dutch.\n",
            "Now is better than never.\n",
            "Although never is often better than *right* now.\n",
            "If the implementation is hard to explain, it's a bad idea.\n",
            "If the implementation is easy to explain, it may be a good idea.\n",
            "Namespaces are one honking great idea -- let's do more of those!\n"
          ],
          "name": "stdout"
        }
      ]
    },
    {
      "metadata": {
        "id": "rFG1BBNWkSr-",
        "colab_type": "text"
      },
      "cell_type": "markdown",
      "source": [
        "## Hello World\n",
        "\n",
        "Edite a célula a seguir para que ela imprima `\" Hello, world! \"` quando executada e, em seguida, execute a célula para confirmar."
      ]
    },
    {
      "metadata": {
        "id": "Dawu2G4ikSr_",
        "colab_type": "code",
        "colab": {}
      },
      "cell_type": "code",
      "source": [
        "# Edit me so that I print out \"Hello, world!\" when run!"
      ],
      "execution_count": 0,
      "outputs": []
    },
    {
      "metadata": {
        "id": "lT1cjJv3kSsB",
        "colab_type": "code",
        "colab": {},
        "outputId": "e5995587-0f7d-40d9-d3fd-0d1722659433"
      },
      "cell_type": "code",
      "source": [
        "x = \"Edit me so that I print out Hello, world! when run!\"\n",
        "print(x[28:41])"
      ],
      "execution_count": 0,
      "outputs": [
        {
          "output_type": "stream",
          "text": [
            "Hello, world!\n"
          ],
          "name": "stdout"
        }
      ]
    },
    {
      "metadata": {
        "id": "f1AYoBxxkSsE",
        "colab_type": "code",
        "colab": {},
        "outputId": "915be9b4-8d36-44ca-c69b-51dcae7ef66a"
      },
      "cell_type": "code",
      "source": [
        "def say_hello():\n",
        "    print(\"Hello, world!\")\n",
        "print(say_hello())"
      ],
      "execution_count": 0,
      "outputs": [
        {
          "output_type": "stream",
          "text": [
            "Hello, world!\n",
            "None\n"
          ],
          "name": "stdout"
        }
      ]
    },
    {
      "metadata": {
        "id": "i97zk2qMkSsG",
        "colab_type": "text"
      },
      "cell_type": "markdown",
      "source": [
        "## Aquecimento"
      ]
    },
    {
      "metadata": {
        "id": "hgkm2Y22kSsH",
        "colab_type": "code",
        "colab": {}
      },
      "cell_type": "code",
      "source": [
        ""
      ],
      "execution_count": 0,
      "outputs": []
    },
    {
      "metadata": {
        "id": "Q06-8X7PkSsJ",
        "colab_type": "text"
      },
      "cell_type": "markdown",
      "source": [
        "### Fizz, Buzz, FizzBuzz!\n",
        "Se listarmos todos os números naturais abaixo de 41 que são múltiplos de 3 ou 5, obtemos:\n",
        "\n",
        "```\n",
        " 3,  5,  6,  9, 10, 12, 15,\n",
        "18, 20, 21, 24, 25, 27, 30,\n",
        "33, 35, 36, 39, 40\n",
        "```\n",
        "\n",
        "A soma desses números é 408.\n",
        "\n",
        "Encontre a soma de todos os múltiplos de 3 ou 5 abaixo de 1001. Como teste de sanidade, os dois últimos dígitos da soma devem ser \"68\"."
      ]
    },
    {
      "metadata": {
        "id": "-QvcOQxtkSsJ",
        "colab_type": "code",
        "colab": {}
      },
      "cell_type": "code",
      "source": [
        "def fizzbuzz(n):\n",
        "    \"\"\"Returns the sum of all numbers less than n divisible by 3 or 5.\"\"\"\n",
        "    pass\n",
        "\n",
        "print(fizzbuzz(41))  # => 408\n",
        "print(fizzbuzz(1001))"
      ],
      "execution_count": 0,
      "outputs": []
    },
    {
      "metadata": {
        "id": "01xaHTzFkSsL",
        "colab_type": "code",
        "colab": {},
        "outputId": "fbe2dfb0-59b4-45fb-d92a-20b902693eef"
      },
      "cell_type": "code",
      "source": [
        "def fizzbuzz(n):\n",
        "    return sum([i for i in range(n) if i % 3 == 0 or i % 5 == 0])\n",
        "print(fizzbuzz(1001))"
      ],
      "execution_count": 0,
      "outputs": [
        {
          "output_type": "stream",
          "text": [
            "234168\n"
          ],
          "name": "stdout"
        }
      ]
    },
    {
      "metadata": {
        "id": "w5_zvo2DkSsQ",
        "colab_type": "text"
      },
      "cell_type": "markdown",
      "source": [
        "### Conjectura de Collatz\n",
        "\n",
        "A conjectura de * Collatz * é uma sequência iterativa definida nos inteiros positivos por:\n",
        "\n",
        "```\n",
        "n -> n / 2    se n é par\n",
        "n -> 3n + 1   se n é ímpar\n",
        "```\n",
        "\n",
        "Por exemplo, usando a regra acima e começando com 13 produzimos a sequência:\n",
        "\n",
        "```\n",
        "13 -> 40 -> 20 -> 10 -> 5 -> 16 -> 8 -> 4 -> 2 -> 1\n",
        "```\n",
        "\n",
        "Pode-se ver que esta sequência (a partir de 13 e terminando em 1) contém 10 termos. Embora não comprovado, a hipótese é que todos os números iniciais terminam em 1.\n",
        "\n",
        "Qual é o comprimento da cadeia mais longa que tem um número inicial abaixo de 1000?\n",
        "\n",
        "* NOTA: Uma vez que a cadeia comece, os termos podem ultrapassar mil. *\n",
        "\n",
        "Desafio: Mesma pergunta, mas para qualquer número inicial abaixo de 1.000.000. E quanto a qualquer número inicial abaixo de 10.000.000? Você pode precisar implementar um algoritmo mais inteligente do que ingênuo."
      ]
    },
    {
      "metadata": {
        "id": "4ddwjWh8kSsQ",
        "colab_type": "code",
        "colab": {}
      },
      "cell_type": "code",
      "source": [
        "def collatz_len(n):\n",
        "    \"\"\"Computes the length of the Collatz sequence starting at n.\"\"\"\n",
        "    pass\n",
        "\n",
        "def max_collatz_len(n):\n",
        "    \"\"\"Computes the longest Collatz sequence length for starting numbers less than n\"\"\"\n",
        "    pass\n",
        "\n",
        "print(collatz_len(13))  # => 10\n",
        "print(max_collatz_len(1000))\n",
        "\n",
        "# Challenge: Only attempt to solve these if you feel very comfortable with this material.\n",
        "# print(max_collatz_len(1000000))\n",
        "# print(max_collatz_len(100000000))\n"
      ],
      "execution_count": 0,
      "outputs": []
    },
    {
      "metadata": {
        "id": "9VK6fFmLkSsS",
        "colab_type": "code",
        "colab": {},
        "outputId": "cb8eb5ee-be48-45cf-9540-0bc471b20c0c"
      },
      "cell_type": "code",
      "source": [
        "def collatz_len(n):\n",
        "    length = 1\n",
        "    while n > 1:\n",
        "        if n % 2 == 0:\n",
        "            n //= 2\n",
        "        else:\n",
        "            n = 3 * n + 1\n",
        "        length += 1  \n",
        "    return length\n",
        "print(collatz_len(13))\n"
      ],
      "execution_count": 0,
      "outputs": [
        {
          "output_type": "stream",
          "text": [
            "10\n"
          ],
          "name": "stdout"
        }
      ]
    },
    {
      "metadata": {
        "id": "wzn5a8kAkSsU",
        "colab_type": "code",
        "colab": {},
        "outputId": "5939ee5d-1d53-42f5-e6a8-62ec5856c485"
      },
      "cell_type": "code",
      "source": [
        "def collatz_len(n):\n",
        "    length = 1\n",
        "    while n > 1:\n",
        "        if n % 2 == 0:\n",
        "            n //= 2\n",
        "        else:\n",
        "            n = 3 * n + 1\n",
        "        length += 1  \n",
        "    return length\n",
        "print(collatz_len(1000))"
      ],
      "execution_count": 0,
      "outputs": [
        {
          "output_type": "stream",
          "text": [
            "112\n"
          ],
          "name": "stdout"
        }
      ]
    },
    {
      "metadata": {
        "id": "0VITScAzkSsX",
        "colab_type": "code",
        "colab": {},
        "outputId": "cc75b641-2cdf-473c-d12f-3f22b040d1a7"
      },
      "cell_type": "code",
      "source": [
        "def collatz_len(n):\n",
        "    length = 1\n",
        "    while n > 1:\n",
        "        if n % 2 == 0:\n",
        "            n //= 2\n",
        "        else:\n",
        "            n = 3 * n + 1\n",
        "        length += 1  \n",
        "    return length\n",
        "def max_collatz_len(n):\n",
        "    return max([collatz_len(i) for i in range(1, n)])\n",
        "print(max_collatz_len(1000)) "
      ],
      "execution_count": 0,
      "outputs": [
        {
          "output_type": "stream",
          "text": [
            "179\n"
          ],
          "name": "stdout"
        }
      ]
    },
    {
      "metadata": {
        "id": "EoNin3G5kSsZ",
        "colab_type": "text"
      },
      "cell_type": "markdown",
      "source": [
        "### Fahrenheit-to-Celsius converter\n",
        "\n",
        "Escreva um programa para converter graus Fahrenheit em graus Celsius (1) pedindo ao usuário um número (não necessariamente inteiro) representando a temperatura atual em graus Fahrenheit, (2) convertendo esse valor em graus Celsius equivalentes, e (3) imprimindo o valor equivalente final.\n",
        "\n",
        "Por exemplo, seu programa deve ser capaz de emular a seguinte amostra de execução:\n",
        "\n",
        "```\n",
        "Temperature F? 212\n",
        "It is 100.0 degrees Celsius.\n",
        "\n",
        "Temperature F? 98.6\n",
        "It is 37.0 degrees Celsius.\n",
        "\n",
        "Temperature F? 10\n",
        "It is -12.222222222222221 degrees Celsius.\n",
        "```\n",
        "\n",
        "Quer um desafio? Tente imprimir a temperatura final em duas casas decimais. Por exemplo, no último caso acima nós imprimiríamos `-12.22` ao invés de` -12.222222222222221`. * Dica: dê uma olhada na função [`round ()`] (https://docs.python.org/3/library/functions.html#round). Python não é ótimo?"
      ]
    },
    {
      "metadata": {
        "id": "f0GQN6WjkSsa",
        "colab_type": "code",
        "colab": {}
      },
      "cell_type": "code",
      "source": [
        "def convert_fahr_to_cels(deg_fahr):\n",
        "    \"\"\"Convert a temperature given in degrees Fahrenheit to degrees Celcius.\"\"\"\n",
        "    pass\n",
        "\n",
        "def convert():\n",
        "    \"\"\"Ask the user for a temperature in degrees Fahrenheir, and print out the temperature in degrees Celsius.\"\"\"\n",
        "    pass"
      ],
      "execution_count": 0,
      "outputs": []
    },
    {
      "metadata": {
        "id": "65Qogxz9kSsc",
        "colab_type": "code",
        "colab": {},
        "outputId": "af8e9bce-2467-402a-8547-1a55149cf29b"
      },
      "cell_type": "code",
      "source": [
        "def my_function(x):\n",
        "    return 1.8 * x + 32\n",
        "print(my_function(100))\n"
      ],
      "execution_count": 0,
      "outputs": [
        {
          "output_type": "stream",
          "text": [
            "212.0\n"
          ],
          "name": "stdout"
        }
      ]
    },
    {
      "metadata": {
        "id": "gxoHHsrdkSsf",
        "colab_type": "code",
        "colab": {},
        "outputId": "0423ea09-a7bf-4ad7-bd58-1726f518f9db"
      },
      "cell_type": "code",
      "source": [
        "def my_function(x):\n",
        "    return (x-32)* 5/9\n",
        "print(my_function(100))"
      ],
      "execution_count": 0,
      "outputs": [
        {
          "output_type": "stream",
          "text": [
            "37.77777777777778\n"
          ],
          "name": "stdout"
        }
      ]
    },
    {
      "metadata": {
        "id": "yNDKMi_vkSsi",
        "colab_type": "text"
      },
      "cell_type": "markdown",
      "source": [
        "## Desafios Bônus\n",
        "\n",
        "Não se preocupe em fazer esses problemas de bônus. Na maioria dos casos, as perguntas bônus exigem que você pense de forma mais crítica ou use algoritmos mais avançados.\n",
        "\n",
        "Nesse caso, investigaremos formas avançadas de impressão e refletiremos sobre o design Python."
      ]
    },
    {
      "metadata": {
        "id": "9a_AL3JYkSsj",
        "colab_type": "text"
      },
      "cell_type": "markdown",
      "source": [
        "### Zen Printing\n",
        "\n",
        "Escreva um programa usando `print ()` que, quando executado, imprime o jogo da velha\n",
        "\n",
        "```\n",
        " X | . | . \n",
        "-----------\n",
        " . | O | . \n",
        "-----------\n",
        " . | O | X \n",
        "```\n",
        "\n",
        "Você pode encontrar os argumentos opcionais para `print ()` úteis, sobre os quais você pode ler [aqui] (https://docs.python.org/3/library/functions.html#print). Em não mais do que cinco minutos, tente usar esses argumentos opcionais para imprimir essa placa de jogo da velha."
      ]
    },
    {
      "metadata": {
        "id": "5QJZjp3fkSsl",
        "colab_type": "code",
        "colab": {}
      },
      "cell_type": "code",
      "source": [
        "# Print a tic-tac-toe board using optional arguments.\n",
        "def print_tictactoe():\n",
        "    \"\"\"Print out a specific partially-filled tic-tac-toe board.\"\"\"\n",
        "    pass"
      ],
      "execution_count": 0,
      "outputs": []
    },
    {
      "metadata": {
        "id": "ttb1W8JskSsn",
        "colab_type": "code",
        "colab": {},
        "outputId": "7ba58cf6-8155-44d1-880b-86ecae84e166"
      },
      "cell_type": "code",
      "source": [
        "x = \"  |  |  \"\n",
        "s = \"--+--+--\"\n",
        "print(x)\n",
        "print(s)\n",
        "print(x)\n",
        "print(s)\n",
        "print(x)"
      ],
      "execution_count": 0,
      "outputs": [
        {
          "output_type": "stream",
          "text": [
            "  |  |  \n",
            "--+--+--\n",
            "  |  |  \n",
            "--+--+--\n",
            "  |  |  \n"
          ],
          "name": "stdout"
        }
      ]
    },
    {
      "metadata": {
        "id": "WGBrBjPKkSsr",
        "colab_type": "code",
        "colab": {},
        "outputId": "e2a17a36-bbbd-4fe4-9e20-bfc0c9c310d7"
      },
      "cell_type": "code",
      "source": [
        "x = \"\"\"\n",
        "\\\n",
        "  |  |\n",
        "--+--+--\n",
        "  |  |\n",
        "--+--+--\n",
        "  |  |  \\\n",
        "  \"\"\"\n",
        "print(x)"
      ],
      "execution_count": 0,
      "outputs": [
        {
          "output_type": "stream",
          "text": [
            "\n",
            "  |  |\n",
            "--+--+--\n",
            "  |  |\n",
            "--+--+--\n",
            "  |  |    \n"
          ],
          "name": "stdout"
        }
      ]
    },
    {
      "metadata": {
        "id": "F_He_aMNkSsw",
        "colab_type": "text"
      },
      "cell_type": "markdown",
      "source": [
        "Talvez você tenha sido capaz de imprimir o tabuleiro do jogo da velha. Talvez não. No entanto, agora eu quero fazer o SUPER jogo da velha\n",
        "\n",
        "Escreva um programa que imprima uma placa SUPER jogo da velha\n",
        "\n",
        "```\n",
        "  |  |  H  |  |  H  |  |  \n",
        "--+--+--H--+--+--H--+--+--\n",
        "  |  |  H  |  |  H  |  |  \n",
        "--+--+--H--+--+--H--+--+--\n",
        "  |  |  H  |  |  H  |  |  \n",
        "========+========+========\n",
        "  |  |  H  |  |  H  |  |  \n",
        "--+--+--H--+--+--H--+--+--\n",
        "  |  |  H  |  |  H  |  |  \n",
        "--+--+--H--+--+--H--+--+--\n",
        "  |  |  H  |  |  H  |  |  \n",
        "========+========+========\n",
        "  |  |  H  |  |  H  |  |  \n",
        "--+--+--H--+--+--H--+--+--\n",
        "  |  |  H  |  |  H  |  |  \n",
        "--+--+--H--+--+--H--+--+--\n",
        "  |  |  H  |  |  H  |  |  \n",
        "```\n",
        "\n",
        "Você descobrirá que pode haver muitas maneiras de resolver esse problema. Qual você acha que é o mais 'pythônico'? Converse com alguém próximo a você sobre sua abordagem para esse problema. Lembre-se do Zen do Python!"
      ]
    },
    {
      "metadata": {
        "id": "1zxhzQIMkSsx",
        "colab_type": "code",
        "colab": {}
      },
      "cell_type": "code",
      "source": [
        "def print_super_tictactoe():\n",
        "    \"\"\"Print an empty SUPER tic-tac-toe board.\"\"\"\n",
        "    pass"
      ],
      "execution_count": 0,
      "outputs": []
    },
    {
      "metadata": {
        "id": "fqcedZWOkSsz",
        "colab_type": "text"
      },
      "cell_type": "markdown",
      "source": [
        "## Acabou cedo?\n",
        "\n",
        "Leia o [Guia de Estilo do Python] (https://www.python.org/dev/peps/pep-0008/), mantendo em mente o Zen do Python. De que maneira você percebe que as diretrizes de estilo do Python são influenciadas pela filosofia principal do Python? Algumas partes do guia de estilo abordam características de linguagem que ainda não foram abordadas em sala de aula - sinta-se à vontade para pular essas seções por enquanto."
      ]
    },
    {
      "metadata": {
        "id": "-q5cKHmzkSsz",
        "colab_type": "text"
      },
      "cell_type": "markdown",
      "source": [
        "## Créditos\n",
        "\n",
        "https://stanfordpython.com"
      ]
    }
  ]
}