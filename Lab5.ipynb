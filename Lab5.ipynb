{
  "nbformat": 4,
  "nbformat_minor": 0,
  "metadata": {
    "colab": {
      "name": "Lab5.ipynb",
      "version": "0.3.2",
      "provenance": [],
      "collapsed_sections": [],
      "include_colab_link": true
    },
    "kernelspec": {
      "name": "python3",
      "display_name": "Python 3"
    }
  },
  "cells": [
    {
      "cell_type": "markdown",
      "metadata": {
        "id": "view-in-github",
        "colab_type": "text"
      },
      "source": [
        "<a href=\"https://colab.research.google.com/github/derickalan/big-data-cotemig/blob/master/Lab5.ipynb\" target=\"_parent\"><img src=\"https://colab.research.google.com/assets/colab-badge.svg\" alt=\"Open In Colab\"/></a>"
      ]
    },
    {
      "cell_type": "markdown",
      "metadata": {
        "id": "oKbEWn9upvZa",
        "colab_type": "text"
      },
      "source": [
        "#**Lab 5: Orientação a objetos com Python**"
      ]
    },
    {
      "cell_type": "markdown",
      "metadata": {
        "id": "n4hXT_ZvqE5k",
        "colab_type": "text"
      },
      "source": [
        "Cursos de Stanford\n",
        "Classe base\n",
        "Vamos criar uma turma para representar cursos na Stanford! Um curso terá três atributos para iniciar: um departamento (como \"CS\"), um código de curso (como \"41\" ou \" 92SI \") e um título (como \"hap.py code\").\n",
        "\n"
      ]
    },
    {
      "cell_type": "code",
      "metadata": {
        "id": "554sxpXUqIUn",
        "colab_type": "code",
        "colab": {}
      },
      "source": [
        "class StanfordCourse:\n",
        "    def __init__(self, department, code, title):\n",
        "        self.department = department\n",
        "        self.code = code\n",
        "        self.title = title"
      ],
      "execution_count": 0,
      "outputs": []
    },
    {
      "cell_type": "markdown",
      "metadata": {
        "id": "xpnlNj2fqS5c",
        "colab_type": "text"
      },
      "source": [
        "Você pode assumir que todos os argumentos para este construtor serão strings.\n",
        "\n",
        "Executar a célula de código a seguir criará a classe StanfordCourse e imprimirá algumas informações sobre ela.\n",
        "\n",
        "Nota: Se você alterar o conteúdo desta definição de classe, você precisará re-executar a célula de código para que ela tenha algum efeito. Todos os objetos de instância do objeto de classe antigo não serão atualizados automaticamente, portanto, talvez seja necessário executar novamente instanciações desse objeto de classe."
      ]
    },
    {
      "cell_type": "code",
      "metadata": {
        "id": "u1eLvUptqWUy",
        "colab_type": "code",
        "outputId": "a5465573-04d9-47b3-9081-787a4f454e78",
        "colab": {
          "base_uri": "https://localhost:8080/",
          "height": 68
        }
      },
      "source": [
        "class StanfordCourse:\n",
        "    def __init__(self, department, code, title):\n",
        "        self.department = department\n",
        "        self.code = code\n",
        "        self.title = title\n",
        "        \n",
        "print(StanfordCourse)\n",
        "print(StanfordCourse.mro())\n",
        "print(StanfordCourse.__init__)"
      ],
      "execution_count": 0,
      "outputs": [
        {
          "output_type": "stream",
          "text": [
            "<class '__main__.StanfordCourse'>\n",
            "[<class '__main__.StanfordCourse'>, <class 'object'>]\n",
            "<function StanfordCourse.__init__ at 0x7f968e48fea0>\n"
          ],
          "name": "stdout"
        }
      ]
    },
    {
      "cell_type": "markdown",
      "metadata": {
        "id": "gsXpDDESqaQh",
        "colab_type": "text"
      },
      "source": [
        "Criamos uma instância da classe, instanciando o objeto de classe, fornecendo alguns argumentos.\n",
        "\n",
        "stanford_python = StanfordCourse(\"CS\", \"41\", \"hap.py code: the python programming language\")\n",
        "Imprima os três atributos do objeto stanford_python."
      ]
    },
    {
      "cell_type": "code",
      "metadata": {
        "id": "saqpYevBqdGQ",
        "colab_type": "code",
        "colab": {}
      },
      "source": [
        "\n",
        "stanford_python = StanfordCourse(\"CS\", \"41\", \"hap.py code: the python programming language\")\n",
        "\n",
        "print()  # Print out the department of stanford_python\n",
        "print()  # Print out the code of stanford_python\n",
        "print()  # Print out the title of stanford_python"
      ],
      "execution_count": 0,
      "outputs": []
    },
    {
      "cell_type": "markdown",
      "metadata": {
        "id": "yDLNRBeAkG2Q",
        "colab_type": "text"
      },
      "source": [
        "#Herança\n",
        "\n",
        "Vamos explorar a herança criando uma classe StanfordCSCourse que recebe um parâmetro adicionalrecorded com valor padrão False."
      ]
    },
    {
      "cell_type": "code",
      "metadata": {
        "id": "-JhMCIQBkNcY",
        "colab_type": "code",
        "colab": {}
      },
      "source": [
        "\n",
        "class StanfordCSCourse(StanfordCourse):\n",
        "    def __init__(self, department, code, title, recorded=False):\n",
        "        super().__init__(department, code, title)\n",
        "        self.is_recorded = recorded"
      ],
      "execution_count": 0,
      "outputs": []
    },
    {
      "cell_type": "markdown",
      "metadata": {
        "id": "SiHTxZQBkOSH",
        "colab_type": "text"
      },
      "source": [
        "\n",
        "Nós ainda não vimos a chamada **super()**, mas essa chamada nos permite tratar o objeto **self** como um objeto de instância da superclasse imediata (medida pelo MRO), então podemos chamar o método __init__ da superclasse.\n",
        "\n",
        "\n",
        "Podemos instanciar nossa nova classe:"
      ]
    },
    {
      "cell_type": "code",
      "metadata": {
        "id": "eDqOVX7okd40",
        "colab_type": "code",
        "colab": {}
      },
      "source": [
        "a = StanfordCourse(\"CS\", \"106A\", \"Programming Methodology\")\n",
        "b = StanfordCSCourse(\"CS\", \"106B\", \"Programming Abstractions\")\n",
        "x = StanfordCSCourse(\"CS\", \"106X\", \"Programming Abstractions\", recorded=True)\n",
        "print(a.code)  # => \"106A\"\n",
        "print(b.code)  # => \"106B\""
      ],
      "execution_count": 0,
      "outputs": []
    },
    {
      "cell_type": "markdown",
      "metadata": {
        "id": "khCLWCkkkgyW",
        "colab_type": "text"
      },
      "source": [
        "Leia as seguintes declarações e tente prever sua saída."
      ]
    },
    {
      "cell_type": "code",
      "metadata": {
        "id": "d9li1qBfkhZP",
        "colab_type": "code",
        "colab": {}
      },
      "source": [
        "type(a)\n",
        "isinstance(a, StanfordCourse)\n",
        "isinstance(b, StanfordCourse)\n",
        "isinstance(x, StanfordCourse)\n",
        "isinstance(x, StanfordCSCourse)\n",
        "issubclass(x, StanfordCSCourse)\n",
        "issubclass(StanfordCourse, StanfordCSCourse)\n",
        "type(a) == type(b)\n",
        "type(b) == type(x)\n",
        "a == b\n",
        "b == x"
      ],
      "execution_count": 0,
      "outputs": []
    },
    {
      "cell_type": "code",
      "metadata": {
        "id": "T6xREnzTkkkG",
        "colab_type": "code",
        "colab": {}
      },
      "source": [
        "a = StanfordCourse(\"CS\", \"106A\", \"Programming Methodology\")\n",
        "b = StanfordCSCourse(\"CS\", \"106B\", \"Programming Abstractions\")\n",
        "x = StanfordCSCourse(\"CS\", \"106X\", \"Programming Abstractions\", recorded=True)\n",
        "\n",
        "print(type(a))\n",
        "print(isinstance(a, StanfordCourse))\n",
        "print(isinstance(b, StanfordCourse))\n",
        "print(isinstance(x, StanfordCourse))\n",
        "print(isinstance(x, StanfordCSCourse))\n",
        "print(issubclass(StanfordCourse, StanfordCSCourse))\n",
        "print(type(a) == type(b))\n",
        "print(type(b) == type(x))\n",
        "print(a == b)\n",
        "print(b == x)"
      ],
      "execution_count": 0,
      "outputs": []
    },
    {
      "cell_type": "markdown",
      "metadata": {
        "id": "WahpVmE9knkw",
        "colab_type": "text"
      },
      "source": [
        "#Atributos Adicionais\n",
        "\n",
        "Vamos adicionar mais funcionalidades à classe StanfordCourse!\n",
        "\n",
        "Adicione um atributo **students** às instâncias da classe StanfordCourse que controla se os alunos estão presentes. Inicialmente, os alunos devem ser um conjunto vazio.\n",
        "\n",
        "Crie um método **mark_attendance(*students)** que tome um número variável de students e marque-os como presentes.\n",
        "\n",
        "Crie um método **is_present(student)** que use o nome de um aluno como parâmetro e retorne True se o aluno estiver presente e False caso contrário."
      ]
    },
    {
      "cell_type": "code",
      "metadata": {
        "id": "LFueuNgIk-le",
        "colab_type": "code",
        "colab": {}
      },
      "source": [
        "class StanfordCourse:\n",
        "    def __init__(self, department, code, title):\n",
        "        self.department = department\n",
        "        self.code = code\n",
        "        self.title = title\n",
        "        \n",
        "    def mark_attendance(*students):\n",
        "        pass\n",
        "    \n",
        "    def is_present(student):\n",
        "        pass"
      ],
      "execution_count": 0,
      "outputs": []
    },
    {
      "cell_type": "markdown",
      "metadata": {
        "id": "rFlM9LcxlCKe",
        "colab_type": "text"
      },
      "source": [
        ""
      ]
    },
    {
      "cell_type": "markdown",
      "metadata": {
        "id": "mVzksg0xlCSt",
        "colab_type": "text"
      },
      "source": [
        "#Implementando Pré-requisitos\n",
        "\n",
        "Agora, vamos nos concentrar em StanfordCSCourse. \n",
        "\n",
        "Queremos implementar a funcionalidade para determinar se um curso de ciência da computação é um pré-requisito de outro.\n",
        "\n",
        "Em nossa implementação, assumiremos que a ordenação de cursos é determinada primeiro pela parte numérica do código do curso: por exemplo, 140 vem antes de255. \n",
        "\n",
        "Se houver um empate, a ordenação é determinada pela ordenação padrão das letras que se seguem. \n",
        "\n",
        "Por exemplo, 106A < 106B. Após a implementação, você poderá ver:"
      ]
    },
    {
      "cell_type": "code",
      "metadata": {
        "id": "Ig5lzJ2BlJZY",
        "colab_type": "code",
        "colab": {}
      },
      "source": [
        ">>> cs106a = StanfordCourse(\"CS\", \"106A\", \"Programming Methodology\")\n",
        ">>> cs106b = StanfordCSCourse(\"CS\", \"106B\", \"Programming Abstractions\")\n",
        ">>> cs107 = StanfordCSCourse(\"CS\", \"107\", \"Computer Organzation and Systems\")\n",
        ">>> cs110 = StanfordCSCourse(\"CS\", \"110\", \"Principles of Computer Systems\")\n",
        ">>> cs110 > cs106b\n",
        "True\n",
        ">>> cs107 > cs110\n",
        "False"
      ],
      "execution_count": 0,
      "outputs": []
    },
    {
      "cell_type": "markdown",
      "metadata": {
        "id": "e_57fBXHlR8Y",
        "colab_type": "text"
      },
      "source": [
        "Para conseguir isso, você precisará implementar o método mágico __le__ que adicionará funcionalidade para determinar se um curso é um pré-requisito para outro curso. \n",
        "\n",
        "Leia em total ordering para descobrir o que __le__ deve retornar com base no argumento transmitido.\n",
        "\n",
        "Para dar algumas dicas sobre como adicionar este pedaço de funcionalidade pode ser implementado, considere como você pode extrair o número real int do atributo de código do curso.\n",
        "\n",
        "Adicionalmente, você deve implementar um __eq__ na classe StanfordCourse. \n",
        "\n",
        "Dois cursos são equivalentes se estiverem no mesmo departamento e tiverem o mesmo código do curso: o título do curso não importa aqui."
      ]
    },
    {
      "cell_type": "code",
      "metadata": {
        "id": "apmxt5JelaSz",
        "colab_type": "code",
        "colab": {}
      },
      "source": [
        "class StanfordCourse:\n",
        "    def __init__(self, department, code, title):\n",
        "        self.department = department\n",
        "        self.code = code\n",
        "        self.title = title\n",
        "        \n",
        "    def mark_attendance(*students):\n",
        "        pass\n",
        "    \n",
        "    def __le__(self, other):\n",
        "        pass\n",
        "    \n",
        "    def __eq__(self, other):\n",
        "        pass"
      ],
      "execution_count": 0,
      "outputs": []
    },
    {
      "cell_type": "markdown",
      "metadata": {
        "id": "Iq5BUP8cldel",
        "colab_type": "text"
      },
      "source": [
        "#Ordenação\n",
        "\n",
        "Agora que escrevemos um método __le__ e um método __eq__, implementamos tudo o que precisamos para falar sobre uma \"ordenação\" do StanfordCourses. \n",
        "\n",
        "Usando o decorador functools.total_ordering, decore a classe para que todos os métodos de comparação sejam implementados. \n",
        "\n",
        "Você deveria poder executar o código abaixo sem problemas."
      ]
    },
    {
      "cell_type": "code",
      "metadata": {
        "id": "e_dL1D3clQF_",
        "colab_type": "code",
        "colab": {}
      },
      "source": [
        "# Let's make CS106A a CS course\n",
        "cs106a = StanfordCSCourse(\"CS\", \"106A\", \"Programming Methodology\")\n",
        "cs106b = StanfordCSCourse(\"CS\", \"106B\", \"Programming Abstractions\")\n",
        "cs107 = StanfordCSCourse(\"CS\", \"107\", \"Computer Organzation and Systems\")\n",
        "cs110 = StanfordCSCourse(\"CS\", \"110\", \"Principles of Computer Systems\")\n",
        "\n",
        "courses = [cs110, cs106a, cs107, cs106b]\n",
        "courses.sort()\n",
        "courses # => [cs106a, cs106b, cs107, cs110]"
      ],
      "execution_count": 0,
      "outputs": []
    },
    {
      "cell_type": "markdown",
      "metadata": {
        "id": "H7t1BZeJlmy0",
        "colab_type": "text"
      },
      "source": [
        "#Catálogo\n",
        "\n",
        "Implemente uma classe chamada CourseCatalog que é construída a partir de uma lista de StanfordCourses. \n",
        "\n",
        "Escreva um método para o CourseCatalog que retorna uma lista de cursos em um determinado departamento. \n",
        "\n",
        "Adicionalmente, escreva um método para o CourseCatalog que retorne todos os cursos que contenham um dado pedaço de texto de busca em seu título.\n",
        "\n",
        "Sinta-se à vontade para implementar qualquer outro método interessante que você queira."
      ]
    },
    {
      "cell_type": "code",
      "metadata": {
        "id": "TKgGXDitluUZ",
        "colab_type": "code",
        "colab": {}
      },
      "source": [
        "class CourseCatalog:\n",
        "    def __init__(self, courses):\n",
        "        pass\n",
        "       \n",
        "    def courses_by_department(self, department_name):\n",
        "        pass\n",
        "        \n",
        "    def courses_by_search_term(self, search_snippet):\n",
        "        pass"
      ],
      "execution_count": 0,
      "outputs": []
    },
    {
      "cell_type": "markdown",
      "metadata": {
        "id": "HTyKPEvIlxC6",
        "colab_type": "text"
      },
      "source": [
        "\n",
        "#Herança\n",
        "\n",
        "Considere o seguinte código:"
      ]
    },
    {
      "cell_type": "code",
      "metadata": {
        "id": "M3LRm4uml4Y7",
        "colab_type": "code",
        "colab": {}
      },
      "source": [
        "\"\"\"Examples of Single Inheritance\"\"\"\n",
        "class Transportation:\n",
        "    wheels = 0\n",
        "\n",
        "    def __init__(self):\n",
        "        self.wheels = -1\n",
        "\n",
        "    def travel_one(self):\n",
        "        print(\"Travelling on generic transportation\")\n",
        "\n",
        "    def travel(self, distance):\n",
        "        for _ in range(distance):\n",
        "            self.travel_one()\n",
        "\n",
        "    def is_auto(self):\n",
        "        return self.wheels == 4\n",
        "\n",
        "class Bike(Transportation):\n",
        "\n",
        "    def travel_one(self):\n",
        "        print(\"Biking one mile\")\n",
        "\n",
        "class Car(Transportation):\n",
        "    wheels = 4\n",
        "\n",
        "    def travel_one(self):\n",
        "        print(\"Driving one mile\")\n",
        "\n",
        "    def make_sound(self):\n",
        "        print(\"VROOM\")\n",
        "\n",
        "class Ferrari(Car):\n",
        "    pass\n",
        "\n",
        "t = Transportation()\n",
        "b = Bike()\n",
        "c = Car()\n",
        "f = Ferrari()"
      ],
      "execution_count": 0,
      "outputs": []
    },
    {
      "cell_type": "markdown",
      "metadata": {
        "id": "n5K8MM6Kl5Eo",
        "colab_type": "text"
      },
      "source": [
        "Preveja o resultado de cada uma das seguintes linhas de código."
      ]
    },
    {
      "cell_type": "code",
      "metadata": {
        "id": "_tZMemTml5d_",
        "colab_type": "code",
        "colab": {}
      },
      "source": [
        "isinstance(t, Transportation)\n",
        "\n",
        "isinstance(b, Bike)\n",
        "isinstance(b, Transportation)\n",
        "isinstance(b, Car)\n",
        "isinstance(b, t)\n",
        "\n",
        "isinstance(c, Car)\n",
        "isinstance(c, Transportation)\n",
        "\n",
        "isinstance(f, Ferrari)\n",
        "isinstance(f, Car)\n",
        "isinstance(f, Transportation)\n",
        "\n",
        "issubclass(Bike, Transportation)\n",
        "issubclass(Car, Transportation)\n",
        "issubclass(Ferrari, Car)\n",
        "issubclass(Ferrari, Transportation)\n",
        "issubclass(Transportation, Transportation)\n",
        "\n",
        "b.travel(5)\n",
        "c.is_auto()\n",
        "f.is_auto()\n",
        "b.is_auto()\n",
        "b.make_sound()\n",
        "c.travel(10)\n",
        "f.travel(4)"
      ],
      "execution_count": 0,
      "outputs": []
    },
    {
      "cell_type": "code",
      "metadata": {
        "id": "e73DFN7nmSPK",
        "colab_type": "code",
        "colab": {}
      },
      "source": [
        "\n",
        "class Transportation:\n",
        "    wheels = 0\n",
        "\n",
        "    def __init__(self):\n",
        "        self.wheels = -1\n",
        "\n",
        "    def travel_one(self):\n",
        "        print(\"Travelling on generic transportation\")\n",
        "\n",
        "    def travel(self, distance):\n",
        "        for _ in range(distance):\n",
        "            self.travel_one()\n",
        "\n",
        "    def is_auto(self):\n",
        "        return self.wheels == 4\n",
        "\n",
        "class Bike(Transportation):\n",
        "\n",
        "    def travel_one(self):\n",
        "        print(\"Biking one mile\")\n",
        "\n",
        "class Car(Transportation):\n",
        "    wheels = 4\n",
        "\n",
        "    def travel_one(self):\n",
        "        print(\"Driving one mile\")\n",
        "\n",
        "    def make_sound(self):\n",
        "        print(\"VROOM\")\n",
        "\n",
        "class Ferrari(Car):\n",
        "    pass\n",
        "\n",
        "t = Transportation()\n",
        "b = Bike()\n",
        "c = Car()\n",
        "f = Ferrari()"
      ],
      "execution_count": 0,
      "outputs": []
    },
    {
      "cell_type": "code",
      "metadata": {
        "id": "ySwFmIUEmVyP",
        "colab_type": "code",
        "colab": {}
      },
      "source": [
        "\n",
        "print(isinstance(t, Transportation))\n",
        "\n",
        "print(isinstance(b, Bike))\n",
        "print(isinstance(b, Transportation))\n",
        "print(isinstance(b, Car))\n",
        "print(isinstance(b, type(Car)))\n",
        "\n",
        "print(isinstance(c, Car))\n",
        "print(isinstance(c, Transportation))\n",
        "\n",
        "print(isinstance(f, Ferrari))\n",
        "print(isinstance(f, Car))\n",
        "print(isinstance(f, Transportation))\n",
        "\n",
        "print(issubclass(Bike, Transportation))\n",
        "print(issubclass(Car, Transportation))\n",
        "print(issubclass(Ferrari, Car))\n",
        "print(issubclass(Ferrari, Transportation))\n",
        "print(issubclass(Transportation, Transportation))\n",
        "\n",
        "b.travel(5)\n",
        "print(c.is_auto())\n",
        "print(f.is_auto())\n",
        "print(b.is_auto())\n",
        "# b.make_sound()\n",
        "c.travel(10)\n",
        "f.travel(4)"
      ],
      "execution_count": 0,
      "outputs": []
    },
    {
      "cell_type": "markdown",
      "metadata": {
        "id": "hHS6hDc5mbOU",
        "colab_type": "text"
      },
      "source": [
        "#Métodos Mágicos\n",
        "\n",
        "Leitura\n",
        "\n",
        "O Python fornece um número enorme de métodos especiais que uma classe pode substituir para interoperar com operações embutidas do Python. \n",
        "\n",
        "Você pode passar por uma lista visual aproximada de Dive into Python3, ou uma explicação mais detalhada, ou a documentação completa do Python em métodos especiais. \n",
        "\n",
        "AVISO: Há muitos deles, então é melhor dar uma olhada do que dar um mergulho profundo, a menos que você esteja amando essas coisas.\n",
        "\n",
        "Classe Polinomial\n",
        "\n",
        "Vamos escrever uma classe Polynomial que age como um número. \n",
        "\n",
        "Como lembrete, um polinômio é um objeto matemático que se parece com $ 1 + x + x ^ 2 $ ou $ 4 - 10x + x ^ 3 $ ou $ - 4 - 2x ^ {10} $. Um polinômio matemático pode ser avaliado em um determinado valor de $ x $. Por exemplo, se $ f (x) = 1 + x + x ^ 2 $, então $ f (5) = 1 + 5 + 5 ^ 2 = 1 + 5 + 25 = 31 $.\n",
        "\n",
        "\n",
        "Os polinômios também são adicionados: Se $f(x) = 1 + 4x + 4x ^ 3$ e $ g (x) = 2 + 3x ^ 2 + 5x ^ 3 $, então $ (f + g) (x) = (1 + 2) + 4x + 3x ^ 2 + (4 + 5) x ^ 3 = 3 + 4 + 3x ^ 2 + 9x ^ 3 $.\n",
        "\n",
        "\n",
        "**Construa um polinômio com uma lista variável de coeficientes: o argumento zero é a coordenada do lugar de $ x ^ 0 $, o primeiro argumento é a coordenada do lugar de $ x ^ 1 $, e assim por diante. Por exemplo, f = Polynomial(1, 3, 5) deve construir um Polynomial representando $ 1 + 3x + 5x ^ 2 $.\n",
        "\n",
        "\n",
        "Você precisará sobrescrever o método especial de adição (__add__) e o método especial que pode ser chamado (__call__).\n",
        "\n",
        "Você deve conseguir emular o seguinte código:"
      ]
    },
    {
      "cell_type": "code",
      "metadata": {
        "id": "tJ5MeBZhmpt-",
        "colab_type": "code",
        "colab": {}
      },
      "source": [
        "f = Polynomial(1, 5, 10)\n",
        "g = Polynomial(1, 3, 5)\n",
        "\n",
        "print(f(5))  # => Invokes `f.__call__(5)`\n",
        "print(g(2))  # => Invokes `g.__call__(2)`\n",
        "\n",
        "h = f + g    # => Invokes `f.__add__(g)`\n",
        "print(h(3))  # => Invokes `h.__call__(3)`"
      ],
      "execution_count": 0,
      "outputs": []
    },
    {
      "cell_type": "markdown",
      "metadata": {
        "id": "mMY07Ya9muG8",
        "colab_type": "text"
      },
      "source": [
        "Por fim, implemente um método para converter um Polynomial em uma representação informal de string. Por exemplo, o polinômio Polinomial (1, 3, 5) deve ser representado pela string \" 1 * x ^ 0 + 3 * x ^ 1 + 5 * x ^ 2 \"."
      ]
    },
    {
      "cell_type": "code",
      "metadata": {
        "id": "wDBDjDr1mwY2",
        "colab_type": "code",
        "colab": {}
      },
      "source": [
        "class Polynomial:\n",
        "    def __init__(self):\n",
        "        pass\n",
        "    \n",
        "    def __call__(self, x):\n",
        "        \"\"\"Implement `self(x)`.\"\"\"\n",
        "        pass\n",
        "    \n",
        "    def __add__(self, other):\n",
        "        \"\"\"Implement `self + other`.\"\"\"\n",
        "        pass\n",
        "    \n",
        "    def __str__(self):\n",
        "        \"\"\"Implement `str(x)`.\"\"\"\n",
        "        pass"
      ],
      "execution_count": 0,
      "outputs": []
    },
    {
      "cell_type": "markdown",
      "metadata": {
        "id": "BvT2Y0awm3uF",
        "colab_type": "text"
      },
      "source": [
        "#Exceções\n",
        "\n",
        "\n",
        "O Python fornece blocos try eexcept, semelhantes aos blocos try e catch de outras linguagens, para um fluxo de controle de exceções.\n",
        "\n",
        "get_age\n",
        "\n",
        "Escreva uma função get_age que pede a idade de um usuário, que deve ser um número inteiro positivo entre 0 e 123, inclusive (a pessoa mais velha registrada, Jeanna Clement, morreu aos 122 anos). \n",
        "\n",
        "Se o usuário inserir algo que não seja um inteiro, você deverá fazer uma nova solicitação. \n",
        "\n",
        "No entanto, se eles inserirem um número inteiro e estiverem fora do intervalo, você deverá gerar uma exceção. Ou seja, você deve continuar a reprocessá-los até que eles digam algo que possa ser convertido em um inteiro e, em seguida, retorne esse número se ele estiver no intervalo e apresente outra exceção. Duas execuções de amostra são mostradas abaixo"
      ]
    },
    {
      "cell_type": "markdown",
      "metadata": {
        "id": "C3G8MDFEnCQy",
        "colab_type": "text"
      },
      "source": [
        "(Call 1)\n",
        "How old are you? ABC\n",
        "Invalid integer input.\n",
        "How old are you? -4.5\n",
        "Invalid integer input.\n",
        "How old are you? 36\n",
        "**returns 36**\n",
        "\n",
        "(Call 2)\n",
        "How old are you? XYZ\n",
        "Invalid integer input.\n",
        "How old are you? 128\n",
        "**raises some exception**\n",
        "Traceback (most recent call last):\n",
        "  File \"<stdin>\", line 1, in <module>\n",
        "ValueError: Age 128 out of range"
      ]
    },
    {
      "cell_type": "code",
      "metadata": {
        "id": "XpwN7n7znEe-",
        "colab_type": "code",
        "colab": {}
      },
      "source": [
        "def get_age(min_age=0, max_age=123):\n",
        "    pass"
      ],
      "execution_count": 0,
      "outputs": []
    },
    {
      "cell_type": "markdown",
      "metadata": {
        "id": "WhZf1xQKnQ5X",
        "colab_type": "text"
      },
      "source": [
        "\n",
        "#Exceções Personalizadas\n",
        "\n",
        "Escreva uma classe de exceção personalizada chamada OutOfRangeError que herda de ValueError que indica que um determinado valor está fora de um intervalo aceitável. \n",
        "\n",
        "Como é essa definição de classe?\n",
        "\n",
        "**Implement OutOfRangeError**\n",
        "\n",
        "Reescreva seu código em get_age para usar esta exceção personalizada. Você precisa alterar algum outro código?"
      ]
    },
    {
      "cell_type": "code",
      "metadata": {
        "id": "A9-cBs1GnbGg",
        "colab_type": "code",
        "colab": {}
      },
      "source": [
        "# Add code here!"
      ],
      "execution_count": 0,
      "outputs": []
    },
    {
      "cell_type": "markdown",
      "metadata": {
        "id": "u3aLXALIngMg",
        "colab_type": "text"
      },
      "source": [
        "#Usando else e finally\n",
        "\n",
        "Reescreva sua função get_age para usar o bloco else e, opcionalmente, o bloco finally. \n",
        "\n",
        "Como é consistente com as diretrizes gerais de estilo, tente manter o bloco try tão curto quanto possível, contendo apenas o código que pode levantar a exceção que você está tentando capturar.\n",
        "\n",
        "#Reraising\n",
        "\n",
        "Considere o seguinte código:"
      ]
    },
    {
      "cell_type": "code",
      "metadata": {
        "id": "IadkwMZdnoTN",
        "colab_type": "code",
        "colab": {}
      },
      "source": [
        "try:\n",
        "    print(\"in try\")\n",
        "    # (A)\n",
        "except Exception as exc:\n",
        "    print(\"in except\")\n",
        "    # (B)\n",
        "else:\n",
        "    print(\"in else\")\n",
        "    # (C)\n",
        "finally:\n",
        "    print(\"in finally\")\n",
        "    # (D)"
      ],
      "execution_count": 0,
      "outputs": []
    },
    {
      "cell_type": "markdown",
      "metadata": {
        "id": "s86UQRl8nq8l",
        "colab_type": "text"
      },
      "source": [
        "Vamos adicionar alguns erros a este bloco de código, que atualmente é impresso\n",
        "\n",
        "**in try\n",
        "in else\n",
        "in finally**\n",
        "\n",
        "\n",
        "Para cada um dos locais rotulados (A), (B), (C), (D), quais declarações serão impressas se raise Exception() estiver nessa posição? \n",
        "\n",
        "Execute o código para testar suas hipóteses."
      ]
    },
    {
      "cell_type": "code",
      "metadata": {
        "id": "BWNwfrMsnyf7",
        "colab_type": "code",
        "colab": {}
      },
      "source": [
        "# Case (A)\n",
        "try:\n",
        "    print(\"Try\")\n",
        "    raise Exception('An on-purpose exception.')\n",
        "except Exception as exc:\n",
        "    print(\"Except\")\n",
        "else:\n",
        "    print(\"Else\")\n",
        "finally:\n",
        "    print(\"Finally\")"
      ],
      "execution_count": 0,
      "outputs": []
    },
    {
      "cell_type": "code",
      "metadata": {
        "id": "SCHBJvy_nywZ",
        "colab_type": "code",
        "colab": {}
      },
      "source": [
        "# Case (B)\n",
        "try:\n",
        "    print(\"Try\")\n",
        "except Exception as exc:\n",
        "    print(\"Except\")\n",
        "    raise Exception('An on-purpose exception.')\n",
        "else:\n",
        "    print(\"Else\")\n",
        "finally:\n",
        "    print(\"Finally\")"
      ],
      "execution_count": 0,
      "outputs": []
    },
    {
      "cell_type": "code",
      "metadata": {
        "id": "oGzrHRHjny5g",
        "colab_type": "code",
        "colab": {}
      },
      "source": [
        "# Case (C)\n",
        "try:\n",
        "    print(\"Try\")\n",
        "except Exception as exc:\n",
        "    print(\"Except\")\n",
        "else:\n",
        "    print(\"Else\")\n",
        "    raise Exception('An on-purpose exception.')\n",
        "finally:\n",
        "    print(\"Finally\")"
      ],
      "execution_count": 0,
      "outputs": []
    },
    {
      "cell_type": "code",
      "metadata": {
        "id": "ZWSnrmNnn6Ul",
        "colab_type": "code",
        "colab": {}
      },
      "source": [
        "# Case (D)\n",
        "try:\n",
        "    print(\"Try\")\n",
        "except Exception as exc:\n",
        "    print(\"Except\")\n",
        "else:\n",
        "    print(\"Else\")\n",
        "finally:\n",
        "    print(\"Finally\")\n",
        "    raise Exception('An on-purpose exception.')"
      ],
      "execution_count": 0,
      "outputs": []
    },
    {
      "cell_type": "code",
      "metadata": {
        "id": "U2HdRu9gn6s6",
        "colab_type": "code",
        "colab": {}
      },
      "source": [
        "# Case (AB)\n",
        "try:\n",
        "    print(\"Try\")\n",
        "    raise Exception('An on-purpose exception.')\n",
        "except Exception as exc:\n",
        "    print(\"Except\")\n",
        "    raise Exception('Another on-purpose exception.')\n",
        "else:\n",
        "    print(\"Else\")\n",
        "finally:\n",
        "    print(\"Finally\")"
      ],
      "execution_count": 0,
      "outputs": []
    },
    {
      "cell_type": "code",
      "metadata": {
        "id": "hoDnFQPEn65U",
        "colab_type": "code",
        "colab": {}
      },
      "source": [
        "# Case (AC)\n",
        "try:\n",
        "    print(\"Try\")\n",
        "    raise Exception('An on-purpose exception.')\n",
        "except Exception as exc:\n",
        "    print(\"Except\")\n",
        "else:\n",
        "    print(\"Else\")\n",
        "    raise Exception('Another on-purpose exception.')\n",
        "finally:\n",
        "    print(\"Finally\")"
      ],
      "execution_count": 0,
      "outputs": []
    },
    {
      "cell_type": "code",
      "metadata": {
        "id": "SDMDjdSZoDGg",
        "colab_type": "code",
        "colab": {}
      },
      "source": [
        "# Case (AD)\n",
        "try:\n",
        "    print(\"Try\")\n",
        "    raise Exception('An on-purpose exception.')\n",
        "except Exception as exc:\n",
        "    print(\"Except\")\n",
        "else:\n",
        "    print(\"Else\")\n",
        "finally:\n",
        "    print(\"Finally\")\n",
        "    raise Exception('Another on-purpose exception.')"
      ],
      "execution_count": 0,
      "outputs": []
    },
    {
      "cell_type": "code",
      "metadata": {
        "id": "eX0ByYHVn6Ql",
        "colab_type": "code",
        "colab": {}
      },
      "source": [
        ""
      ],
      "execution_count": 0,
      "outputs": []
    },
    {
      "cell_type": "code",
      "metadata": {
        "id": "-Ygi-qAyn6ND",
        "colab_type": "code",
        "colab": {}
      },
      "source": [
        ""
      ],
      "execution_count": 0,
      "outputs": []
    }
  ]
}