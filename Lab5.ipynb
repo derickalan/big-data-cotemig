{
  "nbformat": 4,
  "nbformat_minor": 0,
  "metadata": {
    "colab": {
      "name": "Lab5.ipynb",
      "version": "0.3.2",
      "provenance": [],
      "collapsed_sections": [],
      "include_colab_link": true
    },
    "kernelspec": {
      "name": "python3",
      "display_name": "Python 3"
    }
  },
  "cells": [
    {
      "cell_type": "markdown",
      "metadata": {
        "id": "view-in-github",
        "colab_type": "text"
      },
      "source": [
        "<a href=\"https://colab.research.google.com/github/derickalan/big-data-cotemig/blob/master/Lab5.ipynb\" target=\"_parent\"><img src=\"https://colab.research.google.com/assets/colab-badge.svg\" alt=\"Open In Colab\"/></a>"
      ]
    },
    {
      "cell_type": "markdown",
      "metadata": {
        "id": "oKbEWn9upvZa",
        "colab_type": "text"
      },
      "source": [
        "#**Lab 5: Orientação a objetos com Python**"
      ]
    },
    {
      "cell_type": "markdown",
      "metadata": {
        "id": "n4hXT_ZvqE5k",
        "colab_type": "text"
      },
      "source": [
        "Cursos de Stanford\n",
        "Classe base\n",
        "Vamos criar uma turma para representar cursos na Stanford! Um curso terá três atributos para iniciar: um departamento (como \"CS\"), um código de curso (como \"41\" ou \" 92SI \") e um título (como \"hap.py code\").\n",
        "\n"
      ]
    },
    {
      "cell_type": "code",
      "metadata": {
        "id": "554sxpXUqIUn",
        "colab_type": "code",
        "colab": {}
      },
      "source": [
        "class StanfordCourse:\n",
        "    def __init__(self, department, code, title):\n",
        "        self.department = department\n",
        "        self.code = code\n",
        "        self.title = title"
      ],
      "execution_count": 0,
      "outputs": []
    },
    {
      "cell_type": "markdown",
      "metadata": {
        "id": "xpnlNj2fqS5c",
        "colab_type": "text"
      },
      "source": [
        "Você pode assumir que todos os argumentos para este construtor serão strings.\n",
        "\n",
        "Executar a célula de código a seguir criará a classe StanfordCourse e imprimirá algumas informações sobre ela.\n",
        "\n",
        "Nota: Se você alterar o conteúdo desta definição de classe, você precisará re-executar a célula de código para que ela tenha algum efeito. Todos os objetos de instância do objeto de classe antigo não serão atualizados automaticamente, portanto, talvez seja necessário executar novamente instanciações desse objeto de classe."
      ]
    },
    {
      "cell_type": "code",
      "metadata": {
        "id": "u1eLvUptqWUy",
        "colab_type": "code",
        "colab": {
          "base_uri": "https://localhost:8080/",
          "height": 68
        },
        "outputId": "a5465573-04d9-47b3-9081-787a4f454e78"
      },
      "source": [
        "class StanfordCourse:\n",
        "    def __init__(self, department, code, title):\n",
        "        self.department = department\n",
        "        self.code = code\n",
        "        self.title = title\n",
        "        \n",
        "print(StanfordCourse)\n",
        "print(StanfordCourse.mro())\n",
        "print(StanfordCourse.__init__)"
      ],
      "execution_count": 2,
      "outputs": [
        {
          "output_type": "stream",
          "text": [
            "<class '__main__.StanfordCourse'>\n",
            "[<class '__main__.StanfordCourse'>, <class 'object'>]\n",
            "<function StanfordCourse.__init__ at 0x7f968e48fea0>\n"
          ],
          "name": "stdout"
        }
      ]
    },
    {
      "cell_type": "markdown",
      "metadata": {
        "id": "gsXpDDESqaQh",
        "colab_type": "text"
      },
      "source": [
        "Criamos uma instância da classe, instanciando o objeto de classe, fornecendo alguns argumentos.\n",
        "\n",
        "stanford_python = StanfordCourse(\"CS\", \"41\", \"hap.py code: the python programming language\")\n",
        "Imprima os três atributos do objeto stanford_python."
      ]
    },
    {
      "cell_type": "code",
      "metadata": {
        "id": "saqpYevBqdGQ",
        "colab_type": "code",
        "colab": {}
      },
      "source": [
        "\n",
        "stanford_python = StanfordCourse(\"CS\", \"41\", \"hap.py code: the python programming language\")\n",
        "\n",
        "print()  # Print out the department of stanford_python\n",
        "print()  # Print out the code of stanford_python\n",
        "print()  # Print out the title of stanford_python"
      ],
      "execution_count": 0,
      "outputs": []
    }
  ]
}