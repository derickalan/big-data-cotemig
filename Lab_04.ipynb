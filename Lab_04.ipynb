{
  "nbformat": 4,
  "nbformat_minor": 0,
  "metadata": {
    "colab": {
      "name": "Lab 04.ipynb",
      "version": "0.3.2",
      "provenance": [],
      "collapsed_sections": [],
      "include_colab_link": true
    },
    "kernelspec": {
      "name": "python3",
      "display_name": "Python 3"
    }
  },
  "cells": [
    {
      "cell_type": "markdown",
      "metadata": {
        "id": "view-in-github",
        "colab_type": "text"
      },
      "source": [
        "<a href=\"https://colab.research.google.com/github/derickalan/big-data-cotemig/blob/master/Lab_04.ipynb\" target=\"_parent\"><img src=\"https://colab.research.google.com/assets/colab-badge.svg\" alt=\"Open In Colab\"/></a>"
      ]
    },
    {
      "metadata": {
        "id": "zol5ipcHr1l3",
        "colab_type": "text"
      },
      "cell_type": "markdown",
      "source": [
        "**Lab 04**\n",
        "#Programação Funcional\n",
        "\n",
        "**Objetivo:** Explorar o lugar da programação funcional no cenário do Python e ganhar experiência com ferramentas poderosas como map,filter, iterators, generators e decorators.\n"
      ]
    },
    {
      "metadata": {
        "id": "dS__djmYyQuQ",
        "colab_type": "code",
        "colab": {}
      },
      "cell_type": "code",
      "source": [
        "import collections  # OrderedDict\n",
        "import functools    # reduce, wraps\n",
        "import inspect      # Signature\n",
        "import itertools    # permutations, cycle, starmap, zip_longest\n",
        "import operator     # mul\n",
        "import math         # gcd\n",
        "import random       # choice"
      ],
      "execution_count": 0,
      "outputs": []
    },
    {
      "metadata": {
        "id": "gKvIPSR9u5uw",
        "colab_type": "text"
      },
      "cell_type": "markdown",
      "source": [
        "#**Ferramentas Funcionais**\n",
        "\n",
        "# **Lambdas**\n",
        "\n",
        "Lembre-se de que as funções lambda são funções sem nome (anônimas) criados na hora, geralmente para realizar uma pequena transformação. Por exemplo,"
      ]
    },
    {
      "metadata": {
        "id": "Zrx6bezmvIGd",
        "colab_type": "code",
        "colab": {
          "base_uri": "https://localhost:8080/",
          "height": 34
        },
        "outputId": "0c9d5f0b-ea4d-43c3-e0e7-1e32d62c0fb2"
      },
      "cell_type": "code",
      "source": [
        "(lambda val: val ** 2)(5)"
      ],
      "execution_count": 4,
      "outputs": [
        {
          "output_type": "execute_result",
          "data": {
            "text/plain": [
              "25"
            ]
          },
          "metadata": {
            "tags": []
          },
          "execution_count": 4
        }
      ]
    },
    {
      "metadata": {
        "id": "lcYFYDXfwbDk",
        "colab_type": "code",
        "colab": {
          "base_uri": "https://localhost:8080/",
          "height": 34
        },
        "outputId": "1ed63406-96fb-42eb-a3ca-c118fb01c30d"
      },
      "cell_type": "code",
      "source": [
        "(lambda x, y: x * y)(3, 8)"
      ],
      "execution_count": 5,
      "outputs": [
        {
          "output_type": "execute_result",
          "data": {
            "text/plain": [
              "24"
            ]
          },
          "metadata": {
            "tags": []
          },
          "execution_count": 5
        }
      ]
    },
    {
      "metadata": {
        "id": "MwPnAJbXwd8k",
        "colab_type": "code",
        "colab": {
          "base_uri": "https://localhost:8080/",
          "height": 34
        },
        "outputId": "481a9471-1ac4-4189-c928-afa46f102e2e"
      },
      "cell_type": "code",
      "source": [
        "(lambda s: s.strip().lower()[:2])('  PyTHon')"
      ],
      "execution_count": 6,
      "outputs": [
        {
          "output_type": "execute_result",
          "data": {
            "text/plain": [
              "'py'"
            ]
          },
          "metadata": {
            "tags": []
          },
          "execution_count": 6
        }
      ]
    },
    {
      "metadata": {
        "id": "ppWaHr1Cwsgn",
        "colab_type": "text"
      },
      "cell_type": "markdown",
      "source": [
        "Sozinhas, funções lambdas não são particularmente úteis, como demonstrado acima, e quase nunca são criadas e invocados diretamente como mostrado. Usualmente, funções lambdas são usadas para evitar a criação de uma função formal definitiva para pequenas funções descartáveis, não apenas porque elas envolvem menos digitação (nenhuma declaraçãodef ou returnnecessária), mas também, e talvez mais importante, porque essas pequenas funções não poluirão o namespace envolvente e fornecerão a implementação da função na mesma linha.\n",
        "\n",
        "Lambdas também são freqüentemente usados como argumentos ou retornos de funções de alta-ordem, como map efilter.\n",
        "\n",
        "(Funções que operam sobre outras funções, seja tomando-as como argumentos ou retornando-as, são chamadas de funções de alta-ordem)."
      ]
    },
    {
      "metadata": {
        "id": "efZbW6hLwvEW",
        "colab_type": "text"
      },
      "cell_type": "markdown",
      "source": [
        "#**Map**"
      ]
    },
    {
      "metadata": {
        "id": "h6BED6NKxYfF",
        "colab_type": "text"
      },
      "cell_type": "markdown",
      "source": [
        "Executar usando **Map**\n",
        "\n",
        " ['12', '-2', '0'] --> [12, -2, 0]\n",
        "\n",
        " ['hello', 'world'] --> [5, 5]\n",
        "\n",
        " ['hello', 'world']` --> ['olleh', 'dlrow']\n",
        "\n",
        " range(2, 6) --> [(2, 4, 8), (3, 9, 27), (4, 16, 64), (5, 25, 125)]\n",
        "\n",
        " zip(range(2, 5), range(3, 9, 2)) --> [6, 15, 28]\n"
      ]
    },
    {
      "metadata": {
        "id": "qhgDHSHAxqHk",
        "colab_type": "code",
        "colab": {
          "base_uri": "https://localhost:8080/",
          "height": 34
        },
        "outputId": "3967152f-303c-4fc3-f12d-3f275fdc84dd"
      },
      "cell_type": "code",
      "source": [
        "def test_map():\n",
        "  map(int, ['12', '-2', '0'])      # ['12', '-2', '0'] -> [12, -2, 0]\n",
        "print(test_map)"
      ],
      "execution_count": 33,
      "outputs": [
        {
          "output_type": "stream",
          "text": [
            "<function test_map at 0x7f2c5efbc488>\n"
          ],
          "name": "stdout"
        }
      ]
    },
    {
      "metadata": {
        "id": "h6ofXVSjyvcl",
        "colab_type": "code",
        "colab": {}
      },
      "cell_type": "code",
      "source": [
        "def test_map():\n",
        "  map(int,['12', '-2', '0'])\n",
        "  "
      ],
      "execution_count": 0,
      "outputs": []
    },
    {
      "metadata": {
        "id": "XZLH-fJxx8_z",
        "colab_type": "code",
        "colab": {}
      },
      "cell_type": "code",
      "source": [
        "# ['hello', 'world'] -> [5, 5]\n",
        "def test_map():\n",
        "  map(len, ['hello', 'world'])\n"
      ],
      "execution_count": 0,
      "outputs": []
    },
    {
      "metadata": {
        "id": "uelaTvaJ8p6Y",
        "colab_type": "code",
        "colab": {
          "base_uri": "https://localhost:8080/",
          "height": 34
        },
        "outputId": "e77b2648-5b45-4948-beb7-342fbc6165dc"
      },
      "cell_type": "code",
      "source": [
        "\n",
        "languages = ['hello', 'world']\n",
        "[len(s) for s in languages]"
      ],
      "execution_count": 41,
      "outputs": [
        {
          "output_type": "execute_result",
          "data": {
            "text/plain": [
              "[5, 5]"
            ]
          },
          "metadata": {
            "tags": []
          },
          "execution_count": 41
        }
      ]
    },
    {
      "metadata": {
        "id": "xN7nd8yD9MO2",
        "colab_type": "code",
        "colab": {}
      },
      "cell_type": "code",
      "source": [
        "languages = ['hello', 'world']\n",
        "[len(s) for s in languages]\n",
        "map (len, languages)"
      ],
      "execution_count": 0,
      "outputs": []
    },
    {
      "metadata": {
        "id": "ugnlxMwiyCK7",
        "colab_type": "code",
        "colab": {}
      },
      "cell_type": "code",
      "source": [
        "# ['hello', 'world'] -> ['olleh', 'dlrow']\n",
        "def test_map():\n",
        "  map(lambda s: s[::-1], ['hello', 'world'])\n"
      ],
      "execution_count": 0,
      "outputs": []
    },
    {
      "metadata": {
        "id": "f6KDdLU9yDzf",
        "colab_type": "code",
        "colab": {}
      },
      "cell_type": "code",
      "source": [
        "# range(2, 6) -> [(2, 4, 8), (3, 9, 27), (4, 16, 64), (5, 25, 125)]\n",
        "def test_map():\n",
        "  map(lambda n: (n, n ** 2, n ** 3), range(2, 6))\n"
      ],
      "execution_count": 0,
      "outputs": []
    },
    {
      "metadata": {
        "id": "pCsLguNhyFOn",
        "colab_type": "code",
        "colab": {}
      },
      "cell_type": "code",
      "source": [
        "# zip(range(2, 5), range(3, 9, 2)) -> [6, 15, 28]\n",
        "def test_map():\n",
        "  map(lambda l, r: l * r, zip(range(2, 5), range(3, 9, 2)))\n"
      ],
      "execution_count": 0,
      "outputs": []
    },
    {
      "metadata": {
        "id": "_4iDM2wZ6opl",
        "colab_type": "text"
      },
      "cell_type": "markdown",
      "source": [
        "\n",
        "**Usando vários iteráveis**\n",
        "\n",
        "A função map pode aceitar um número variável de iteráveis como argumentos. \n",
        "\n",
        "Assim, **map (func, iterA, iterB, iterC)** é equivalente a **map (func, zip (iterA, iterB, iterC))**. Isso pode ser usado da seguinte maneira:"
      ]
    },
    {
      "metadata": {
        "id": "6Gzjn30d6oIC",
        "colab_type": "code",
        "colab": {}
      },
      "cell_type": "code",
      "source": [
        "  def map():\n",
        "    map(int,('101001', '0xCAFE', '42'),(2, 16, 10))\n",
        "  return(map)"
      ],
      "execution_count": 0,
      "outputs": []
    },
    {
      "metadata": {
        "id": "toXaoSwT7J3i",
        "colab_type": "text"
      },
      "cell_type": "markdown",
      "source": [
        "Para gerar cada um destes elementos, o Python irá avaliar: **int ('10110', 2)**, então **int ('0xCAFE', 16)**, e finalmente **int ('42 ', 10)**.\n",
        "\n",
        "Isso funciona porque int recebe um segundo argumento opcional, especificando a base de conversão"
      ]
    },
    {
      "metadata": {
        "id": "iBzPezzT7tyY",
        "colab_type": "text"
      },
      "cell_type": "markdown",
      "source": [
        "#**Filter**\n",
        "\n",
        "\n",
        "Lembre-se da aula que **filter (pred, iterable)** mantém apenas os elementos de um iterável que satisfazem uma função de predicado.\n",
        "\n",
        "Escreva instruções usando **filter** que convertem as seguintes sequências da coluna da esquerda para a coluna da direita:"
      ]
    },
    {
      "metadata": {
        "id": "slQnebjM-Gh3",
        "colab_type": "text"
      },
      "cell_type": "markdown",
      "source": [
        "**Write `filter` expressions to convert the following inputs into the indicated outputs.**\n",
        "\n",
        "['12', '-2', '0'] --> ['12', '0']\n",
        "\n",
        "['hello', 'world'] --> ['world']\n",
        "\n",
        "['Stanford', 'Cal', 'UCLA'] --> ['Stanford']\n",
        "\n",
        "range(20) --> [0, 3, 5, 6, 9, 10, 12, 15, 18]"
      ]
    }
  ]
}