{
  "nbformat": 4,
  "nbformat_minor": 0,
  "metadata": {
    "colab": {
      "name": "Lab 04.ipynb",
      "version": "0.3.2",
      "provenance": [],
      "collapsed_sections": [],
      "include_colab_link": true
    },
    "kernelspec": {
      "name": "python3",
      "display_name": "Python 3"
    }
  },
  "cells": [
    {
      "cell_type": "markdown",
      "metadata": {
        "id": "view-in-github",
        "colab_type": "text"
      },
      "source": [
        "<a href=\"https://colab.research.google.com/github/derickalan/big-data-cotemig/blob/master/Lab_04.ipynb\" target=\"_parent\"><img src=\"https://colab.research.google.com/assets/colab-badge.svg\" alt=\"Open In Colab\"/></a>"
      ]
    },
    {
      "metadata": {
        "id": "zol5ipcHr1l3",
        "colab_type": "text"
      },
      "cell_type": "markdown",
      "source": [
        "**Lab 04**\n",
        "#Programação Funcional\n",
        "\n",
        "**Objetivo:** Explorar o lugar da programação funcional no cenário do Python e ganhar experiência com ferramentas poderosas como map,filter, iterators, generators e decorators.\n"
      ]
    },
    {
      "metadata": {
        "id": "dS__djmYyQuQ",
        "colab_type": "code",
        "colab": {}
      },
      "cell_type": "code",
      "source": [
        "import collections  # OrderedDict\n",
        "import functools    # reduce, wraps\n",
        "import inspect      # Signature\n",
        "import itertools    # permutations, cycle, starmap, zip_longest\n",
        "import operator     # mul\n",
        "import math         # gcd\n",
        "import random       # choice"
      ],
      "execution_count": 0,
      "outputs": []
    },
    {
      "metadata": {
        "id": "gKvIPSR9u5uw",
        "colab_type": "text"
      },
      "cell_type": "markdown",
      "source": [
        "#**Ferramentas Funcionais**\n",
        "\n",
        "# **Lambdas**\n",
        "\n",
        "Lembre-se de que as funções lambda são funções sem nome (anônimas) criados na hora, geralmente para realizar uma pequena transformação. Por exemplo,"
      ]
    },
    {
      "metadata": {
        "id": "Zrx6bezmvIGd",
        "colab_type": "code",
        "colab": {
          "base_uri": "https://localhost:8080/",
          "height": 34
        },
        "outputId": "0c9d5f0b-ea4d-43c3-e0e7-1e32d62c0fb2"
      },
      "cell_type": "code",
      "source": [
        "(lambda val: val ** 2)(5)"
      ],
      "execution_count": 4,
      "outputs": [
        {
          "output_type": "execute_result",
          "data": {
            "text/plain": [
              "25"
            ]
          },
          "metadata": {
            "tags": []
          },
          "execution_count": 4
        }
      ]
    },
    {
      "metadata": {
        "id": "lcYFYDXfwbDk",
        "colab_type": "code",
        "colab": {
          "base_uri": "https://localhost:8080/",
          "height": 34
        },
        "outputId": "1ed63406-96fb-42eb-a3ca-c118fb01c30d"
      },
      "cell_type": "code",
      "source": [
        "(lambda x, y: x * y)(3, 8)"
      ],
      "execution_count": 5,
      "outputs": [
        {
          "output_type": "execute_result",
          "data": {
            "text/plain": [
              "24"
            ]
          },
          "metadata": {
            "tags": []
          },
          "execution_count": 5
        }
      ]
    },
    {
      "metadata": {
        "id": "MwPnAJbXwd8k",
        "colab_type": "code",
        "colab": {
          "base_uri": "https://localhost:8080/",
          "height": 34
        },
        "outputId": "481a9471-1ac4-4189-c928-afa46f102e2e"
      },
      "cell_type": "code",
      "source": [
        "(lambda s: s.strip().lower()[:2])('  PyTHon')"
      ],
      "execution_count": 6,
      "outputs": [
        {
          "output_type": "execute_result",
          "data": {
            "text/plain": [
              "'py'"
            ]
          },
          "metadata": {
            "tags": []
          },
          "execution_count": 6
        }
      ]
    },
    {
      "metadata": {
        "id": "ppWaHr1Cwsgn",
        "colab_type": "text"
      },
      "cell_type": "markdown",
      "source": [
        "Sozinhas, funções lambdas não são particularmente úteis, como demonstrado acima, e quase nunca são criadas e invocados diretamente como mostrado. Usualmente, funções lambdas são usadas para evitar a criação de uma função formal definitiva para pequenas funções descartáveis, não apenas porque elas envolvem menos digitação (nenhuma declaraçãodef ou returnnecessária), mas também, e talvez mais importante, porque essas pequenas funções não poluirão o namespace envolvente e fornecerão a implementação da função na mesma linha.\n",
        "\n",
        "Lambdas também são freqüentemente usados como argumentos ou retornos de funções de alta-ordem, como map efilter.\n",
        "\n",
        "(Funções que operam sobre outras funções, seja tomando-as como argumentos ou retornando-as, são chamadas de funções de alta-ordem)."
      ]
    },
    {
      "metadata": {
        "id": "dhFi-BZCBtya",
        "colab_type": "code",
        "colab": {}
      },
      "cell_type": "code",
      "source": [
        "#Exemplo\n",
        "#Adicao de 10% a uma lista \n",
        "Prices = [50, 60, 70]\n",
        "#Adiciona 10% ao preço\n",
        "newPrices = Prices.map((Prices) => Prices * 1.1)\n"
      ],
      "execution_count": 0,
      "outputs": []
    },
    {
      "metadata": {
        "id": "mx8lbqaFC_DN",
        "colab_type": "code",
        "colab": {}
      },
      "cell_type": "code",
      "source": [
        "[50, 60, 70].map(value => value * 1.1)"
      ],
      "execution_count": 0,
      "outputs": []
    },
    {
      "metadata": {
        "id": "H1-BXm-EDSeK",
        "colab_type": "code",
        "colab": {}
      },
      "cell_type": "code",
      "source": [
        "# Filtrar os preços maiores que 70\n",
        "prices = [ 78, 51, 36, 94, 56, 25, 90, 89, 62, 57 ]\n",
        "print= prices.filter((value)=> value > 70)]"
      ],
      "execution_count": 0,
      "outputs": []
    },
    {
      "metadata": {
        "id": "bCRSw6DlDkPM",
        "colab_type": "code",
        "colab": {}
      },
      "cell_type": "code",
      "source": [
        "# uma função para elevar todos os numeros da lista ao quadrado (^2)\n",
        "\n",
        "items = [1, 2, 3, 4, 5]\n",
        "squared = list(map(lambda x: x**2, items))"
      ],
      "execution_count": 0,
      "outputs": []
    },
    {
      "metadata": {
        "id": "efZbW6hLwvEW",
        "colab_type": "text"
      },
      "cell_type": "markdown",
      "source": [
        "#**Map**"
      ]
    },
    {
      "metadata": {
        "id": "h6BED6NKxYfF",
        "colab_type": "text"
      },
      "cell_type": "markdown",
      "source": [
        "Executar usando **Map**\n",
        "\n",
        " ['12', '-2', '0'] --> [12, -2, 0]\n",
        "\n",
        " ['hello', 'world'] --> [5, 5]\n",
        "\n",
        " ['hello', 'world']` --> ['olleh', 'dlrow']\n",
        "\n",
        " range(2, 6) --> [(2, 4, 8), (3, 9, 27), (4, 16, 64), (5, 25, 125)]\n",
        "\n",
        " zip(range(2, 5), range(3, 9, 2)) --> [6, 15, 28]\n"
      ]
    },
    {
      "metadata": {
        "id": "qhgDHSHAxqHk",
        "colab_type": "code",
        "colab": {
          "base_uri": "https://localhost:8080/",
          "height": 34
        },
        "outputId": "3967152f-303c-4fc3-f12d-3f275fdc84dd"
      },
      "cell_type": "code",
      "source": [
        "def test_map():\n",
        "  map(int, ['12', '-2', '0'])      # ['12', '-2', '0'] -> [12, -2, 0]\n",
        "print(test_map)"
      ],
      "execution_count": 33,
      "outputs": [
        {
          "output_type": "stream",
          "text": [
            "<function test_map at 0x7f2c5efbc488>\n"
          ],
          "name": "stdout"
        }
      ]
    },
    {
      "metadata": {
        "id": "h6ofXVSjyvcl",
        "colab_type": "code",
        "colab": {}
      },
      "cell_type": "code",
      "source": [
        "def test_map():\n",
        "  map(int,['12', '-2', '0'])\n",
        "  "
      ],
      "execution_count": 0,
      "outputs": []
    },
    {
      "metadata": {
        "id": "XZLH-fJxx8_z",
        "colab_type": "code",
        "colab": {}
      },
      "cell_type": "code",
      "source": [
        "# ['hello', 'world'] -> [5, 5]\n",
        "def test_map():\n",
        "  map(len, ['hello', 'world'])\n"
      ],
      "execution_count": 0,
      "outputs": []
    },
    {
      "metadata": {
        "id": "uelaTvaJ8p6Y",
        "colab_type": "code",
        "colab": {
          "base_uri": "https://localhost:8080/",
          "height": 34
        },
        "outputId": "e77b2648-5b45-4948-beb7-342fbc6165dc"
      },
      "cell_type": "code",
      "source": [
        "\n",
        "languages = ['hello', 'world']\n",
        "[len(s) for s in languages]"
      ],
      "execution_count": 41,
      "outputs": [
        {
          "output_type": "execute_result",
          "data": {
            "text/plain": [
              "[5, 5]"
            ]
          },
          "metadata": {
            "tags": []
          },
          "execution_count": 41
        }
      ]
    },
    {
      "metadata": {
        "id": "xN7nd8yD9MO2",
        "colab_type": "code",
        "colab": {}
      },
      "cell_type": "code",
      "source": [
        "languages = ['hello', 'world']\n",
        "[len(s) for s in languages]\n",
        "map (len, languages)"
      ],
      "execution_count": 0,
      "outputs": []
    },
    {
      "metadata": {
        "id": "ugnlxMwiyCK7",
        "colab_type": "code",
        "colab": {}
      },
      "cell_type": "code",
      "source": [
        "# ['hello', 'world'] -> ['olleh', 'dlrow']\n",
        "def test_map():\n",
        "  map(lambda s: s[::-1], ['hello', 'world'])\n"
      ],
      "execution_count": 0,
      "outputs": []
    },
    {
      "metadata": {
        "id": "f6KDdLU9yDzf",
        "colab_type": "code",
        "colab": {}
      },
      "cell_type": "code",
      "source": [
        "# range(2, 6) -> [(2, 4, 8), (3, 9, 27), (4, 16, 64), (5, 25, 125)]\n",
        "def test_map():\n",
        "  map(lambda n: (n, n ** 2, n ** 3), range(2, 6))\n"
      ],
      "execution_count": 0,
      "outputs": []
    },
    {
      "metadata": {
        "id": "pCsLguNhyFOn",
        "colab_type": "code",
        "colab": {}
      },
      "cell_type": "code",
      "source": [
        "# zip(range(2, 5), range(3, 9, 2)) -> [6, 15, 28]\n",
        "def test_map():\n",
        "  map(lambda l, r: l * r, zip(range(2, 5), range(3, 9, 2)))\n"
      ],
      "execution_count": 0,
      "outputs": []
    },
    {
      "metadata": {
        "id": "_4iDM2wZ6opl",
        "colab_type": "text"
      },
      "cell_type": "markdown",
      "source": [
        "\n",
        "**Usando vários iteráveis**\n",
        "\n",
        "A função map pode aceitar um número variável de iteráveis como argumentos. \n",
        "\n",
        "Assim, **map (func, iterA, iterB, iterC)** é equivalente a **map (func, zip (iterA, iterB, iterC))**. Isso pode ser usado da seguinte maneira:"
      ]
    },
    {
      "metadata": {
        "id": "6Gzjn30d6oIC",
        "colab_type": "code",
        "colab": {}
      },
      "cell_type": "code",
      "source": [
        "  def map():\n",
        "    map(int,('101001', '0xCAFE', '42'),(2, 16, 10))\n",
        "  return(map)"
      ],
      "execution_count": 0,
      "outputs": []
    },
    {
      "metadata": {
        "id": "toXaoSwT7J3i",
        "colab_type": "text"
      },
      "cell_type": "markdown",
      "source": [
        "Para gerar cada um destes elementos, o Python irá avaliar: **int ('10110', 2)**, então **int ('0xCAFE', 16)**, e finalmente **int ('42 ', 10)**.\n",
        "\n",
        "Isso funciona porque int recebe um segundo argumento opcional, especificando a base de conversão"
      ]
    },
    {
      "metadata": {
        "id": "iBzPezzT7tyY",
        "colab_type": "text"
      },
      "cell_type": "markdown",
      "source": [
        "#**Filter**\n",
        "\n",
        "\n",
        "Lembre-se da aula que **filter (pred, iterable)** mantém apenas os elementos de um iterável que satisfazem uma função de predicado.\n",
        "\n",
        "Escreva instruções usando **filter** que convertem as seguintes sequências da coluna da esquerda para a coluna da direita:"
      ]
    },
    {
      "metadata": {
        "id": "cVFQPS39-zA0",
        "colab_type": "code",
        "colab": {}
      },
      "cell_type": "code",
      "source": [
        "map(float,[\"1\", \"3\", \"-4\"])\n",
        "filter (is_prime, range(100))"
      ],
      "execution_count": 0,
      "outputs": []
    },
    {
      "metadata": {
        "id": "A7G18wgA_izJ",
        "colab_type": "code",
        "colab": {}
      },
      "cell_type": "code",
      "source": [
        "def map(x):\n",
        "  map (lambda val:val ** 2, range (10))\n",
        "\n"
      ],
      "execution_count": 0,
      "outputs": []
    },
    {
      "metadata": {
        "id": "slQnebjM-Gh3",
        "colab_type": "text"
      },
      "cell_type": "markdown",
      "source": [
        "**Write `filter` expressions to convert the following inputs into the indicated outputs.**\n",
        "\n",
        "['12', '-2', '0'] --> ['12', '0']\n",
        "\n",
        "['hello', 'world'] --> ['world']\n",
        "\n",
        "['Stanford', 'Cal', 'UCLA'] --> ['Stanford']\n",
        "\n",
        "range(20) --> [0, 3, 5, 6, 9, 10, 12, 15, 18]"
      ]
    },
    {
      "metadata": {
        "id": "ECKVUzmM-xzx",
        "colab_type": "code",
        "colab": {}
      },
      "cell_type": "code",
      "source": [
        "# ['12', '-2', '0'] -> ['12', '0']\n",
        "def test_filter():\n",
        "  filter(lambda x: int(x) >= 0, ['12', '-2', '0'])\n",
        "   "
      ],
      "execution_count": 0,
      "outputs": []
    },
    {
      "metadata": {
        "id": "6qnhiMLCHLi8",
        "colab_type": "code",
        "colab": {
          "base_uri": "https://localhost:8080/",
          "height": 34
        },
        "outputId": "77255444-e12c-4b2c-dac3-cd18da72f2cd"
      },
      "cell_type": "code",
      "source": [
        "def test_filter():\n",
        "  filter(lambda x: int(x) >= 0, ['12', '-2', '0'])\n",
        "print (test_filter())"
      ],
      "execution_count": 80,
      "outputs": [
        {
          "output_type": "stream",
          "text": [
            "None\n"
          ],
          "name": "stdout"
        }
      ]
    },
    {
      "metadata": {
        "id": "1GQ1sa8H-x4J",
        "colab_type": "code",
        "colab": {}
      },
      "cell_type": "code",
      "source": [
        "# ['hello', 'world'] -> ['world']\n",
        "filter(lambda x: x == 'world', ['hello', 'world'])\n",
        "   "
      ],
      "execution_count": 0,
      "outputs": []
    },
    {
      "metadata": {
        "id": "2FhvqrB2G971",
        "colab_type": "code",
        "colab": {}
      },
      "cell_type": "code",
      "source": [
        "# ['Stanford', 'Cal', 'UCLA'] -> ['Stanford']\n",
        "filter(lambda x: x[0] == 'S', ['Stanford', 'Cal', 'UCLA'])\n"
      ],
      "execution_count": 0,
      "outputs": []
    },
    {
      "metadata": {
        "id": "AQDC6sDwG-HB",
        "colab_type": "code",
        "colab": {}
      },
      "cell_type": "code",
      "source": [
        "# range(20) -> [0, 3, 5, 6, 9, 10, 12, 15, 18]\n",
        "filter(lambda n: n % 3 == 0 or n % 5 == 0, range(20))"
      ],
      "execution_count": 0,
      "outputs": []
    },
    {
      "metadata": {
        "id": "QmcfwXivIXM8",
        "colab_type": "text"
      },
      "cell_type": "markdown",
      "source": [
        "#**Ferramentas úteis da biblioteca padrão**\n",
        "\n",
        "**Módulo: functools**\n",
        "\n",
        "\n",
        "O módulo **functools** é um módulo da biblioteca padrão\" para funções de ordem superior; funções que atuam ou retornam outras funções. \"\n",
        "\n",
        "Existe um utilitário no módulo functools chamado **reduce**, que no Python 2.x era um recurso nativo da linguagem, mas desde então foi movido para este módulo. \n",
        "\n",
        "A função reduce é melhor explicada pela documentação oficial:"
      ]
    },
    {
      "metadata": {
        "id": "y-HyVnphIlNG",
        "colab_type": "code",
        "colab": {}
      },
      "cell_type": "code",
      "source": [
        "def reduce(function, iterable, initializer=None):\n",
        "    it = iter(iterable)\n",
        "    if initializer is None:\n",
        "        value = next(it)\n",
        "    else:\n",
        "        value = initializer\n",
        "    for element in it:\n",
        "        value = function(value, element)\n",
        "    return value"
      ],
      "execution_count": 0,
      "outputs": []
    },
    {
      "metadata": {
        "id": "Q5GnTVaEIuRV",
        "colab_type": "code",
        "colab": {}
      },
      "cell_type": "code",
      "source": [
        "from functools import singledispatch\n",
        "def fun(arg, verbose=False):\n",
        "  if verbose:\n",
        "    print(\"Let me just say,\", end=\" \")\n",
        "    print(arg)"
      ],
      "execution_count": 0,
      "outputs": []
    },
    {
      "metadata": {
        "id": "rmM8SAPqJBDU",
        "colab_type": "text"
      },
      "cell_type": "markdown",
      "source": [
        "**functools.reduce(function, iterable[, initializer])**"
      ]
    },
    {
      "metadata": {
        "id": "w-f8Dl3JJCN-",
        "colab_type": "text"
      },
      "cell_type": "markdown",
      "source": [
        "Aplique function de dois argumentos cumulativamente aos itens doiterable, da esquerda para a direita, de modo a reduzir o iterável para um valor único. Por exemplo, **functools.reduce (lambda x, y: x + y, [1, 2, 3, 4, 5])** calcula **((((1 + 2) + 3) + 4) + 5)** . O argumento da esquerda, x, é o valor acumulado e o argumento da direita,y, é o valor de atualização da sequência. Se o initializeropcional estiver presente, ele é colocado antes dos itens da sequência no cálculo e serve como padrão quando o iterável está vazio. Se **initializer** não é dado **eiterable** contém apenas um item, o primeiro item é retornado."
      ]
    },
    {
      "metadata": {
        "id": "nmFS6lAXJoPv",
        "colab_type": "text"
      },
      "cell_type": "markdown",
      "source": [
        "Use a função reduce para criar uma função que receba uma quantidade arbitrária de argumentos. Isso pode ser feito em uma linha do Python. Se nenhum número for fornecido para a função, você poderá retornar o valor 0."
      ]
    },
    {
      "metadata": {
        "id": "bE2bCjD8JpzQ",
        "colab_type": "code",
        "colab": {
          "base_uri": "https://localhost:8080/",
          "height": 102
        },
        "outputId": "afcd24c7-1619-4ef9-fd97-94fe2b257312"
      },
      "cell_type": "code",
      "source": [
        "from functools import reduce\n",
        "\n",
        "def reduce_sum(*nums):\n",
        "    pass # Your implementation here. Use `reduce`. This function can be implemented in only one line!\n",
        "\n",
        "print(reduce_sum(3, 5))\n",
        "print(reduce_sum(41, 106, 12))\n",
        "print(reduce_sum(1, 2, 6, 24, 120, 720))\n",
        "print(reduce_sum(3))\n",
        "print(reduce_sum())"
      ],
      "execution_count": 86,
      "outputs": [
        {
          "output_type": "stream",
          "text": [
            "None\n",
            "None\n",
            "None\n",
            "None\n",
            "None\n"
          ],
          "name": "stdout"
        }
      ]
    },
    {
      "metadata": {
        "id": "JdKRx3V9KGOy",
        "colab_type": "text"
      },
      "cell_type": "markdown",
      "source": [
        "**Módulo: operator**\n",
        "\n",
        "Freqüentemente, você pode se encontrar escrevendo funções anônimas semelhantes a **lambda x, y: x + y**. Isso parece um pouco redundante, já que o Python já sabe como adicionar dois valores juntos. Infelizmente, não podemos nos referir a + como uma função - é um elemento de sintaxe embutido. \n",
        "\n",
        "Para resolver este problema, o módulo operator exporta as funções que podem ser chamadas para cada operação integrada. Esses operadores podem simplificar alguns usos comuns de lambdas e devem ser usados sempre que possível, já que em quase todos os casos eles são mais rápidos do que construir e invocar repetidamente uma função lambda."
      ]
    },
    {
      "metadata": {
        "id": "pyKcWpphKP7s",
        "colab_type": "code",
        "colab": {}
      },
      "cell_type": "code",
      "source": [
        "import operator\n"
      ],
      "execution_count": 0,
      "outputs": []
    },
    {
      "metadata": {
        "id": "uqwXohG8KU4V",
        "colab_type": "code",
        "colab": {
          "base_uri": "https://localhost:8080/",
          "height": 34
        },
        "outputId": "271c6623-44e9-45e0-da74-052fcbb62f68"
      },
      "cell_type": "code",
      "source": [
        "operator.add(1, 2)  # => 3   #sum\n"
      ],
      "execution_count": 88,
      "outputs": [
        {
          "output_type": "execute_result",
          "data": {
            "text/plain": [
              "3"
            ]
          },
          "metadata": {
            "tags": []
          },
          "execution_count": 88
        }
      ]
    },
    {
      "metadata": {
        "id": "u3vgz7B2KVID",
        "colab_type": "code",
        "colab": {
          "base_uri": "https://localhost:8080/",
          "height": 34
        },
        "outputId": "71803683-2908-41f3-ae4f-86604ab1f513"
      },
      "cell_type": "code",
      "source": [
        "operator.mul(3, 10)  # => 30   # 3 x 10\n"
      ],
      "execution_count": 89,
      "outputs": [
        {
          "output_type": "execute_result",
          "data": {
            "text/plain": [
              "30"
            ]
          },
          "metadata": {
            "tags": []
          },
          "execution_count": 89
        }
      ]
    },
    {
      "metadata": {
        "id": "VB4VKmXPKVP_",
        "colab_type": "code",
        "colab": {
          "base_uri": "https://localhost:8080/",
          "height": 34
        },
        "outputId": "762bbae2-0db9-4086-ed6a-c0e0d0242292"
      },
      "cell_type": "code",
      "source": [
        "operator.pow(2, 3)  # => 8     # 2 ^^ 3\n"
      ],
      "execution_count": 90,
      "outputs": [
        {
          "output_type": "execute_result",
          "data": {
            "text/plain": [
              "8"
            ]
          },
          "metadata": {
            "tags": []
          },
          "execution_count": 90
        }
      ]
    },
    {
      "metadata": {
        "id": "TldCAxVVKVXI",
        "colab_type": "code",
        "colab": {
          "base_uri": "https://localhost:8080/",
          "height": 34
        },
        "outputId": "d00d80c7-a16a-4a26-d0c0-094340c369bb"
      },
      "cell_type": "code",
      "source": [
        "operator.itemgetter(1)([1, 2, 3]) # => 2"
      ],
      "execution_count": 91,
      "outputs": [
        {
          "output_type": "execute_result",
          "data": {
            "text/plain": [
              "2"
            ]
          },
          "metadata": {
            "tags": []
          },
          "execution_count": 91
        }
      ]
    },
    {
      "metadata": {
        "id": "f_an1jN3MuWB",
        "colab_type": "text"
      },
      "cell_type": "markdown",
      "source": [
        "Use **reduce** em conjunto com uma função do módulo **operator** para calcular os fatoriais em uma linha do Python. Por exemplo, para calcular **5!**, Tente computar **(((1 * 2) * 3) * 4) * 5** usandoreduce e o módulo operator!"
      ]
    },
    {
      "metadata": {
        "id": "R9NbUVCxM6Oh",
        "colab_type": "code",
        "colab": {}
      },
      "cell_type": "code",
      "source": [
        "import operator\n",
        "from functools import reduce\n",
        "\n",
        "def fact(n):\n",
        "print(fact(3))"
      ],
      "execution_count": 0,
      "outputs": []
    },
    {
      "metadata": {
        "id": "_a5Eiv0hNPcr",
        "colab_type": "code",
        "colab": {}
      },
      "cell_type": "code",
      "source": [
        "def testfact():\n",
        "    fact(3)\n",
        "    fact(7)"
      ],
      "execution_count": 0,
      "outputs": []
    },
    {
      "metadata": {
        "id": "TF19xH5rN12R",
        "colab_type": "code",
        "colab": {}
      },
      "cell_type": "code",
      "source": [
        "def fact(n):\n",
        "    return functools.reduce(operator.mul, range(1, n+1))\n",
        "def testfact():\n",
        "    fact(3)\n",
        "    fact(7)"
      ],
      "execution_count": 0,
      "outputs": []
    },
    {
      "metadata": {
        "id": "g2Sq2TALOL8R",
        "colab_type": "text"
      },
      "cell_type": "markdown",
      "source": [
        "\n",
        "**Comparação personalizada para sort, max, and min**\n",
        "\n",
        "Ao ordenar sequências ou encontrar o maior ou o menor elemento de uma sequência, o Python usa como padrão uma ordenação padrão para elementos de sequência de certos tipos. Por exemplo, uma coleção de strings será ordenada alfabeticamente (por valor ASCII), e uma coleção de tuplas será ordenada lexicograficamente.\n",
        "\n",
        "Às vezes, no entanto, precisamos classificar com base em um valor de chave personalizado. Em Python, podemos fornecer um **argumento key** opcional para **sorted(seq), max(seq), min(seq)**, ou **seq.sort()** para determinar os valores usados para ordenar elementos em uma seqüência.\n",
        "\n",
        "Leia os exemplos de código a seguir e veja se você pode justificar ao seu colega por que o Python produz as respostas que ele faz nesses casos."
      ]
    },
    {
      "metadata": {
        "id": "pgJVeFW-Odkq",
        "colab_type": "code",
        "colab": {
          "base_uri": "https://localhost:8080/",
          "height": 34
        },
        "outputId": "037861ab-d165-4905-93db-a315833f5ed0"
      },
      "cell_type": "code",
      "source": [
        "words = ['pear', 'cabbage', 'apple', 'bananas']\n",
        "min(words)  # => 'apple'"
      ],
      "execution_count": 102,
      "outputs": [
        {
          "output_type": "execute_result",
          "data": {
            "text/plain": [
              "'apple'"
            ]
          },
          "metadata": {
            "tags": []
          },
          "execution_count": 102
        }
      ]
    },
    {
      "metadata": {
        "id": "huaU4KrfOmJ0",
        "colab_type": "code",
        "colab": {
          "base_uri": "https://localhost:8080/",
          "height": 34
        },
        "outputId": "e4a0a679-4f56-48a2-bb30-ccb12e7d6cb7"
      },
      "cell_type": "code",
      "source": [
        "words = ['pear', 'cabbage', 'apple', 'bananas']\n",
        "words.sort(key=lambda s: s[-1])  # Alternatively, key=operator.itemgetter(-1)\n",
        "words  # => ['cabbage', 'apple', 'pear', 'bananas'] ... Why 'cabbage' > 'apple'?\n"
      ],
      "execution_count": 104,
      "outputs": [
        {
          "output_type": "execute_result",
          "data": {
            "text/plain": [
              "['cabbage', 'apple', 'pear', 'bananas']"
            ]
          },
          "metadata": {
            "tags": []
          },
          "execution_count": 104
        }
      ]
    },
    {
      "metadata": {
        "id": "o67rcy66OmRr",
        "colab_type": "code",
        "colab": {
          "base_uri": "https://localhost:8080/",
          "height": 34
        },
        "outputId": "06c2f543-8720-4ed4-edad-2abaf9fc148e"
      },
      "cell_type": "code",
      "source": [
        "words = ['pear', 'cabbage', 'apple', 'bananas']\n",
        "max(words, key=len)  # 'cabbage' ... Why not 'bananas'?\n"
      ],
      "execution_count": 105,
      "outputs": [
        {
          "output_type": "execute_result",
          "data": {
            "text/plain": [
              "'cabbage'"
            ]
          },
          "metadata": {
            "tags": []
          },
          "execution_count": 105
        }
      ]
    },
    {
      "metadata": {
        "id": "mbRzYEYIOmZL",
        "colab_type": "code",
        "colab": {
          "base_uri": "https://localhost:8080/",
          "height": 34
        },
        "outputId": "81823cd5-4274-4c8e-c61b-e1d8f386d9c9"
      },
      "cell_type": "code",
      "source": [
        "min(words, key=lambda s: s[1::2])  # What will this value be?"
      ],
      "execution_count": 106,
      "outputs": [
        {
          "output_type": "execute_result",
          "data": {
            "text/plain": [
              "'bananas'"
            ]
          },
          "metadata": {
            "tags": []
          },
          "execution_count": 106
        }
      ]
    },
    {
      "metadata": {
        "id": "t9OA1Y8CPvPt",
        "colab_type": "text"
      },
      "cell_type": "markdown",
      "source": [
        "Em seguida, escreva uma função para retornar as duas palavras com a maior pontuação alfanumérica de letras maiúsculas. \n",
        "\n",
        "Fornecemos uma função que calcula a pontuação alfanumérica das letras fornecidas, que deve ser uma string contendo apenas letras maiúsculas.\n",
        "\n",
        "Você pode querer usar **filter** em conjunto com quaisquer outras funções que vimos."
      ]
    },
    {
      "metadata": {
        "id": "h-7zIxjJQJut",
        "colab_type": "text"
      },
      "cell_type": "markdown",
      "source": [
        "\n",
        "Retorna a soma alfanumérica das letras em uma string, onde A == 1 e Z == 26.\n",
        "    \n",
        "    O argumento upper_letters deve ser composto inteiramente de letras maiúsculas."
      ]
    },
    {
      "metadata": {
        "id": "EPxHyNs7P65A",
        "colab_type": "code",
        "colab": {}
      },
      "cell_type": "code",
      "source": [
        "def alpha_score(upper_letters):\n",
        "  return sum(map(lambda l: 1 + ord(l) - ord('A'), upper_letters))\n",
        "print(alpha_score('ABC'))  # => 6 = 1 ('A') + 2 ('B') + 3 ('C')\n"
      ],
      "execution_count": 0,
      "outputs": []
    },
    {
      "metadata": {
        "id": "YnqAm7kRQziM",
        "colab_type": "code",
        "colab": {}
      },
      "cell_type": "code",
      "source": [
        "def highest_alphanumeric_score():\n",
        "    def alpha_score(upper_letters):\n",
        "      return sum(map(lambda l: 1 + ord(l) - ord('A'), upper_letters))"
      ],
      "execution_count": 0,
      "outputs": []
    },
    {
      "metadata": {
        "id": "_oYfO1k5QVOK",
        "colab_type": "text"
      },
      "cell_type": "markdown",
      "source": [
        "Retorne as duas palavras cuja pontuação alfanumérica de letras maiúsculas é a mais alta."
      ]
    },
    {
      "metadata": {
        "id": "_lGWP5sOQQZo",
        "colab_type": "code",
        "colab": {}
      },
      "cell_type": "code",
      "source": [
        "def two_best(words):\n",
        "  two_best(['hEllO', 'wOrLD', 'i', 'aM', 'PyThOn'])\n",
        "print(two_best(words))"
      ],
      "execution_count": 0,
      "outputs": []
    },
    {
      "metadata": {
        "id": "Rwa2x2fRRH5S",
        "colab_type": "code",
        "colab": {}
      },
      "cell_type": "code",
      "source": [
        "def two_best(words):\n",
        "        words.sort(key=lambda word: alpha_score(filter(str.isupper, word)), reverse=True)\n",
        "        return words[:2]\n",
        "    print(two_best(['hEllO', 'wOrLD', 'i', 'aM', 'PyThOn']))"
      ],
      "execution_count": 0,
      "outputs": []
    },
    {
      "metadata": {
        "id": "_V-WUBD5ROEw",
        "colab_type": "code",
        "colab": {}
      },
      "cell_type": "code",
      "source": [
        "def highest_alphanumeric_score():\n",
        "    def alpha_score(upper_letters):\n",
        "      return sum(map(lambda l: 1 + ord(l) - ord('A'), upper_letters))\n",
        "    def two_best(words):\n",
        "        words.sort(key=lambda word: alpha_score(filter(str.isupper, word)), reverse=True)\n",
        "        return words[:2]\n",
        "      print(two_best(['hEllO', 'wOrLD', 'i', 'aM', 'PyThOn']))"
      ],
      "execution_count": 0,
      "outputs": []
    },
    {
      "metadata": {
        "id": "dIzoa6nCQAMn",
        "colab_type": "text"
      },
      "cell_type": "markdown",
      "source": [
        ""
      ]
    }
  ]
}